{
 "cells": [
  {
   "cell_type": "code",
   "execution_count": 1,
   "metadata": {
    "ExecuteTime": {
     "end_time": "2021-01-13T17:14:08.279150Z",
     "start_time": "2021-01-13T17:14:07.227891Z"
    }
   },
   "outputs": [],
   "source": [
    "import numpy as np\n",
    "import pandas as pd "
   ]
  },
  {
   "cell_type": "code",
   "execution_count": 3,
   "metadata": {
    "ExecuteTime": {
     "end_time": "2021-01-13T17:14:20.255668Z",
     "start_time": "2021-01-13T17:14:20.225790Z"
    }
   },
   "outputs": [
    {
     "name": "stdout",
     "output_type": "stream",
     "text": [
      "D:\\DATA SCIENCE\\backend-MovieRecsys\\data\n"
     ]
    }
   ],
   "source": [
    "%cd ../data "
   ]
  },
  {
   "cell_type": "code",
   "execution_count": 4,
   "metadata": {
    "ExecuteTime": {
     "end_time": "2021-01-13T17:14:34.279784Z",
     "start_time": "2021-01-13T17:14:33.443563Z"
    }
   },
   "outputs": [],
   "source": [
    "names = pd.read_csv(\"names.csv\")"
   ]
  },
  {
   "cell_type": "code",
   "execution_count": 5,
   "metadata": {
    "ExecuteTime": {
     "end_time": "2021-01-13T17:14:48.038468Z",
     "start_time": "2021-01-13T17:14:47.862649Z"
    }
   },
   "outputs": [],
   "source": [
    "movies = pd.read_csv(\"movies.csv\")"
   ]
  },
  {
   "cell_type": "code",
   "execution_count": 10,
   "metadata": {
    "ExecuteTime": {
     "end_time": "2021-01-13T17:17:10.309382Z",
     "start_time": "2021-01-13T17:17:10.011650Z"
    }
   },
   "outputs": [],
   "source": [
    "movie_dict={}\n",
    "for i in movies.index:\n",
    "    movie_dict[movies['tconst'][i]] = movies['weight_average'][i] \n",
    "    "
   ]
  },
  {
   "cell_type": "code",
   "execution_count": 11,
   "metadata": {
    "ExecuteTime": {
     "end_time": "2021-01-13T17:17:10.922580Z",
     "start_time": "2021-01-13T17:17:10.905539Z"
    }
   },
   "outputs": [
    {
     "data": {
      "text/plain": [
       "6000"
      ]
     },
     "execution_count": 11,
     "metadata": {},
     "output_type": "execute_result"
    }
   ],
   "source": [
    "len(movie_dict)"
   ]
  },
  {
   "cell_type": "code",
   "execution_count": 27,
   "metadata": {
    "ExecuteTime": {
     "end_time": "2021-01-13T17:24:26.518528Z",
     "start_time": "2021-01-13T17:24:21.159937Z"
    }
   },
   "outputs": [
    {
     "data": {
      "text/html": [
       "<div>\n",
       "<style scoped>\n",
       "    .dataframe tbody tr th:only-of-type {\n",
       "        vertical-align: middle;\n",
       "    }\n",
       "\n",
       "    .dataframe tbody tr th {\n",
       "        vertical-align: top;\n",
       "    }\n",
       "\n",
       "    .dataframe thead th {\n",
       "        text-align: right;\n",
       "    }\n",
       "</style>\n",
       "<table border=\"1\" class=\"dataframe\">\n",
       "  <thead>\n",
       "    <tr style=\"text-align: right;\">\n",
       "      <th></th>\n",
       "      <th>Unnamed: 0</th>\n",
       "      <th>nconst</th>\n",
       "      <th>primaryName</th>\n",
       "      <th>knownForTitles</th>\n",
       "    </tr>\n",
       "  </thead>\n",
       "  <tbody>\n",
       "    <tr>\n",
       "      <td>20</td>\n",
       "      <td>20</td>\n",
       "      <td>nm0029244</td>\n",
       "      <td>victor andré</td>\n",
       "      <td>tt0000417</td>\n",
       "    </tr>\n",
       "    <tr>\n",
       "      <td>21</td>\n",
       "      <td>21</td>\n",
       "      <td>nm1215996</td>\n",
       "      <td>brunnet</td>\n",
       "      <td>tt0000417</td>\n",
       "    </tr>\n",
       "    <tr>\n",
       "      <td>138</td>\n",
       "      <td>138</td>\n",
       "      <td>nm0000634</td>\n",
       "      <td>peter sellers</td>\n",
       "      <td>tt0075066,tt0057012,tt0078841,tt0057413</td>\n",
       "    </tr>\n",
       "    <tr>\n",
       "      <td>170</td>\n",
       "      <td>170</td>\n",
       "      <td>nm0074788</td>\n",
       "      <td>henry bergman</td>\n",
       "      <td>tt0021749,tt0018773,tt0015864,tt0027977</td>\n",
       "    </tr>\n",
       "    <tr>\n",
       "      <td>293</td>\n",
       "      <td>293</td>\n",
       "      <td>nm0325444</td>\n",
       "      <td>john golden</td>\n",
       "      <td>tt0096463,tt0109348,tt0103939,tt0138304</td>\n",
       "    </tr>\n",
       "  </tbody>\n",
       "</table>\n",
       "</div>"
      ],
      "text/plain": [
       "     Unnamed: 0     nconst    primaryName  \\\n",
       "20           20  nm0029244   victor andré   \n",
       "21           21  nm1215996        brunnet   \n",
       "138         138  nm0000634  peter sellers   \n",
       "170         170  nm0074788  henry bergman   \n",
       "293         293  nm0325444    john golden   \n",
       "\n",
       "                              knownForTitles  \n",
       "20                                 tt0000417  \n",
       "21                                 tt0000417  \n",
       "138  tt0075066,tt0057012,tt0078841,tt0057413  \n",
       "170  tt0021749,tt0018773,tt0015864,tt0027977  \n",
       "293  tt0096463,tt0109348,tt0103939,tt0138304  "
      ]
     },
     "execution_count": 27,
     "metadata": {},
     "output_type": "execute_result"
    }
   ],
   "source": [
    "ans = 0\n",
    "l = {}\n",
    "for i in names.index:\n",
    "    m = names['knownForTitles'][i]\n",
    "    m = m.split(\",\")\n",
    "    s = 0 \n",
    "    for k in m:\n",
    "        try:\n",
    "            s+= float(movie_dict[k]) \n",
    "        except:\n",
    "            s+=0\n",
    "    s = s/len(m)\n",
    "    if(s>7):\n",
    "        ans+=1\n",
    "        l[i] = names.iloc[i]\n",
    "n = pd.DataFrame.from_dict(l,orient=\"index\",columns = names.columns)\n",
    "n.head()"
   ]
  },
  {
   "cell_type": "code",
   "execution_count": 36,
   "metadata": {
    "ExecuteTime": {
     "end_time": "2021-01-13T17:26:35.501895Z",
     "start_time": "2021-01-13T17:26:35.276842Z"
    }
   },
   "outputs": [
    {
     "data": {
      "text/html": [
       "<div>\n",
       "<style scoped>\n",
       "    .dataframe tbody tr th:only-of-type {\n",
       "        vertical-align: middle;\n",
       "    }\n",
       "\n",
       "    .dataframe tbody tr th {\n",
       "        vertical-align: top;\n",
       "    }\n",
       "\n",
       "    .dataframe thead th {\n",
       "        text-align: right;\n",
       "    }\n",
       "</style>\n",
       "<table border=\"1\" class=\"dataframe\">\n",
       "  <thead>\n",
       "    <tr style=\"text-align: right;\">\n",
       "      <th></th>\n",
       "      <th>nconst</th>\n",
       "      <th>primaryName</th>\n",
       "      <th>knownForTitles</th>\n",
       "    </tr>\n",
       "  </thead>\n",
       "  <tbody>\n",
       "    <tr>\n",
       "      <td>0</td>\n",
       "      <td>nm0029244</td>\n",
       "      <td>victor andré</td>\n",
       "      <td>tt0000417</td>\n",
       "    </tr>\n",
       "    <tr>\n",
       "      <td>1</td>\n",
       "      <td>nm1215996</td>\n",
       "      <td>brunnet</td>\n",
       "      <td>tt0000417</td>\n",
       "    </tr>\n",
       "    <tr>\n",
       "      <td>2</td>\n",
       "      <td>nm0000634</td>\n",
       "      <td>peter sellers</td>\n",
       "      <td>tt0075066,tt0057012,tt0078841,tt0057413</td>\n",
       "    </tr>\n",
       "    <tr>\n",
       "      <td>3</td>\n",
       "      <td>nm0074788</td>\n",
       "      <td>henry bergman</td>\n",
       "      <td>tt0021749,tt0018773,tt0015864,tt0027977</td>\n",
       "    </tr>\n",
       "    <tr>\n",
       "      <td>4</td>\n",
       "      <td>nm0325444</td>\n",
       "      <td>john golden</td>\n",
       "      <td>tt0096463,tt0109348,tt0103939,tt0138304</td>\n",
       "    </tr>\n",
       "    <tr>\n",
       "      <td>...</td>\n",
       "      <td>...</td>\n",
       "      <td>...</td>\n",
       "      <td>...</td>\n",
       "    </tr>\n",
       "    <tr>\n",
       "      <td>6076</td>\n",
       "      <td>nm1239705</td>\n",
       "      <td>cecelia antoinette</td>\n",
       "      <td>tt0203259,tt0439100,tt1612774,tt1068680</td>\n",
       "    </tr>\n",
       "    <tr>\n",
       "      <td>6077</td>\n",
       "      <td>nm5494360</td>\n",
       "      <td>hayley perkins</td>\n",
       "      <td>tt0433035,tt1483013,tt1731141,tt3450958</td>\n",
       "    </tr>\n",
       "    <tr>\n",
       "      <td>6078</td>\n",
       "      <td>nm0859311</td>\n",
       "      <td>oliver thomas</td>\n",
       "      <td>tt0133240,tt0230011,tt3794354,tt0892769</td>\n",
       "    </tr>\n",
       "    <tr>\n",
       "      <td>6079</td>\n",
       "      <td>nm0072715</td>\n",
       "      <td>michael bentt</td>\n",
       "      <td>tt0248667,tt0329717,tt0405159,tt0369339</td>\n",
       "    </tr>\n",
       "    <tr>\n",
       "      <td>6080</td>\n",
       "      <td>nm0877757</td>\n",
       "      <td>melanie turner</td>\n",
       "      <td>tt0134847,tt0120737,tt0167260,tt0167261</td>\n",
       "    </tr>\n",
       "  </tbody>\n",
       "</table>\n",
       "<p>6081 rows × 3 columns</p>\n",
       "</div>"
      ],
      "text/plain": [
       "         nconst         primaryName                           knownForTitles\n",
       "0     nm0029244        victor andré                                tt0000417\n",
       "1     nm1215996             brunnet                                tt0000417\n",
       "2     nm0000634       peter sellers  tt0075066,tt0057012,tt0078841,tt0057413\n",
       "3     nm0074788       henry bergman  tt0021749,tt0018773,tt0015864,tt0027977\n",
       "4     nm0325444         john golden  tt0096463,tt0109348,tt0103939,tt0138304\n",
       "...         ...                 ...                                      ...\n",
       "6076  nm1239705  cecelia antoinette  tt0203259,tt0439100,tt1612774,tt1068680\n",
       "6077  nm5494360      hayley perkins  tt0433035,tt1483013,tt1731141,tt3450958\n",
       "6078  nm0859311       oliver thomas  tt0133240,tt0230011,tt3794354,tt0892769\n",
       "6079  nm0072715       michael bentt  tt0248667,tt0329717,tt0405159,tt0369339\n",
       "6080  nm0877757      melanie turner  tt0134847,tt0120737,tt0167260,tt0167261\n",
       "\n",
       "[6081 rows x 3 columns]"
      ]
     },
     "execution_count": 36,
     "metadata": {},
     "output_type": "execute_result"
    }
   ],
   "source": [
    "n = n.reset_index().drop(['index','Unnamed: 0'],axis=1)\n",
    "n "
   ]
  },
  {
   "cell_type": "code",
   "execution_count": 14,
   "metadata": {
    "ExecuteTime": {
     "end_time": "2021-01-13T17:18:54.313638Z",
     "start_time": "2021-01-13T17:18:54.167615Z"
    }
   },
   "outputs": [
    {
     "data": {
      "text/html": [
       "<div>\n",
       "<style scoped>\n",
       "    .dataframe tbody tr th:only-of-type {\n",
       "        vertical-align: middle;\n",
       "    }\n",
       "\n",
       "    .dataframe tbody tr th {\n",
       "        vertical-align: top;\n",
       "    }\n",
       "\n",
       "    .dataframe thead th {\n",
       "        text-align: right;\n",
       "    }\n",
       "</style>\n",
       "<table border=\"1\" class=\"dataframe\">\n",
       "  <thead>\n",
       "    <tr style=\"text-align: right;\">\n",
       "      <th></th>\n",
       "      <th>Unnamed: 0</th>\n",
       "      <th>nconst</th>\n",
       "      <th>primaryName</th>\n",
       "      <th>knownForTitles</th>\n",
       "    </tr>\n",
       "  </thead>\n",
       "  <tbody>\n",
       "    <tr>\n",
       "      <td>0</td>\n",
       "      <td>0</td>\n",
       "      <td>nm0005690</td>\n",
       "      <td>william k.l. dickson</td>\n",
       "      <td>tt0219560,tt1496763,tt1428455,tt0308254</td>\n",
       "    </tr>\n",
       "    <tr>\n",
       "      <td>1</td>\n",
       "      <td>1</td>\n",
       "      <td>nm0721526</td>\n",
       "      <td>émile reynaud</td>\n",
       "      <td>tt0413219,tt2184201,tt2184231,tt0000003</td>\n",
       "    </tr>\n",
       "    <tr>\n",
       "      <td>2</td>\n",
       "      <td>2</td>\n",
       "      <td>nm5442194</td>\n",
       "      <td>julien pappé</td>\n",
       "      <td>tt0000003</td>\n",
       "    </tr>\n",
       "    <tr>\n",
       "      <td>3</td>\n",
       "      <td>3</td>\n",
       "      <td>nm0443482</td>\n",
       "      <td>charles kayser</td>\n",
       "      <td>tt0000005</td>\n",
       "    </tr>\n",
       "    <tr>\n",
       "      <td>4</td>\n",
       "      <td>4</td>\n",
       "      <td>nm0653042</td>\n",
       "      <td>john ott</td>\n",
       "      <td>tt0000005</td>\n",
       "    </tr>\n",
       "  </tbody>\n",
       "</table>\n",
       "</div>"
      ],
      "text/plain": [
       "   Unnamed: 0     nconst           primaryName  \\\n",
       "0           0  nm0005690  william k.l. dickson   \n",
       "1           1  nm0721526         émile reynaud   \n",
       "2           2  nm5442194          julien pappé   \n",
       "3           3  nm0443482        charles kayser   \n",
       "4           4  nm0653042              john ott   \n",
       "\n",
       "                            knownForTitles  \n",
       "0  tt0219560,tt1496763,tt1428455,tt0308254  \n",
       "1  tt0413219,tt2184201,tt2184231,tt0000003  \n",
       "2                                tt0000003  \n",
       "3                                tt0000005  \n",
       "4                                tt0000005  "
      ]
     },
     "execution_count": 14,
     "metadata": {},
     "output_type": "execute_result"
    }
   ],
   "source": [
    "names.head()"
   ]
  },
  {
   "cell_type": "code",
   "execution_count": 37,
   "metadata": {
    "ExecuteTime": {
     "end_time": "2021-01-13T17:27:00.161665Z",
     "start_time": "2021-01-13T17:26:59.870408Z"
    }
   },
   "outputs": [],
   "source": [
    "n.to_csv(\"small_names.csv\")"
   ]
  },
  {
   "cell_type": "code",
   "execution_count": null,
   "metadata": {},
   "outputs": [],
   "source": []
  }
 ],
 "metadata": {
  "kernelspec": {
   "display_name": "Python 3",
   "language": "python",
   "name": "python3"
  },
  "language_info": {
   "codemirror_mode": {
    "name": "ipython",
    "version": 3
   },
   "file_extension": ".py",
   "mimetype": "text/x-python",
   "name": "python",
   "nbconvert_exporter": "python",
   "pygments_lexer": "ipython3",
   "version": "3.7.4"
  },
  "varInspector": {
   "cols": {
    "lenName": 16,
    "lenType": 16,
    "lenVar": 40
   },
   "kernels_config": {
    "python": {
     "delete_cmd_postfix": "",
     "delete_cmd_prefix": "del ",
     "library": "var_list.py",
     "varRefreshCmd": "print(var_dic_list())"
    },
    "r": {
     "delete_cmd_postfix": ") ",
     "delete_cmd_prefix": "rm(",
     "library": "var_list.r",
     "varRefreshCmd": "cat(var_dic_list()) "
    }
   },
   "types_to_exclude": [
    "module",
    "function",
    "builtin_function_or_method",
    "instance",
    "_Feature"
   ],
   "window_display": false
  }
 },
 "nbformat": 4,
 "nbformat_minor": 2
}

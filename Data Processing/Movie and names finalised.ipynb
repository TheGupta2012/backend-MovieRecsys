{
 "cells": [
  {
   "cell_type": "code",
   "execution_count": 1,
   "metadata": {},
   "outputs": [],
   "source": [
    "import pandas as pd\n",
    "import numpy as np\n",
    "import seaborn as sns\n",
    "import matplotlib.pyplot as plt\n",
    "import time\n",
    "import feather\n",
    "import math"
   ]
  },
  {
   "cell_type": "code",
   "execution_count": 2,
   "metadata": {},
   "outputs": [],
   "source": [
    "%matplotlib inline"
   ]
  },
  {
   "cell_type": "code",
   "execution_count": 3,
   "metadata": {},
   "outputs": [
    {
     "data": {
      "text/plain": [
       "'/notebooks/IMDb'"
      ]
     },
     "execution_count": 3,
     "metadata": {},
     "output_type": "execute_result"
    }
   ],
   "source": [
    "%pwd"
   ]
  },
  {
   "cell_type": "code",
   "execution_count": 3,
   "metadata": {},
   "outputs": [
    {
     "name": "stdout",
     "output_type": "stream",
     "text": [
      "/storage/Recsys IMDb DATA/feather_data\n"
     ]
    }
   ],
   "source": [
    "%cd /notebooks/storage/\"Recsys IMDb DATA\"/feather_data"
   ]
  },
  {
   "cell_type": "code",
   "execution_count": 5,
   "metadata": {},
   "outputs": [],
   "source": [
    "movies = feather.read_dataframe(\"movies\")"
   ]
  },
  {
   "cell_type": "code",
   "execution_count": 11,
   "metadata": {},
   "outputs": [],
   "source": [
    "ids = movies['tconst']\n",
    "id_dict = {}\n",
    "for i in ids:\n",
    "    id_dict[i] = True"
   ]
  },
  {
   "cell_type": "code",
   "execution_count": 6,
   "metadata": {},
   "outputs": [
    {
     "data": {
      "text/html": [
       "<div>\n",
       "<style scoped>\n",
       "    .dataframe tbody tr th:only-of-type {\n",
       "        vertical-align: middle;\n",
       "    }\n",
       "\n",
       "    .dataframe tbody tr th {\n",
       "        vertical-align: top;\n",
       "    }\n",
       "\n",
       "    .dataframe thead th {\n",
       "        text-align: right;\n",
       "    }\n",
       "</style>\n",
       "<table border=\"1\" class=\"dataframe\">\n",
       "  <thead>\n",
       "    <tr style=\"text-align: right;\">\n",
       "      <th></th>\n",
       "      <th>tconst</th>\n",
       "      <th>titleType</th>\n",
       "      <th>primaryTitle</th>\n",
       "      <th>isAdult</th>\n",
       "      <th>startYear</th>\n",
       "      <th>endYear</th>\n",
       "      <th>genres</th>\n",
       "      <th>averageRating</th>\n",
       "      <th>numVotes</th>\n",
       "      <th>directors</th>\n",
       "    </tr>\n",
       "  </thead>\n",
       "  <tbody>\n",
       "    <tr>\n",
       "      <th>0</th>\n",
       "      <td>tt0111161</td>\n",
       "      <td>movie</td>\n",
       "      <td>The Shawshank Redemption</td>\n",
       "      <td>0</td>\n",
       "      <td>1994</td>\n",
       "      <td>\\N</td>\n",
       "      <td>Drama</td>\n",
       "      <td>9.3</td>\n",
       "      <td>2307975</td>\n",
       "      <td>nm0001104</td>\n",
       "    </tr>\n",
       "    <tr>\n",
       "      <th>1</th>\n",
       "      <td>tt0468569</td>\n",
       "      <td>movie</td>\n",
       "      <td>The Dark Knight</td>\n",
       "      <td>0</td>\n",
       "      <td>2008</td>\n",
       "      <td>\\N</td>\n",
       "      <td>Action,Crime,Drama</td>\n",
       "      <td>9.0</td>\n",
       "      <td>2270954</td>\n",
       "      <td>nm0634240</td>\n",
       "    </tr>\n",
       "    <tr>\n",
       "      <th>2</th>\n",
       "      <td>tt1375666</td>\n",
       "      <td>movie</td>\n",
       "      <td>Inception</td>\n",
       "      <td>0</td>\n",
       "      <td>2010</td>\n",
       "      <td>\\N</td>\n",
       "      <td>Action,Adventure,Sci-Fi</td>\n",
       "      <td>8.8</td>\n",
       "      <td>2033048</td>\n",
       "      <td>nm0634240</td>\n",
       "    </tr>\n",
       "    <tr>\n",
       "      <th>3</th>\n",
       "      <td>tt0137523</td>\n",
       "      <td>movie</td>\n",
       "      <td>Fight Club</td>\n",
       "      <td>0</td>\n",
       "      <td>1999</td>\n",
       "      <td>\\N</td>\n",
       "      <td>Drama</td>\n",
       "      <td>8.8</td>\n",
       "      <td>1828694</td>\n",
       "      <td>nm0000399</td>\n",
       "    </tr>\n",
       "    <tr>\n",
       "      <th>4</th>\n",
       "      <td>tt0944947</td>\n",
       "      <td>tvSeries</td>\n",
       "      <td>Game of Thrones</td>\n",
       "      <td>0</td>\n",
       "      <td>2011</td>\n",
       "      <td>2019</td>\n",
       "      <td>Action,Adventure,Drama</td>\n",
       "      <td>9.3</td>\n",
       "      <td>1728924</td>\n",
       "      <td>nm0755261,nm0638354,nm0851930,nm0336241,nm0787...</td>\n",
       "    </tr>\n",
       "    <tr>\n",
       "      <th>...</th>\n",
       "      <td>...</td>\n",
       "      <td>...</td>\n",
       "      <td>...</td>\n",
       "      <td>...</td>\n",
       "      <td>...</td>\n",
       "      <td>...</td>\n",
       "      <td>...</td>\n",
       "      <td>...</td>\n",
       "      <td>...</td>\n",
       "      <td>...</td>\n",
       "    </tr>\n",
       "    <tr>\n",
       "      <th>49995</th>\n",
       "      <td>tt0063231</td>\n",
       "      <td>movie</td>\n",
       "      <td>Live a Little, Love a Little</td>\n",
       "      <td>0</td>\n",
       "      <td>1968</td>\n",
       "      <td>\\N</td>\n",
       "      <td>Comedy,Musical,Romance</td>\n",
       "      <td>5.9</td>\n",
       "      <td>1461</td>\n",
       "      <td>nm0851537</td>\n",
       "    </tr>\n",
       "    <tr>\n",
       "      <th>49996</th>\n",
       "      <td>tt0455135</td>\n",
       "      <td>movie</td>\n",
       "      <td>The Eye 3</td>\n",
       "      <td>0</td>\n",
       "      <td>2005</td>\n",
       "      <td>\\N</td>\n",
       "      <td>Comedy,Horror</td>\n",
       "      <td>4.7</td>\n",
       "      <td>1834</td>\n",
       "      <td>nm0161152,nm0659380</td>\n",
       "    </tr>\n",
       "    <tr>\n",
       "      <th>49997</th>\n",
       "      <td>tt2182427</td>\n",
       "      <td>tvSeries</td>\n",
       "      <td>Bering Sea Gold</td>\n",
       "      <td>0</td>\n",
       "      <td>2012</td>\n",
       "      <td>\\N</td>\n",
       "      <td>Reality-TV</td>\n",
       "      <td>6.6</td>\n",
       "      <td>1306</td>\n",
       "      <td>nm2728013</td>\n",
       "    </tr>\n",
       "    <tr>\n",
       "      <th>49998</th>\n",
       "      <td>tt0062113</td>\n",
       "      <td>movie</td>\n",
       "      <td>Peppermint Frappé</td>\n",
       "      <td>0</td>\n",
       "      <td>1967</td>\n",
       "      <td>\\N</td>\n",
       "      <td>Drama,Thriller</td>\n",
       "      <td>7.1</td>\n",
       "      <td>1214</td>\n",
       "      <td>nm0767022</td>\n",
       "    </tr>\n",
       "    <tr>\n",
       "      <th>49999</th>\n",
       "      <td>tt0701116</td>\n",
       "      <td>tvEpisode</td>\n",
       "      <td>Homer the Moe</td>\n",
       "      <td>0</td>\n",
       "      <td>2001</td>\n",
       "      <td>\\N</td>\n",
       "      <td>Animation,Comedy</td>\n",
       "      <td>7.1</td>\n",
       "      <td>1214</td>\n",
       "      <td>nm0714114,nm1097655</td>\n",
       "    </tr>\n",
       "  </tbody>\n",
       "</table>\n",
       "<p>50000 rows × 10 columns</p>\n",
       "</div>"
      ],
      "text/plain": [
       "          tconst  titleType                  primaryTitle  isAdult startYear  \\\n",
       "0      tt0111161      movie      The Shawshank Redemption        0      1994   \n",
       "1      tt0468569      movie               The Dark Knight        0      2008   \n",
       "2      tt1375666      movie                     Inception        0      2010   \n",
       "3      tt0137523      movie                    Fight Club        0      1999   \n",
       "4      tt0944947   tvSeries               Game of Thrones        0      2011   \n",
       "...          ...        ...                           ...      ...       ...   \n",
       "49995  tt0063231      movie  Live a Little, Love a Little        0      1968   \n",
       "49996  tt0455135      movie                     The Eye 3        0      2005   \n",
       "49997  tt2182427   tvSeries               Bering Sea Gold        0      2012   \n",
       "49998  tt0062113      movie             Peppermint Frappé        0      1967   \n",
       "49999  tt0701116  tvEpisode                 Homer the Moe        0      2001   \n",
       "\n",
       "      endYear                   genres  averageRating  numVotes  \\\n",
       "0          \\N                    Drama            9.3   2307975   \n",
       "1          \\N       Action,Crime,Drama            9.0   2270954   \n",
       "2          \\N  Action,Adventure,Sci-Fi            8.8   2033048   \n",
       "3          \\N                    Drama            8.8   1828694   \n",
       "4        2019   Action,Adventure,Drama            9.3   1728924   \n",
       "...       ...                      ...            ...       ...   \n",
       "49995      \\N   Comedy,Musical,Romance            5.9      1461   \n",
       "49996      \\N            Comedy,Horror            4.7      1834   \n",
       "49997      \\N               Reality-TV            6.6      1306   \n",
       "49998      \\N           Drama,Thriller            7.1      1214   \n",
       "49999      \\N         Animation,Comedy            7.1      1214   \n",
       "\n",
       "                                               directors  \n",
       "0                                              nm0001104  \n",
       "1                                              nm0634240  \n",
       "2                                              nm0634240  \n",
       "3                                              nm0000399  \n",
       "4      nm0755261,nm0638354,nm0851930,nm0336241,nm0787...  \n",
       "...                                                  ...  \n",
       "49995                                          nm0851537  \n",
       "49996                                nm0161152,nm0659380  \n",
       "49997                                          nm2728013  \n",
       "49998                                          nm0767022  \n",
       "49999                                nm0714114,nm1097655  \n",
       "\n",
       "[50000 rows x 10 columns]"
      ]
     },
     "execution_count": 6,
     "metadata": {},
     "output_type": "execute_result"
    }
   ],
   "source": [
    "movies"
   ]
  },
  {
   "cell_type": "markdown",
   "metadata": {},
   "source": [
    "# Transform directors\n",
    "- Truncating the directors and asscociating with the movies\n",
    "- <font color = 'red'> DON'T run the cells again as the data has already been formatted!</font>"
   ]
  },
  {
   "cell_type": "code",
   "execution_count": 12,
   "metadata": {},
   "outputs": [],
   "source": [
    "director = feather.read_dataframe(\"director\")"
   ]
  },
  {
   "cell_type": "code",
   "execution_count": 14,
   "metadata": {},
   "outputs": [
    {
     "data": {
      "text/html": [
       "<div>\n",
       "<style scoped>\n",
       "    .dataframe tbody tr th:only-of-type {\n",
       "        vertical-align: middle;\n",
       "    }\n",
       "\n",
       "    .dataframe tbody tr th {\n",
       "        vertical-align: top;\n",
       "    }\n",
       "\n",
       "    .dataframe thead th {\n",
       "        text-align: right;\n",
       "    }\n",
       "</style>\n",
       "<table border=\"1\" class=\"dataframe\">\n",
       "  <thead>\n",
       "    <tr style=\"text-align: right;\">\n",
       "      <th></th>\n",
       "      <th>tconst</th>\n",
       "      <th>directors</th>\n",
       "    </tr>\n",
       "  </thead>\n",
       "  <tbody>\n",
       "    <tr>\n",
       "      <th>0</th>\n",
       "      <td>tt0000001</td>\n",
       "      <td>nm0005690</td>\n",
       "    </tr>\n",
       "    <tr>\n",
       "      <th>1</th>\n",
       "      <td>tt0000002</td>\n",
       "      <td>nm0721526</td>\n",
       "    </tr>\n",
       "    <tr>\n",
       "      <th>2</th>\n",
       "      <td>tt0000003</td>\n",
       "      <td>nm0721526</td>\n",
       "    </tr>\n",
       "    <tr>\n",
       "      <th>3</th>\n",
       "      <td>tt0000004</td>\n",
       "      <td>nm0721526</td>\n",
       "    </tr>\n",
       "    <tr>\n",
       "      <th>4</th>\n",
       "      <td>tt0000005</td>\n",
       "      <td>nm0005690</td>\n",
       "    </tr>\n",
       "    <tr>\n",
       "      <th>...</th>\n",
       "      <td>...</td>\n",
       "      <td>...</td>\n",
       "    </tr>\n",
       "    <tr>\n",
       "      <th>7360382</th>\n",
       "      <td>tt9916848</td>\n",
       "      <td>nm5519454,nm5519375</td>\n",
       "    </tr>\n",
       "    <tr>\n",
       "      <th>7360383</th>\n",
       "      <td>tt9916850</td>\n",
       "      <td>nm5519375,nm5519454</td>\n",
       "    </tr>\n",
       "    <tr>\n",
       "      <th>7360384</th>\n",
       "      <td>tt9916852</td>\n",
       "      <td>nm5519454,nm5519375</td>\n",
       "    </tr>\n",
       "    <tr>\n",
       "      <th>7360385</th>\n",
       "      <td>tt9916856</td>\n",
       "      <td>nm10538645</td>\n",
       "    </tr>\n",
       "    <tr>\n",
       "      <th>7360386</th>\n",
       "      <td>tt9916880</td>\n",
       "      <td>nm0996406</td>\n",
       "    </tr>\n",
       "  </tbody>\n",
       "</table>\n",
       "<p>7360387 rows × 2 columns</p>\n",
       "</div>"
      ],
      "text/plain": [
       "            tconst            directors\n",
       "0        tt0000001            nm0005690\n",
       "1        tt0000002            nm0721526\n",
       "2        tt0000003            nm0721526\n",
       "3        tt0000004            nm0721526\n",
       "4        tt0000005            nm0005690\n",
       "...            ...                  ...\n",
       "7360382  tt9916848  nm5519454,nm5519375\n",
       "7360383  tt9916850  nm5519375,nm5519454\n",
       "7360384  tt9916852  nm5519454,nm5519375\n",
       "7360385  tt9916856           nm10538645\n",
       "7360386  tt9916880            nm0996406\n",
       "\n",
       "[7360387 rows x 2 columns]"
      ]
     },
     "execution_count": 14,
     "metadata": {},
     "output_type": "execute_result"
    }
   ],
   "source": [
    "director"
   ]
  },
  {
   "cell_type": "code",
   "execution_count": 18,
   "metadata": {},
   "outputs": [],
   "source": [
    "data_dir ={}\n",
    "for i in director.index:\n",
    "    movie = director['tconst'][i]\n",
    "    if movie in id_dict:\n",
    "        data_dir[i] = director.iloc[i]"
   ]
  },
  {
   "cell_type": "code",
   "execution_count": 19,
   "metadata": {},
   "outputs": [],
   "source": [
    "director_tokeep = pd.DataFrame().from_dict(data_dir,orient = 'index',columns = director.columns)"
   ]
  },
  {
   "cell_type": "code",
   "execution_count": 20,
   "metadata": {},
   "outputs": [
    {
     "name": "stdout",
     "output_type": "stream",
     "text": [
      "/storage/Recsys IMDb DATA/feather_data\n"
     ]
    }
   ],
   "source": [
    "%cd /notebooks/storage/\"Recsys IMDb DATA\"/feather_data"
   ]
  },
  {
   "cell_type": "code",
   "execution_count": 21,
   "metadata": {},
   "outputs": [
    {
     "data": {
      "text/html": [
       "<div>\n",
       "<style scoped>\n",
       "    .dataframe tbody tr th:only-of-type {\n",
       "        vertical-align: middle;\n",
       "    }\n",
       "\n",
       "    .dataframe tbody tr th {\n",
       "        vertical-align: top;\n",
       "    }\n",
       "\n",
       "    .dataframe thead th {\n",
       "        text-align: right;\n",
       "    }\n",
       "</style>\n",
       "<table border=\"1\" class=\"dataframe\">\n",
       "  <thead>\n",
       "    <tr style=\"text-align: right;\">\n",
       "      <th></th>\n",
       "      <th>tconst</th>\n",
       "      <th>titleType</th>\n",
       "      <th>primaryTitle</th>\n",
       "      <th>isAdult</th>\n",
       "      <th>startYear</th>\n",
       "      <th>endYear</th>\n",
       "      <th>genres</th>\n",
       "      <th>averageRating</th>\n",
       "      <th>numVotes</th>\n",
       "      <th>product_col</th>\n",
       "      <th>directors</th>\n",
       "    </tr>\n",
       "  </thead>\n",
       "  <tbody>\n",
       "    <tr>\n",
       "      <th>0</th>\n",
       "      <td>tt0111161</td>\n",
       "      <td>movie</td>\n",
       "      <td>The Shawshank Redemption</td>\n",
       "      <td>0</td>\n",
       "      <td>1994</td>\n",
       "      <td>\\N</td>\n",
       "      <td>Drama</td>\n",
       "      <td>9.3</td>\n",
       "      <td>2307975</td>\n",
       "      <td>21464167.5</td>\n",
       "      <td>nm0001104</td>\n",
       "    </tr>\n",
       "    <tr>\n",
       "      <th>1</th>\n",
       "      <td>tt0468569</td>\n",
       "      <td>movie</td>\n",
       "      <td>The Dark Knight</td>\n",
       "      <td>0</td>\n",
       "      <td>2008</td>\n",
       "      <td>\\N</td>\n",
       "      <td>Action,Crime,Drama</td>\n",
       "      <td>9.0</td>\n",
       "      <td>2270954</td>\n",
       "      <td>20438586.0</td>\n",
       "      <td>nm0634240</td>\n",
       "    </tr>\n",
       "    <tr>\n",
       "      <th>2</th>\n",
       "      <td>tt1375666</td>\n",
       "      <td>movie</td>\n",
       "      <td>Inception</td>\n",
       "      <td>0</td>\n",
       "      <td>2010</td>\n",
       "      <td>\\N</td>\n",
       "      <td>Action,Adventure,Sci-Fi</td>\n",
       "      <td>8.8</td>\n",
       "      <td>2033048</td>\n",
       "      <td>17890822.4</td>\n",
       "      <td>nm0634240</td>\n",
       "    </tr>\n",
       "    <tr>\n",
       "      <th>3</th>\n",
       "      <td>tt0137523</td>\n",
       "      <td>movie</td>\n",
       "      <td>Fight Club</td>\n",
       "      <td>0</td>\n",
       "      <td>1999</td>\n",
       "      <td>\\N</td>\n",
       "      <td>Drama</td>\n",
       "      <td>8.8</td>\n",
       "      <td>1828694</td>\n",
       "      <td>16092507.2</td>\n",
       "      <td>nm0000399</td>\n",
       "    </tr>\n",
       "    <tr>\n",
       "      <th>4</th>\n",
       "      <td>tt0944947</td>\n",
       "      <td>tvSeries</td>\n",
       "      <td>Game of Thrones</td>\n",
       "      <td>0</td>\n",
       "      <td>2011</td>\n",
       "      <td>2019</td>\n",
       "      <td>Action,Adventure,Drama</td>\n",
       "      <td>9.3</td>\n",
       "      <td>1728924</td>\n",
       "      <td>16078993.2</td>\n",
       "      <td>nm0755261,nm0638354,nm0851930,nm0336241,nm0787...</td>\n",
       "    </tr>\n",
       "  </tbody>\n",
       "</table>\n",
       "</div>"
      ],
      "text/plain": [
       "      tconst titleType              primaryTitle  isAdult startYear endYear  \\\n",
       "0  tt0111161     movie  The Shawshank Redemption        0      1994      \\N   \n",
       "1  tt0468569     movie           The Dark Knight        0      2008      \\N   \n",
       "2  tt1375666     movie                 Inception        0      2010      \\N   \n",
       "3  tt0137523     movie                Fight Club        0      1999      \\N   \n",
       "4  tt0944947  tvSeries           Game of Thrones        0      2011    2019   \n",
       "\n",
       "                    genres  averageRating  numVotes  product_col  \\\n",
       "0                    Drama            9.3   2307975   21464167.5   \n",
       "1       Action,Crime,Drama            9.0   2270954   20438586.0   \n",
       "2  Action,Adventure,Sci-Fi            8.8   2033048   17890822.4   \n",
       "3                    Drama            8.8   1828694   16092507.2   \n",
       "4   Action,Adventure,Drama            9.3   1728924   16078993.2   \n",
       "\n",
       "                                           directors  \n",
       "0                                          nm0001104  \n",
       "1                                          nm0634240  \n",
       "2                                          nm0634240  \n",
       "3                                          nm0000399  \n",
       "4  nm0755261,nm0638354,nm0851930,nm0336241,nm0787...  "
      ]
     },
     "execution_count": 21,
     "metadata": {},
     "output_type": "execute_result"
    }
   ],
   "source": [
    "new = movies.merge(director_tokeep,on='tconst')\n",
    "new.head()"
   ]
  },
  {
   "cell_type": "code",
   "execution_count": 23,
   "metadata": {},
   "outputs": [],
   "source": [
    "new = new.drop('product_col',axis = 1)"
   ]
  },
  {
   "cell_type": "code",
   "execution_count": 24,
   "metadata": {},
   "outputs": [],
   "source": [
    "new.to_feather(\"movies\")"
   ]
  },
  {
   "cell_type": "markdown",
   "metadata": {},
   "source": [
    "# Movies now contains all the basic information about the title and the director ids of the given movies"
   ]
  },
  {
   "cell_type": "code",
   "execution_count": 7,
   "metadata": {},
   "outputs": [
    {
     "name": "stdout",
     "output_type": "stream",
     "text": [
      "director  mains  movies  names  ratings  title_basic\r\n"
     ]
    }
   ],
   "source": [
    "%ls"
   ]
  },
  {
   "cell_type": "markdown",
   "metadata": {},
   "source": [
    "# Creating names dataframe\n",
    "- Grabbing all the names, category, job and movie title and combining to make one single dataframe to be used for a person search.\n",
    "- **mains** and **names** dataframes to be combined into one.\n",
    "- <font color='green'> mains </font> now contains only those people's ids who have worked in any one of the above 50k movies. It is only natural that the size of this dataframe is not 50k as one movie does not have a single person involved.\n",
    "- <font color='green'> names </font> must be combined with the people in the mains dataframe and a new dataframe is made called <font color='green'>names</font>\n",
    "\n",
    "\n"
   ]
  },
  {
   "cell_type": "code",
   "execution_count": 8,
   "metadata": {},
   "outputs": [],
   "source": [
    "mains = feather.read_dataframe(\"mains\")"
   ]
  },
  {
   "cell_type": "code",
   "execution_count": 23,
   "metadata": {},
   "outputs": [
    {
     "data": {
      "text/plain": [
       "41962731"
      ]
     },
     "execution_count": 23,
     "metadata": {},
     "output_type": "execute_result"
    }
   ],
   "source": [
    "len(mains)"
   ]
  },
  {
   "cell_type": "code",
   "execution_count": 12,
   "metadata": {},
   "outputs": [],
   "source": [
    "data_main ={}\n",
    "for i in mains.index:\n",
    "    movie = mains['tconst'][i]\n",
    "    if movie in id_dict:\n",
    "        data_main[i] = mains.iloc[i]"
   ]
  },
  {
   "cell_type": "code",
   "execution_count": 35,
   "metadata": {},
   "outputs": [],
   "source": [
    "mains_frame = pd.DataFrame().from_dict(data_main,orient='index',columns = mains.columns).reset_index()"
   ]
  },
  {
   "cell_type": "code",
   "execution_count": 37,
   "metadata": {},
   "outputs": [],
   "source": [
    "mains_frame = mains_frame.drop('index',axis=1)"
   ]
  },
  {
   "cell_type": "markdown",
   "metadata": {},
   "source": [
    "### Removing some categories\n",
    "- People with categories **'production_designer','cinematographer','writer','archive_footage', 'archive_sound' and 'editor'** are removed from the dataframe and a final dataframe  **main_tokeep** is made. "
   ]
  },
  {
   "cell_type": "code",
   "execution_count": 31,
   "metadata": {},
   "outputs": [
    {
     "data": {
      "text/plain": [
       "array(['self', 'director', 'cinematographer', 'producer', 'composer',\n",
       "       'editor', 'actor', 'actress', 'writer', 'production_designer',\n",
       "       'archive_footage', 'archive_sound'], dtype=object)"
      ]
     },
     "execution_count": 31,
     "metadata": {},
     "output_type": "execute_result"
    }
   ],
   "source": [
    "mains_frame['category'].unique()"
   ]
  },
  {
   "cell_type": "code",
   "execution_count": 34,
   "metadata": {},
   "outputs": [
    {
     "data": {
      "text/plain": [
       "Int64Index([       0,        1,        2,        5,        6,        7,\n",
       "                   8,       11,       12,       13,\n",
       "            ...\n",
       "            41940830, 41940831, 41940832, 41940833, 41940834, 41940835,\n",
       "            41940836, 41940837, 41940838, 41940839],\n",
       "           dtype='int64', length=489628)"
      ]
     },
     "execution_count": 34,
     "metadata": {},
     "output_type": "execute_result"
    }
   ],
   "source": [
    "(mains_frame.index)"
   ]
  },
  {
   "cell_type": "code",
   "execution_count": 38,
   "metadata": {},
   "outputs": [],
   "source": [
    "tokeep_main = {}\n",
    "to_leave = {'editor':True,'production_designer':True,'cinematographer':True,'archive_footage':True\n",
    "            , 'archive_sound':True}\n",
    "for i in mains_frame.index:\n",
    "    role = mains_frame['category'][i]\n",
    "    if role not in to_leave:\n",
    "        tokeep_main[i] = mains_frame.iloc[i]\n",
    "main_tokeep = pd.DataFrame().from_dict(tokeep_main,orient = 'index',columns = mains_frame.columns)"
   ]
  },
  {
   "cell_type": "code",
   "execution_count": 46,
   "metadata": {},
   "outputs": [],
   "source": [
    "indices=[]\n",
    "for i in main_tokeep.index:\n",
    "    role = main_tokeep['category'][i]\n",
    "    if role == 'writer':\n",
    "        indices.append(i)\n",
    "main_tokeep = main_tokeep.drop(index = indices)"
   ]
  },
  {
   "cell_type": "code",
   "execution_count": 48,
   "metadata": {},
   "outputs": [],
   "source": [
    "main_tokeep = main_tokeep.reset_index().drop('index',axis=1)"
   ]
  },
  {
   "cell_type": "code",
   "execution_count": 49,
   "metadata": {},
   "outputs": [
    {
     "data": {
      "text/plain": [
       "array(['self', 'director', 'producer', 'composer', 'actor', 'actress'],\n",
       "      dtype=object)"
      ]
     },
     "execution_count": 49,
     "metadata": {},
     "output_type": "execute_result"
    }
   ],
   "source": [
    "main_tokeep.category.unique()"
   ]
  },
  {
   "cell_type": "code",
   "execution_count": 50,
   "metadata": {},
   "outputs": [
    {
     "name": "stdout",
     "output_type": "stream",
     "text": [
      "/storage/Recsys IMDb DATA/feather_data\n"
     ]
    }
   ],
   "source": [
    "%cd /notebooks/storage/\"Recsys IMDb DATA\"/feather_data\n",
    "main_tokeep.to_feather(\"mains\")"
   ]
  },
  {
   "cell_type": "code",
   "execution_count": 51,
   "metadata": {},
   "outputs": [],
   "source": [
    "MAIN = feather.read_dataframe(\"mains\")"
   ]
  },
  {
   "cell_type": "markdown",
   "metadata": {},
   "source": [
    "## Making final names dataframe"
   ]
  },
  {
   "cell_type": "code",
   "execution_count": 55,
   "metadata": {},
   "outputs": [
    {
     "data": {
      "text/html": [
       "<div>\n",
       "<style scoped>\n",
       "    .dataframe tbody tr th:only-of-type {\n",
       "        vertical-align: middle;\n",
       "    }\n",
       "\n",
       "    .dataframe tbody tr th {\n",
       "        vertical-align: top;\n",
       "    }\n",
       "\n",
       "    .dataframe thead th {\n",
       "        text-align: right;\n",
       "    }\n",
       "</style>\n",
       "<table border=\"1\" class=\"dataframe\">\n",
       "  <thead>\n",
       "    <tr style=\"text-align: right;\">\n",
       "      <th></th>\n",
       "      <th>tconst</th>\n",
       "      <th>ordering</th>\n",
       "      <th>nconst</th>\n",
       "      <th>category</th>\n",
       "      <th>job</th>\n",
       "      <th>characters</th>\n",
       "    </tr>\n",
       "  </thead>\n",
       "  <tbody>\n",
       "    <tr>\n",
       "      <th>0</th>\n",
       "      <td>tt0000001</td>\n",
       "      <td>1</td>\n",
       "      <td>nm1588970</td>\n",
       "      <td>self</td>\n",
       "      <td>\\N</td>\n",
       "      <td>[\"Self\"]</td>\n",
       "    </tr>\n",
       "    <tr>\n",
       "      <th>1</th>\n",
       "      <td>tt0000001</td>\n",
       "      <td>2</td>\n",
       "      <td>nm0005690</td>\n",
       "      <td>director</td>\n",
       "      <td>\\N</td>\n",
       "      <td>\\N</td>\n",
       "    </tr>\n",
       "    <tr>\n",
       "      <th>2</th>\n",
       "      <td>tt0000003</td>\n",
       "      <td>1</td>\n",
       "      <td>nm0721526</td>\n",
       "      <td>director</td>\n",
       "      <td>\\N</td>\n",
       "      <td>\\N</td>\n",
       "    </tr>\n",
       "    <tr>\n",
       "      <th>3</th>\n",
       "      <td>tt0000003</td>\n",
       "      <td>2</td>\n",
       "      <td>nm5442194</td>\n",
       "      <td>producer</td>\n",
       "      <td>producer</td>\n",
       "      <td>\\N</td>\n",
       "    </tr>\n",
       "    <tr>\n",
       "      <th>4</th>\n",
       "      <td>tt0000003</td>\n",
       "      <td>3</td>\n",
       "      <td>nm1335271</td>\n",
       "      <td>composer</td>\n",
       "      <td>\\N</td>\n",
       "      <td>\\N</td>\n",
       "    </tr>\n",
       "    <tr>\n",
       "      <th>...</th>\n",
       "      <td>...</td>\n",
       "      <td>...</td>\n",
       "      <td>...</td>\n",
       "      <td>...</td>\n",
       "      <td>...</td>\n",
       "      <td>...</td>\n",
       "    </tr>\n",
       "    <tr>\n",
       "      <th>356007</th>\n",
       "      <td>tt9908860</td>\n",
       "      <td>5</td>\n",
       "      <td>nm11261416</td>\n",
       "      <td>self</td>\n",
       "      <td>\\N</td>\n",
       "      <td>[\"Himself - Contestant\"]</td>\n",
       "    </tr>\n",
       "    <tr>\n",
       "      <th>356008</th>\n",
       "      <td>tt9908860</td>\n",
       "      <td>6</td>\n",
       "      <td>nm11261415</td>\n",
       "      <td>self</td>\n",
       "      <td>\\N</td>\n",
       "      <td>[\"Herself - Contestant\"]</td>\n",
       "    </tr>\n",
       "    <tr>\n",
       "      <th>356009</th>\n",
       "      <td>tt9908860</td>\n",
       "      <td>7</td>\n",
       "      <td>nm11261410</td>\n",
       "      <td>self</td>\n",
       "      <td>\\N</td>\n",
       "      <td>[\"Herself - Contestant\"]</td>\n",
       "    </tr>\n",
       "    <tr>\n",
       "      <th>356010</th>\n",
       "      <td>tt9908860</td>\n",
       "      <td>8</td>\n",
       "      <td>nm11261409</td>\n",
       "      <td>self</td>\n",
       "      <td>\\N</td>\n",
       "      <td>[\"Herself - Contestant\"]</td>\n",
       "    </tr>\n",
       "    <tr>\n",
       "      <th>356011</th>\n",
       "      <td>tt9908860</td>\n",
       "      <td>9</td>\n",
       "      <td>nm11261412</td>\n",
       "      <td>self</td>\n",
       "      <td>\\N</td>\n",
       "      <td>[\"Himself - Contestant\"]</td>\n",
       "    </tr>\n",
       "  </tbody>\n",
       "</table>\n",
       "<p>356012 rows × 6 columns</p>\n",
       "</div>"
      ],
      "text/plain": [
       "           tconst  ordering      nconst  category       job  \\\n",
       "0       tt0000001         1   nm1588970      self        \\N   \n",
       "1       tt0000001         2   nm0005690  director        \\N   \n",
       "2       tt0000003         1   nm0721526  director        \\N   \n",
       "3       tt0000003         2   nm5442194  producer  producer   \n",
       "4       tt0000003         3   nm1335271  composer        \\N   \n",
       "...           ...       ...         ...       ...       ...   \n",
       "356007  tt9908860         5  nm11261416      self        \\N   \n",
       "356008  tt9908860         6  nm11261415      self        \\N   \n",
       "356009  tt9908860         7  nm11261410      self        \\N   \n",
       "356010  tt9908860         8  nm11261409      self        \\N   \n",
       "356011  tt9908860         9  nm11261412      self        \\N   \n",
       "\n",
       "                      characters  \n",
       "0                       [\"Self\"]  \n",
       "1                             \\N  \n",
       "2                             \\N  \n",
       "3                             \\N  \n",
       "4                             \\N  \n",
       "...                          ...  \n",
       "356007  [\"Himself - Contestant\"]  \n",
       "356008  [\"Herself - Contestant\"]  \n",
       "356009  [\"Herself - Contestant\"]  \n",
       "356010  [\"Herself - Contestant\"]  \n",
       "356011  [\"Himself - Contestant\"]  \n",
       "\n",
       "[356012 rows x 6 columns]"
      ]
     },
     "execution_count": 55,
     "metadata": {},
     "output_type": "execute_result"
    }
   ],
   "source": [
    "MAIN"
   ]
  },
  {
   "cell_type": "code",
   "execution_count": 53,
   "metadata": {},
   "outputs": [],
   "source": [
    "names = feather.read_dataframe(\"names\")"
   ]
  },
  {
   "cell_type": "code",
   "execution_count": 56,
   "metadata": {},
   "outputs": [],
   "source": [
    "names = names.drop(['birthYear','deathYear'],axis=1)"
   ]
  },
  {
   "cell_type": "code",
   "execution_count": 60,
   "metadata": {},
   "outputs": [],
   "source": [
    "final_name = MAIN.merge(names,how='inner',on='nconst')"
   ]
  },
  {
   "cell_type": "code",
   "execution_count": 71,
   "metadata": {},
   "outputs": [],
   "source": [
    "final_name = final_name.reset_index().drop('index',axis=1)"
   ]
  },
  {
   "cell_type": "code",
   "execution_count": 73,
   "metadata": {},
   "outputs": [],
   "source": [
    "final_name.to_feather(\"names\")"
   ]
  },
  {
   "cell_type": "markdown",
   "metadata": {},
   "source": [
    "# DONE!"
   ]
  },
  {
   "cell_type": "code",
   "execution_count": 5,
   "metadata": {},
   "outputs": [
    {
     "name": "stdout",
     "output_type": "stream",
     "text": [
      "/storage/Recsys IMDb DATA/feather_data\n"
     ]
    }
   ],
   "source": [
    "%cd ..\n",
    "fnames  = feather.read_dataframe(\"names\")\n",
    "fmovies = feather.read_dataframe(\"movies\")"
   ]
  },
  {
   "cell_type": "code",
   "execution_count": 6,
   "metadata": {},
   "outputs": [
    {
     "data": {
      "text/html": [
       "<div>\n",
       "<style scoped>\n",
       "    .dataframe tbody tr th:only-of-type {\n",
       "        vertical-align: middle;\n",
       "    }\n",
       "\n",
       "    .dataframe tbody tr th {\n",
       "        vertical-align: top;\n",
       "    }\n",
       "\n",
       "    .dataframe thead th {\n",
       "        text-align: right;\n",
       "    }\n",
       "</style>\n",
       "<table border=\"1\" class=\"dataframe\">\n",
       "  <thead>\n",
       "    <tr style=\"text-align: right;\">\n",
       "      <th></th>\n",
       "      <th>tconst</th>\n",
       "      <th>ordering</th>\n",
       "      <th>nconst</th>\n",
       "      <th>category</th>\n",
       "      <th>job</th>\n",
       "      <th>characters</th>\n",
       "      <th>primaryName</th>\n",
       "      <th>primaryProfession</th>\n",
       "      <th>knownForTitles</th>\n",
       "    </tr>\n",
       "  </thead>\n",
       "  <tbody>\n",
       "    <tr>\n",
       "      <th>0</th>\n",
       "      <td>tt0000001</td>\n",
       "      <td>1</td>\n",
       "      <td>nm1588970</td>\n",
       "      <td>self</td>\n",
       "      <td>\\N</td>\n",
       "      <td>[\"Self\"]</td>\n",
       "      <td>Carmencita</td>\n",
       "      <td>soundtrack</td>\n",
       "      <td>tt0057728,tt0000001</td>\n",
       "    </tr>\n",
       "    <tr>\n",
       "      <th>1</th>\n",
       "      <td>tt0000001</td>\n",
       "      <td>2</td>\n",
       "      <td>nm0005690</td>\n",
       "      <td>director</td>\n",
       "      <td>\\N</td>\n",
       "      <td>\\N</td>\n",
       "      <td>William K.L. Dickson</td>\n",
       "      <td>cinematographer,director,producer</td>\n",
       "      <td>tt0219560,tt1496763,tt1428455,tt0308254</td>\n",
       "    </tr>\n",
       "    <tr>\n",
       "      <th>2</th>\n",
       "      <td>tt0000005</td>\n",
       "      <td>3</td>\n",
       "      <td>nm0005690</td>\n",
       "      <td>director</td>\n",
       "      <td>\\N</td>\n",
       "      <td>\\N</td>\n",
       "      <td>William K.L. Dickson</td>\n",
       "      <td>cinematographer,director,producer</td>\n",
       "      <td>tt0219560,tt1496763,tt1428455,tt0308254</td>\n",
       "    </tr>\n",
       "    <tr>\n",
       "      <th>3</th>\n",
       "      <td>tt0000008</td>\n",
       "      <td>2</td>\n",
       "      <td>nm0005690</td>\n",
       "      <td>director</td>\n",
       "      <td>\\N</td>\n",
       "      <td>\\N</td>\n",
       "      <td>William K.L. Dickson</td>\n",
       "      <td>cinematographer,director,producer</td>\n",
       "      <td>tt0219560,tt1496763,tt1428455,tt0308254</td>\n",
       "    </tr>\n",
       "    <tr>\n",
       "      <th>4</th>\n",
       "      <td>tt0154152</td>\n",
       "      <td>2</td>\n",
       "      <td>nm0005690</td>\n",
       "      <td>director</td>\n",
       "      <td>\\N</td>\n",
       "      <td>\\N</td>\n",
       "      <td>William K.L. Dickson</td>\n",
       "      <td>cinematographer,director,producer</td>\n",
       "      <td>tt0219560,tt1496763,tt1428455,tt0308254</td>\n",
       "    </tr>\n",
       "    <tr>\n",
       "      <th>...</th>\n",
       "      <td>...</td>\n",
       "      <td>...</td>\n",
       "      <td>...</td>\n",
       "      <td>...</td>\n",
       "      <td>...</td>\n",
       "      <td>...</td>\n",
       "      <td>...</td>\n",
       "      <td>...</td>\n",
       "      <td>...</td>\n",
       "    </tr>\n",
       "    <tr>\n",
       "      <th>355888</th>\n",
       "      <td>tt9908860</td>\n",
       "      <td>5</td>\n",
       "      <td>nm11261416</td>\n",
       "      <td>self</td>\n",
       "      <td>\\N</td>\n",
       "      <td>[\"Himself - Contestant\"]</td>\n",
       "      <td>Patrick Primeau</td>\n",
       "      <td>None</td>\n",
       "      <td>\\N</td>\n",
       "    </tr>\n",
       "    <tr>\n",
       "      <th>355889</th>\n",
       "      <td>tt9908860</td>\n",
       "      <td>6</td>\n",
       "      <td>nm11261415</td>\n",
       "      <td>self</td>\n",
       "      <td>\\N</td>\n",
       "      <td>[\"Herself - Contestant\"]</td>\n",
       "      <td>Momo Schafer</td>\n",
       "      <td>None</td>\n",
       "      <td>\\N</td>\n",
       "    </tr>\n",
       "    <tr>\n",
       "      <th>355890</th>\n",
       "      <td>tt9908860</td>\n",
       "      <td>7</td>\n",
       "      <td>nm11261410</td>\n",
       "      <td>self</td>\n",
       "      <td>\\N</td>\n",
       "      <td>[\"Herself - Contestant\"]</td>\n",
       "      <td>Leah Kudel</td>\n",
       "      <td>None</td>\n",
       "      <td>\\N</td>\n",
       "    </tr>\n",
       "    <tr>\n",
       "      <th>355891</th>\n",
       "      <td>tt9908860</td>\n",
       "      <td>8</td>\n",
       "      <td>nm11261409</td>\n",
       "      <td>self</td>\n",
       "      <td>\\N</td>\n",
       "      <td>[\"Herself - Contestant\"]</td>\n",
       "      <td>Annette Sheppard</td>\n",
       "      <td>None</td>\n",
       "      <td>\\N</td>\n",
       "    </tr>\n",
       "    <tr>\n",
       "      <th>355892</th>\n",
       "      <td>tt9908860</td>\n",
       "      <td>9</td>\n",
       "      <td>nm11261412</td>\n",
       "      <td>self</td>\n",
       "      <td>\\N</td>\n",
       "      <td>[\"Himself - Contestant\"]</td>\n",
       "      <td>Edgar Valentine</td>\n",
       "      <td>None</td>\n",
       "      <td>\\N</td>\n",
       "    </tr>\n",
       "  </tbody>\n",
       "</table>\n",
       "<p>355893 rows × 9 columns</p>\n",
       "</div>"
      ],
      "text/plain": [
       "           tconst  ordering      nconst  category job  \\\n",
       "0       tt0000001         1   nm1588970      self  \\N   \n",
       "1       tt0000001         2   nm0005690  director  \\N   \n",
       "2       tt0000005         3   nm0005690  director  \\N   \n",
       "3       tt0000008         2   nm0005690  director  \\N   \n",
       "4       tt0154152         2   nm0005690  director  \\N   \n",
       "...           ...       ...         ...       ...  ..   \n",
       "355888  tt9908860         5  nm11261416      self  \\N   \n",
       "355889  tt9908860         6  nm11261415      self  \\N   \n",
       "355890  tt9908860         7  nm11261410      self  \\N   \n",
       "355891  tt9908860         8  nm11261409      self  \\N   \n",
       "355892  tt9908860         9  nm11261412      self  \\N   \n",
       "\n",
       "                      characters           primaryName  \\\n",
       "0                       [\"Self\"]            Carmencita   \n",
       "1                             \\N  William K.L. Dickson   \n",
       "2                             \\N  William K.L. Dickson   \n",
       "3                             \\N  William K.L. Dickson   \n",
       "4                             \\N  William K.L. Dickson   \n",
       "...                          ...                   ...   \n",
       "355888  [\"Himself - Contestant\"]       Patrick Primeau   \n",
       "355889  [\"Herself - Contestant\"]          Momo Schafer   \n",
       "355890  [\"Herself - Contestant\"]            Leah Kudel   \n",
       "355891  [\"Herself - Contestant\"]      Annette Sheppard   \n",
       "355892  [\"Himself - Contestant\"]       Edgar Valentine   \n",
       "\n",
       "                        primaryProfession  \\\n",
       "0                              soundtrack   \n",
       "1       cinematographer,director,producer   \n",
       "2       cinematographer,director,producer   \n",
       "3       cinematographer,director,producer   \n",
       "4       cinematographer,director,producer   \n",
       "...                                   ...   \n",
       "355888                               None   \n",
       "355889                               None   \n",
       "355890                               None   \n",
       "355891                               None   \n",
       "355892                               None   \n",
       "\n",
       "                                 knownForTitles  \n",
       "0                           tt0057728,tt0000001  \n",
       "1       tt0219560,tt1496763,tt1428455,tt0308254  \n",
       "2       tt0219560,tt1496763,tt1428455,tt0308254  \n",
       "3       tt0219560,tt1496763,tt1428455,tt0308254  \n",
       "4       tt0219560,tt1496763,tt1428455,tt0308254  \n",
       "...                                         ...  \n",
       "355888                                       \\N  \n",
       "355889                                       \\N  \n",
       "355890                                       \\N  \n",
       "355891                                       \\N  \n",
       "355892                                       \\N  \n",
       "\n",
       "[355893 rows x 9 columns]"
      ]
     },
     "execution_count": 6,
     "metadata": {},
     "output_type": "execute_result"
    }
   ],
   "source": [
    "fnames"
   ]
  },
  {
   "cell_type": "code",
   "execution_count": 7,
   "metadata": {},
   "outputs": [
    {
     "data": {
      "text/html": [
       "<div>\n",
       "<style scoped>\n",
       "    .dataframe tbody tr th:only-of-type {\n",
       "        vertical-align: middle;\n",
       "    }\n",
       "\n",
       "    .dataframe tbody tr th {\n",
       "        vertical-align: top;\n",
       "    }\n",
       "\n",
       "    .dataframe thead th {\n",
       "        text-align: right;\n",
       "    }\n",
       "</style>\n",
       "<table border=\"1\" class=\"dataframe\">\n",
       "  <thead>\n",
       "    <tr style=\"text-align: right;\">\n",
       "      <th></th>\n",
       "      <th>tconst</th>\n",
       "      <th>titleType</th>\n",
       "      <th>primaryTitle</th>\n",
       "      <th>isAdult</th>\n",
       "      <th>startYear</th>\n",
       "      <th>endYear</th>\n",
       "      <th>genres</th>\n",
       "      <th>averageRating</th>\n",
       "      <th>numVotes</th>\n",
       "      <th>directors</th>\n",
       "    </tr>\n",
       "  </thead>\n",
       "  <tbody>\n",
       "    <tr>\n",
       "      <th>0</th>\n",
       "      <td>tt0111161</td>\n",
       "      <td>movie</td>\n",
       "      <td>The Shawshank Redemption</td>\n",
       "      <td>0</td>\n",
       "      <td>1994</td>\n",
       "      <td>\\N</td>\n",
       "      <td>Drama</td>\n",
       "      <td>9.3</td>\n",
       "      <td>2307975</td>\n",
       "      <td>nm0001104</td>\n",
       "    </tr>\n",
       "    <tr>\n",
       "      <th>1</th>\n",
       "      <td>tt0468569</td>\n",
       "      <td>movie</td>\n",
       "      <td>The Dark Knight</td>\n",
       "      <td>0</td>\n",
       "      <td>2008</td>\n",
       "      <td>\\N</td>\n",
       "      <td>Action,Crime,Drama</td>\n",
       "      <td>9.0</td>\n",
       "      <td>2270954</td>\n",
       "      <td>nm0634240</td>\n",
       "    </tr>\n",
       "    <tr>\n",
       "      <th>2</th>\n",
       "      <td>tt1375666</td>\n",
       "      <td>movie</td>\n",
       "      <td>Inception</td>\n",
       "      <td>0</td>\n",
       "      <td>2010</td>\n",
       "      <td>\\N</td>\n",
       "      <td>Action,Adventure,Sci-Fi</td>\n",
       "      <td>8.8</td>\n",
       "      <td>2033048</td>\n",
       "      <td>nm0634240</td>\n",
       "    </tr>\n",
       "    <tr>\n",
       "      <th>3</th>\n",
       "      <td>tt0137523</td>\n",
       "      <td>movie</td>\n",
       "      <td>Fight Club</td>\n",
       "      <td>0</td>\n",
       "      <td>1999</td>\n",
       "      <td>\\N</td>\n",
       "      <td>Drama</td>\n",
       "      <td>8.8</td>\n",
       "      <td>1828694</td>\n",
       "      <td>nm0000399</td>\n",
       "    </tr>\n",
       "    <tr>\n",
       "      <th>4</th>\n",
       "      <td>tt0944947</td>\n",
       "      <td>tvSeries</td>\n",
       "      <td>Game of Thrones</td>\n",
       "      <td>0</td>\n",
       "      <td>2011</td>\n",
       "      <td>2019</td>\n",
       "      <td>Action,Adventure,Drama</td>\n",
       "      <td>9.3</td>\n",
       "      <td>1728924</td>\n",
       "      <td>nm0755261,nm0638354,nm0851930,nm0336241,nm0787...</td>\n",
       "    </tr>\n",
       "    <tr>\n",
       "      <th>...</th>\n",
       "      <td>...</td>\n",
       "      <td>...</td>\n",
       "      <td>...</td>\n",
       "      <td>...</td>\n",
       "      <td>...</td>\n",
       "      <td>...</td>\n",
       "      <td>...</td>\n",
       "      <td>...</td>\n",
       "      <td>...</td>\n",
       "      <td>...</td>\n",
       "    </tr>\n",
       "    <tr>\n",
       "      <th>49995</th>\n",
       "      <td>tt0063231</td>\n",
       "      <td>movie</td>\n",
       "      <td>Live a Little, Love a Little</td>\n",
       "      <td>0</td>\n",
       "      <td>1968</td>\n",
       "      <td>\\N</td>\n",
       "      <td>Comedy,Musical,Romance</td>\n",
       "      <td>5.9</td>\n",
       "      <td>1461</td>\n",
       "      <td>nm0851537</td>\n",
       "    </tr>\n",
       "    <tr>\n",
       "      <th>49996</th>\n",
       "      <td>tt0455135</td>\n",
       "      <td>movie</td>\n",
       "      <td>The Eye 3</td>\n",
       "      <td>0</td>\n",
       "      <td>2005</td>\n",
       "      <td>\\N</td>\n",
       "      <td>Comedy,Horror</td>\n",
       "      <td>4.7</td>\n",
       "      <td>1834</td>\n",
       "      <td>nm0161152,nm0659380</td>\n",
       "    </tr>\n",
       "    <tr>\n",
       "      <th>49997</th>\n",
       "      <td>tt2182427</td>\n",
       "      <td>tvSeries</td>\n",
       "      <td>Bering Sea Gold</td>\n",
       "      <td>0</td>\n",
       "      <td>2012</td>\n",
       "      <td>\\N</td>\n",
       "      <td>Reality-TV</td>\n",
       "      <td>6.6</td>\n",
       "      <td>1306</td>\n",
       "      <td>nm2728013</td>\n",
       "    </tr>\n",
       "    <tr>\n",
       "      <th>49998</th>\n",
       "      <td>tt0062113</td>\n",
       "      <td>movie</td>\n",
       "      <td>Peppermint Frappé</td>\n",
       "      <td>0</td>\n",
       "      <td>1967</td>\n",
       "      <td>\\N</td>\n",
       "      <td>Drama,Thriller</td>\n",
       "      <td>7.1</td>\n",
       "      <td>1214</td>\n",
       "      <td>nm0767022</td>\n",
       "    </tr>\n",
       "    <tr>\n",
       "      <th>49999</th>\n",
       "      <td>tt0701116</td>\n",
       "      <td>tvEpisode</td>\n",
       "      <td>Homer the Moe</td>\n",
       "      <td>0</td>\n",
       "      <td>2001</td>\n",
       "      <td>\\N</td>\n",
       "      <td>Animation,Comedy</td>\n",
       "      <td>7.1</td>\n",
       "      <td>1214</td>\n",
       "      <td>nm0714114,nm1097655</td>\n",
       "    </tr>\n",
       "  </tbody>\n",
       "</table>\n",
       "<p>50000 rows × 10 columns</p>\n",
       "</div>"
      ],
      "text/plain": [
       "          tconst  titleType                  primaryTitle  isAdult startYear  \\\n",
       "0      tt0111161      movie      The Shawshank Redemption        0      1994   \n",
       "1      tt0468569      movie               The Dark Knight        0      2008   \n",
       "2      tt1375666      movie                     Inception        0      2010   \n",
       "3      tt0137523      movie                    Fight Club        0      1999   \n",
       "4      tt0944947   tvSeries               Game of Thrones        0      2011   \n",
       "...          ...        ...                           ...      ...       ...   \n",
       "49995  tt0063231      movie  Live a Little, Love a Little        0      1968   \n",
       "49996  tt0455135      movie                     The Eye 3        0      2005   \n",
       "49997  tt2182427   tvSeries               Bering Sea Gold        0      2012   \n",
       "49998  tt0062113      movie             Peppermint Frappé        0      1967   \n",
       "49999  tt0701116  tvEpisode                 Homer the Moe        0      2001   \n",
       "\n",
       "      endYear                   genres  averageRating  numVotes  \\\n",
       "0          \\N                    Drama            9.3   2307975   \n",
       "1          \\N       Action,Crime,Drama            9.0   2270954   \n",
       "2          \\N  Action,Adventure,Sci-Fi            8.8   2033048   \n",
       "3          \\N                    Drama            8.8   1828694   \n",
       "4        2019   Action,Adventure,Drama            9.3   1728924   \n",
       "...       ...                      ...            ...       ...   \n",
       "49995      \\N   Comedy,Musical,Romance            5.9      1461   \n",
       "49996      \\N            Comedy,Horror            4.7      1834   \n",
       "49997      \\N               Reality-TV            6.6      1306   \n",
       "49998      \\N           Drama,Thriller            7.1      1214   \n",
       "49999      \\N         Animation,Comedy            7.1      1214   \n",
       "\n",
       "                                               directors  \n",
       "0                                              nm0001104  \n",
       "1                                              nm0634240  \n",
       "2                                              nm0634240  \n",
       "3                                              nm0000399  \n",
       "4      nm0755261,nm0638354,nm0851930,nm0336241,nm0787...  \n",
       "...                                                  ...  \n",
       "49995                                          nm0851537  \n",
       "49996                                nm0161152,nm0659380  \n",
       "49997                                          nm2728013  \n",
       "49998                                          nm0767022  \n",
       "49999                                nm0714114,nm1097655  \n",
       "\n",
       "[50000 rows x 10 columns]"
      ]
     },
     "execution_count": 7,
     "metadata": {},
     "output_type": "execute_result"
    }
   ],
   "source": [
    "fmovies"
   ]
  },
  {
   "cell_type": "code",
   "execution_count": 78,
   "metadata": {},
   "outputs": [],
   "source": [
    "%mkdir dataframes_csv"
   ]
  },
  {
   "cell_type": "code",
   "execution_count": 8,
   "metadata": {},
   "outputs": [
    {
     "name": "stdout",
     "output_type": "stream",
     "text": [
      "/storage/Recsys IMDb DATA/feather_data/dataframes_csv\n"
     ]
    }
   ],
   "source": [
    "%cd dataframes_csv/"
   ]
  },
  {
   "cell_type": "code",
   "execution_count": 10,
   "metadata": {},
   "outputs": [],
   "source": [
    "fmovies.to_csv(r\"movies.csv\")\n",
    "fnames.to_csv(r\"names.csv\")"
   ]
  },
  {
   "cell_type": "markdown",
   "metadata": {},
   "source": [
    "# Finished and saved as .csv files"
   ]
  },
  {
   "cell_type": "code",
   "execution_count": null,
   "metadata": {},
   "outputs": [],
   "source": []
  }
 ],
 "metadata": {
  "kernelspec": {
   "display_name": "Python 3",
   "language": "python",
   "name": "python3"
  },
  "language_info": {
   "codemirror_mode": {
    "name": "ipython",
    "version": 3
   },
   "file_extension": ".py",
   "mimetype": "text/x-python",
   "name": "python",
   "nbconvert_exporter": "python",
   "pygments_lexer": "ipython3",
   "version": "3.8.5"
  }
 },
 "nbformat": 4,
 "nbformat_minor": 4
}

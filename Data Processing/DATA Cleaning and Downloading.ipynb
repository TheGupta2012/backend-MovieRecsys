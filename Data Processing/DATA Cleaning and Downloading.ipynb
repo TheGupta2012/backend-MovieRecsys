{
 "cells": [
  {
   "cell_type": "markdown",
   "metadata": {},
   "source": [
    "# Recommendation System for IMDb DATA\n"
   ]
  },
  {
   "cell_type": "code",
   "execution_count": 57,
   "metadata": {},
   "outputs": [],
   "source": [
    "import numpy as np\n",
    "import pandas as pd\n",
    "import feather as feather\n",
    "import matplotlib.pyplot as plt\n",
    "import seaborn as sns\n",
    "from sklearn.preprocessing import *\n",
    "from urllib import request\n",
    "import gzip\n",
    "from pathlib import Path\n",
    "import re"
   ]
  },
  {
   "cell_type": "code",
   "execution_count": 58,
   "metadata": {},
   "outputs": [],
   "source": [
    "!jt -t chesterish"
   ]
  },
  {
   "cell_type": "code",
   "execution_count": 59,
   "metadata": {},
   "outputs": [],
   "source": [
    "%matplotlib inline\n"
   ]
  },
  {
   "cell_type": "markdown",
   "metadata": {},
   "source": [
    "## Downloading and decompressing the required data"
   ]
  },
  {
   "cell_type": "code",
   "execution_count": 2,
   "metadata": {},
   "outputs": [],
   "source": [
    "def download(name,url):\n",
    "    '''A small code to download and decompress the files'''\n",
    "    base = \"https://datasets.imdbws.com/\"\n",
    "    %cd /notebooks/storage/\n",
    "    out_file = \"Recsys IMDb DATA/\" + name + \".tsv\"\n",
    "    # name with which you want to store the data\n",
    "    if Path(out_file).is_file():\n",
    "        print(name +\" exists already...\")\n",
    "        return\n",
    "    try:\n",
    "        response = request.urlopen(base+url)\n",
    "        with open(out_file,'wb') as outfile:\n",
    "            outfile.write(gzip.decompress(response.read()))\n",
    "    except:\n",
    "        print(\"Please enter a valid url...\")"
   ]
  },
  {
   "cell_type": "code",
   "execution_count": 3,
   "metadata": {},
   "outputs": [],
   "source": [
    "url = {\"Ratings\":\"title.ratings.tsv.gz\"\n",
    "       ,\"Title(basic)\" : \"title.basics.tsv.gz\"\n",
    "        , \"Names\": \"name.basics.tsv.gz\",\n",
    "        \"Directors\":\"title.crew.tsv.gz\"\n",
    "        , \"Title(extra)\":\"title.akas.tsv.gz\",\n",
    "        \"Mains\":\"title.principals.tsv.gz\"\n",
    "       }"
   ]
  },
  {
   "cell_type": "code",
   "execution_count": 4,
   "metadata": {},
   "outputs": [
    {
     "name": "stdout",
     "output_type": "stream",
     "text": [
      "/storage\n",
      "Ratings exists already...\n",
      "/storage\n",
      "Directors exists already...\n",
      "/storage\n",
      "Title(basic) exists already...\n",
      "/storage\n",
      "Names exists already...\n",
      "/storage\n",
      "Title(extra) exists already...\n",
      "/storage\n",
      "Mains exists already...\n"
     ]
    }
   ],
   "source": [
    "download(\"Ratings\",url[\"Ratings\"])\n",
    "download(\"Directors\",url[\"Directors\"])\n",
    "download(\"Title(basic)\",url[\"Title(basic)\"])\n",
    "download(\"Names\",url[\"Names\"])\n",
    "download(\"Title(extra)\",url[\"Title(extra)\"])\n",
    "download(\"Mains\",url[\"Mains\"])"
   ]
  },
  {
   "cell_type": "markdown",
   "metadata": {},
   "source": [
    "## Saving acquired data \n",
    "- The downloaded data is stored in *feather* format for fast retrieval \n",
    "- Note that it resides in **feather_data** directory in the **DATA** folder"
   ]
  },
  {
   "cell_type": "code",
   "execution_count": 46,
   "metadata": {},
   "outputs": [],
   "source": [
    "rating = pd.read_csv(\"Ratings.tsv\",sep=\"\\t\")\n",
    "rating.to_feather(\"feather_data/ratings\")\n"
   ]
  },
  {
   "cell_type": "code",
   "execution_count": 66,
   "metadata": {},
   "outputs": [],
   "source": [
    "director = pd.read_csv(\"Directors.tsv\",sep=\"\\t\")\n",
    "director = director.drop(\"writers\",axis=1)\n",
    "director.to_feather(\"feather_data/director\")"
   ]
  },
  {
   "cell_type": "code",
   "execution_count": 55,
   "metadata": {},
   "outputs": [],
   "source": [
    "names = pd.read_csv(\"Names.tsv\",sep=\"\\t\")\n",
    "names.to_feather(\"feather_data/names\")"
   ]
  },
  {
   "cell_type": "code",
   "execution_count": 58,
   "metadata": {},
   "outputs": [],
   "source": [
    "title_B = pd.read_csv(\"Title(basic).tsv\",sep=\"\\t\",low_memory=False)\n",
    "title_B.to_feather(\"feather_data/title_basic\")\n",
    "title_E = pd.read_csv(\"Title(extra).tsv\",sep=\"\\t\",low_memory=False)\n",
    "title_E.to_feather(\"feather_data/title_extra\")\n"
   ]
  },
  {
   "cell_type": "code",
   "execution_count": 5,
   "metadata": {},
   "outputs": [],
   "source": [
    "mains = pd.read_csv(\"Mains.tsv\",sep=\"\\t\",low_memory=0)\n",
    "mains.to_feather(\"feather_data/mains\")"
   ]
  },
  {
   "cell_type": "markdown",
   "metadata": {},
   "source": [
    "## Reading from feather\n",
    "- **Always always always read from feather format...**"
   ]
  },
  {
   "cell_type": "code",
   "execution_count": 60,
   "metadata": {},
   "outputs": [],
   "source": [
    "def read_data(name):\n",
    "    %cd /notebooks/storage/Recsys IMDb DATA/feather_data\n",
    "    df = feather.read_dataframe(name)\n",
    "    return df"
   ]
  },
  {
   "cell_type": "code",
   "execution_count": 4,
   "metadata": {
    "scrolled": true
   },
   "outputs": [
    {
     "name": "stdout",
     "output_type": "stream",
     "text": [
      "/storage/Recsys IMDb DATA/feather_data\n"
     ]
    }
   ],
   "source": [
    "rating = read_data(\"ratings\")"
   ]
  },
  {
   "cell_type": "markdown",
   "metadata": {},
   "source": [
    "# To truncate firstly according to ratings and votes"
   ]
  },
  {
   "cell_type": "markdown",
   "metadata": {},
   "source": [
    "- It is observed that a higher average rating does not necessarily mean a more **credible** rating\n",
    "- If a movie has a average rating of 10 but the number of votes for that movie is only 1, then that rating **is not very credible**\n",
    "- Solution -> introduce a column with the **rating * number of votes** value as its entries and sort according to that column"
   ]
  },
  {
   "cell_type": "code",
   "execution_count": 5,
   "metadata": {},
   "outputs": [
    {
     "data": {
      "text/plain": [
       "0        21464167.5\n",
       "1        20438586.0\n",
       "2        17890822.4\n",
       "3        16092507.2\n",
       "4        16078993.2\n",
       "            ...    \n",
       "49995        8619.9\n",
       "49996        8619.8\n",
       "49997        8619.6\n",
       "49998        8619.4\n",
       "49999        8619.4\n",
       "Length: 50000, dtype: float64"
      ]
     },
     "execution_count": 5,
     "metadata": {},
     "output_type": "execute_result"
    }
   ],
   "source": [
    "product = rating['averageRating']*rating['numVotes']\n",
    "product"
   ]
  },
  {
   "cell_type": "code",
   "execution_count": 6,
   "metadata": {},
   "outputs": [
    {
     "data": {
      "text/html": [
       "<div>\n",
       "<style scoped>\n",
       "    .dataframe tbody tr th:only-of-type {\n",
       "        vertical-align: middle;\n",
       "    }\n",
       "\n",
       "    .dataframe tbody tr th {\n",
       "        vertical-align: top;\n",
       "    }\n",
       "\n",
       "    .dataframe thead th {\n",
       "        text-align: right;\n",
       "    }\n",
       "</style>\n",
       "<table border=\"1\" class=\"dataframe\">\n",
       "  <thead>\n",
       "    <tr style=\"text-align: right;\">\n",
       "      <th></th>\n",
       "      <th>tconst</th>\n",
       "      <th>averageRating</th>\n",
       "      <th>numVotes</th>\n",
       "      <th>product_col</th>\n",
       "    </tr>\n",
       "  </thead>\n",
       "  <tbody>\n",
       "    <tr>\n",
       "      <th>0</th>\n",
       "      <td>tt0111161</td>\n",
       "      <td>9.3</td>\n",
       "      <td>2307975</td>\n",
       "      <td>21464167.5</td>\n",
       "    </tr>\n",
       "    <tr>\n",
       "      <th>1</th>\n",
       "      <td>tt0468569</td>\n",
       "      <td>9.0</td>\n",
       "      <td>2270954</td>\n",
       "      <td>20438586.0</td>\n",
       "    </tr>\n",
       "    <tr>\n",
       "      <th>2</th>\n",
       "      <td>tt1375666</td>\n",
       "      <td>8.8</td>\n",
       "      <td>2033048</td>\n",
       "      <td>17890822.4</td>\n",
       "    </tr>\n",
       "    <tr>\n",
       "      <th>3</th>\n",
       "      <td>tt0137523</td>\n",
       "      <td>8.8</td>\n",
       "      <td>1828694</td>\n",
       "      <td>16092507.2</td>\n",
       "    </tr>\n",
       "    <tr>\n",
       "      <th>4</th>\n",
       "      <td>tt0944947</td>\n",
       "      <td>9.3</td>\n",
       "      <td>1728924</td>\n",
       "      <td>16078993.2</td>\n",
       "    </tr>\n",
       "    <tr>\n",
       "      <th>...</th>\n",
       "      <td>...</td>\n",
       "      <td>...</td>\n",
       "      <td>...</td>\n",
       "      <td>...</td>\n",
       "    </tr>\n",
       "    <tr>\n",
       "      <th>49995</th>\n",
       "      <td>tt0063231</td>\n",
       "      <td>5.9</td>\n",
       "      <td>1461</td>\n",
       "      <td>8619.9</td>\n",
       "    </tr>\n",
       "    <tr>\n",
       "      <th>49996</th>\n",
       "      <td>tt0455135</td>\n",
       "      <td>4.7</td>\n",
       "      <td>1834</td>\n",
       "      <td>8619.8</td>\n",
       "    </tr>\n",
       "    <tr>\n",
       "      <th>49997</th>\n",
       "      <td>tt2182427</td>\n",
       "      <td>6.6</td>\n",
       "      <td>1306</td>\n",
       "      <td>8619.6</td>\n",
       "    </tr>\n",
       "    <tr>\n",
       "      <th>49998</th>\n",
       "      <td>tt0062113</td>\n",
       "      <td>7.1</td>\n",
       "      <td>1214</td>\n",
       "      <td>8619.4</td>\n",
       "    </tr>\n",
       "    <tr>\n",
       "      <th>49999</th>\n",
       "      <td>tt0701116</td>\n",
       "      <td>7.1</td>\n",
       "      <td>1214</td>\n",
       "      <td>8619.4</td>\n",
       "    </tr>\n",
       "  </tbody>\n",
       "</table>\n",
       "<p>50000 rows × 4 columns</p>\n",
       "</div>"
      ],
      "text/plain": [
       "          tconst  averageRating  numVotes  product_col\n",
       "0      tt0111161            9.3   2307975   21464167.5\n",
       "1      tt0468569            9.0   2270954   20438586.0\n",
       "2      tt1375666            8.8   2033048   17890822.4\n",
       "3      tt0137523            8.8   1828694   16092507.2\n",
       "4      tt0944947            9.3   1728924   16078993.2\n",
       "...          ...            ...       ...          ...\n",
       "49995  tt0063231            5.9      1461       8619.9\n",
       "49996  tt0455135            4.7      1834       8619.8\n",
       "49997  tt2182427            6.6      1306       8619.6\n",
       "49998  tt0062113            7.1      1214       8619.4\n",
       "49999  tt0701116            7.1      1214       8619.4\n",
       "\n",
       "[50000 rows x 4 columns]"
      ]
     },
     "execution_count": 6,
     "metadata": {},
     "output_type": "execute_result"
    }
   ],
   "source": [
    "rating[\"product_col\"] = product\n",
    "rating"
   ]
  },
  {
   "cell_type": "code",
   "execution_count": 8,
   "metadata": {},
   "outputs": [
    {
     "data": {
      "text/html": [
       "<div>\n",
       "<style scoped>\n",
       "    .dataframe tbody tr th:only-of-type {\n",
       "        vertical-align: middle;\n",
       "    }\n",
       "\n",
       "    .dataframe tbody tr th {\n",
       "        vertical-align: top;\n",
       "    }\n",
       "\n",
       "    .dataframe thead th {\n",
       "        text-align: right;\n",
       "    }\n",
       "</style>\n",
       "<table border=\"1\" class=\"dataframe\">\n",
       "  <thead>\n",
       "    <tr style=\"text-align: right;\">\n",
       "      <th></th>\n",
       "      <th>tconst</th>\n",
       "      <th>averageRating</th>\n",
       "      <th>numVotes</th>\n",
       "      <th>product_col</th>\n",
       "    </tr>\n",
       "  </thead>\n",
       "  <tbody>\n",
       "    <tr>\n",
       "      <th>0</th>\n",
       "      <td>tt0111161</td>\n",
       "      <td>9.3</td>\n",
       "      <td>2307975</td>\n",
       "      <td>21464167.5</td>\n",
       "    </tr>\n",
       "    <tr>\n",
       "      <th>1</th>\n",
       "      <td>tt0468569</td>\n",
       "      <td>9.0</td>\n",
       "      <td>2270954</td>\n",
       "      <td>20438586.0</td>\n",
       "    </tr>\n",
       "    <tr>\n",
       "      <th>2</th>\n",
       "      <td>tt1375666</td>\n",
       "      <td>8.8</td>\n",
       "      <td>2033048</td>\n",
       "      <td>17890822.4</td>\n",
       "    </tr>\n",
       "    <tr>\n",
       "      <th>3</th>\n",
       "      <td>tt0137523</td>\n",
       "      <td>8.8</td>\n",
       "      <td>1828694</td>\n",
       "      <td>16092507.2</td>\n",
       "    </tr>\n",
       "    <tr>\n",
       "      <th>5</th>\n",
       "      <td>tt0110912</td>\n",
       "      <td>8.9</td>\n",
       "      <td>1801215</td>\n",
       "      <td>16030813.5</td>\n",
       "    </tr>\n",
       "    <tr>\n",
       "      <th>...</th>\n",
       "      <td>...</td>\n",
       "      <td>...</td>\n",
       "      <td>...</td>\n",
       "      <td>...</td>\n",
       "    </tr>\n",
       "    <tr>\n",
       "      <th>48559</th>\n",
       "      <td>tt7822474</td>\n",
       "      <td>9.7</td>\n",
       "      <td>928</td>\n",
       "      <td>9001.6</td>\n",
       "    </tr>\n",
       "    <tr>\n",
       "      <th>49268</th>\n",
       "      <td>tt5869624</td>\n",
       "      <td>9.5</td>\n",
       "      <td>928</td>\n",
       "      <td>8816.0</td>\n",
       "    </tr>\n",
       "    <tr>\n",
       "      <th>48558</th>\n",
       "      <td>tt12339616</td>\n",
       "      <td>9.7</td>\n",
       "      <td>928</td>\n",
       "      <td>9001.6</td>\n",
       "    </tr>\n",
       "    <tr>\n",
       "      <th>49461</th>\n",
       "      <td>tt0666576</td>\n",
       "      <td>9.6</td>\n",
       "      <td>913</td>\n",
       "      <td>8764.8</td>\n",
       "    </tr>\n",
       "    <tr>\n",
       "      <th>49921</th>\n",
       "      <td>tt7013660</td>\n",
       "      <td>9.5</td>\n",
       "      <td>910</td>\n",
       "      <td>8645.0</td>\n",
       "    </tr>\n",
       "  </tbody>\n",
       "</table>\n",
       "<p>50000 rows × 4 columns</p>\n",
       "</div>"
      ],
      "text/plain": [
       "           tconst  averageRating  numVotes  product_col\n",
       "0       tt0111161            9.3   2307975   21464167.5\n",
       "1       tt0468569            9.0   2270954   20438586.0\n",
       "2       tt1375666            8.8   2033048   17890822.4\n",
       "3       tt0137523            8.8   1828694   16092507.2\n",
       "5       tt0110912            8.9   1801215   16030813.5\n",
       "...           ...            ...       ...          ...\n",
       "48559   tt7822474            9.7       928       9001.6\n",
       "49268   tt5869624            9.5       928       8816.0\n",
       "48558  tt12339616            9.7       928       9001.6\n",
       "49461   tt0666576            9.6       913       8764.8\n",
       "49921   tt7013660            9.5       910       8645.0\n",
       "\n",
       "[50000 rows x 4 columns]"
      ]
     },
     "execution_count": 8,
     "metadata": {},
     "output_type": "execute_result"
    }
   ],
   "source": [
    "rating.sort_values(by=\"numVotes\",ascending=0)[:600000]"
   ]
  },
  {
   "cell_type": "code",
   "execution_count": 9,
   "metadata": {},
   "outputs": [
    {
     "data": {
      "text/html": [
       "<div>\n",
       "<style scoped>\n",
       "    .dataframe tbody tr th:only-of-type {\n",
       "        vertical-align: middle;\n",
       "    }\n",
       "\n",
       "    .dataframe tbody tr th {\n",
       "        vertical-align: top;\n",
       "    }\n",
       "\n",
       "    .dataframe thead th {\n",
       "        text-align: right;\n",
       "    }\n",
       "</style>\n",
       "<table border=\"1\" class=\"dataframe\">\n",
       "  <thead>\n",
       "    <tr style=\"text-align: right;\">\n",
       "      <th></th>\n",
       "      <th>tconst</th>\n",
       "      <th>averageRating</th>\n",
       "      <th>numVotes</th>\n",
       "      <th>product_col</th>\n",
       "    </tr>\n",
       "  </thead>\n",
       "  <tbody>\n",
       "    <tr>\n",
       "      <th>0</th>\n",
       "      <td>tt0111161</td>\n",
       "      <td>9.3</td>\n",
       "      <td>2307975</td>\n",
       "      <td>21464167.5</td>\n",
       "    </tr>\n",
       "    <tr>\n",
       "      <th>1</th>\n",
       "      <td>tt0468569</td>\n",
       "      <td>9.0</td>\n",
       "      <td>2270954</td>\n",
       "      <td>20438586.0</td>\n",
       "    </tr>\n",
       "    <tr>\n",
       "      <th>2</th>\n",
       "      <td>tt1375666</td>\n",
       "      <td>8.8</td>\n",
       "      <td>2033048</td>\n",
       "      <td>17890822.4</td>\n",
       "    </tr>\n",
       "    <tr>\n",
       "      <th>3</th>\n",
       "      <td>tt0137523</td>\n",
       "      <td>8.8</td>\n",
       "      <td>1828694</td>\n",
       "      <td>16092507.2</td>\n",
       "    </tr>\n",
       "    <tr>\n",
       "      <th>4</th>\n",
       "      <td>tt0944947</td>\n",
       "      <td>9.3</td>\n",
       "      <td>1728924</td>\n",
       "      <td>16078993.2</td>\n",
       "    </tr>\n",
       "    <tr>\n",
       "      <th>...</th>\n",
       "      <td>...</td>\n",
       "      <td>...</td>\n",
       "      <td>...</td>\n",
       "      <td>...</td>\n",
       "    </tr>\n",
       "    <tr>\n",
       "      <th>49995</th>\n",
       "      <td>tt0063231</td>\n",
       "      <td>5.9</td>\n",
       "      <td>1461</td>\n",
       "      <td>8619.9</td>\n",
       "    </tr>\n",
       "    <tr>\n",
       "      <th>49996</th>\n",
       "      <td>tt0455135</td>\n",
       "      <td>4.7</td>\n",
       "      <td>1834</td>\n",
       "      <td>8619.8</td>\n",
       "    </tr>\n",
       "    <tr>\n",
       "      <th>49997</th>\n",
       "      <td>tt2182427</td>\n",
       "      <td>6.6</td>\n",
       "      <td>1306</td>\n",
       "      <td>8619.6</td>\n",
       "    </tr>\n",
       "    <tr>\n",
       "      <th>49998</th>\n",
       "      <td>tt0062113</td>\n",
       "      <td>7.1</td>\n",
       "      <td>1214</td>\n",
       "      <td>8619.4</td>\n",
       "    </tr>\n",
       "    <tr>\n",
       "      <th>49999</th>\n",
       "      <td>tt0701116</td>\n",
       "      <td>7.1</td>\n",
       "      <td>1214</td>\n",
       "      <td>8619.4</td>\n",
       "    </tr>\n",
       "  </tbody>\n",
       "</table>\n",
       "<p>50000 rows × 4 columns</p>\n",
       "</div>"
      ],
      "text/plain": [
       "          tconst  averageRating  numVotes  product_col\n",
       "0      tt0111161            9.3   2307975   21464167.5\n",
       "1      tt0468569            9.0   2270954   20438586.0\n",
       "2      tt1375666            8.8   2033048   17890822.4\n",
       "3      tt0137523            8.8   1828694   16092507.2\n",
       "4      tt0944947            9.3   1728924   16078993.2\n",
       "...          ...            ...       ...          ...\n",
       "49995  tt0063231            5.9      1461       8619.9\n",
       "49996  tt0455135            4.7      1834       8619.8\n",
       "49997  tt2182427            6.6      1306       8619.6\n",
       "49998  tt0062113            7.1      1214       8619.4\n",
       "49999  tt0701116            7.1      1214       8619.4\n",
       "\n",
       "[50000 rows x 4 columns]"
      ]
     },
     "execution_count": 9,
     "metadata": {},
     "output_type": "execute_result"
    }
   ],
   "source": [
    "rating.sort_values(by=\"product_col\",ascending=0)[:600000]"
   ]
  },
  {
   "cell_type": "markdown",
   "metadata": {},
   "source": [
    "### Analysing ranks of movies \n",
    "- Now we analyse that a movie had which rank in the sorted data frames\n",
    "- First its rank is calculated as present in the data frame **sorted according to NUM OF VOTES**\n",
    "- Then its rank is calculated as present in the data frame **sorted according to PRODUCT VALUES**"
   ]
  },
  {
   "cell_type": "code",
   "execution_count": 70,
   "metadata": {},
   "outputs": [],
   "source": [
    "id1 = rating.sort_values(by=\"numVotes\",ascending=0)[:10000]['tconst']"
   ]
  },
  {
   "cell_type": "code",
   "execution_count": 71,
   "metadata": {},
   "outputs": [],
   "source": [
    "id2 = rating.sort_values(by=\"product_col\",ascending=0)[:10000]['tconst']"
   ]
  },
  {
   "cell_type": "code",
   "execution_count": 73,
   "metadata": {
    "scrolled": false
   },
   "outputs": [
    {
     "name": "stdout",
     "output_type": "stream",
     "text": [
      "Means ,on average, a movie is differing by 412.2270111936395 ranks in the two dataframes for the first 10000 items and thus our assumption seems to be correct\n"
     ]
    }
   ],
   "source": [
    "c1 = 1\n",
    "deviation = []\n",
    "for k in id1:\n",
    "    c2=1\n",
    "    for j in id2:\n",
    "        if(k==j):\n",
    "#             print(k)\n",
    "#             print(\"Rank in one:\",c1,\"\\nRank in two:\",c2)\n",
    "#             print(\"Difference in ranks :\",abs(c1-c2))\n",
    "            deviation.append(abs(c1-c2))\n",
    "            break\n",
    "        else:\n",
    "            c2+=1\n",
    "    c1+=1\n",
    "m = sum(deviation)/(len(deviation))\n",
    "print(\"Means ,on average, a movie is differing by\",m,\"ranks in the two dataframes for the first 10000 items and thus our assumption seems to be correct\")"
   ]
  },
  {
   "cell_type": "markdown",
   "metadata": {},
   "source": [
    "## Taking the first 50,000 movies from the sorted dataframe \n",
    "- The first 50,000 movies are truncated from the dataframe and stored for the use as our actual dataset.\n"
   ]
  },
  {
   "cell_type": "code",
   "execution_count": 92,
   "metadata": {},
   "outputs": [],
   "source": [
    "rating_keep = rating.sort_values(by=\"product_col\",ascending=0).reset_index(drop=True)"
   ]
  },
  {
   "cell_type": "code",
   "execution_count": 97,
   "metadata": {},
   "outputs": [],
   "source": [
    "rating_final = rating_keep[:50000]"
   ]
  },
  {
   "cell_type": "code",
   "execution_count": 106,
   "metadata": {},
   "outputs": [
    {
     "name": "stdout",
     "output_type": "stream",
     "text": [
      "/storage/Recsys IMDb DATA\n"
     ]
    }
   ],
   "source": [
    "%cd /notebooks/storage/Recsys IMDb DATA\n",
    "rating_final.to_feather(\"feather_data/ratings\")"
   ]
  },
  {
   "cell_type": "code",
   "execution_count": 61,
   "metadata": {},
   "outputs": [
    {
     "name": "stdout",
     "output_type": "stream",
     "text": [
      "/storage/Recsys IMDb DATA/feather_data\n"
     ]
    }
   ],
   "source": [
    "rating= read_data(\"ratings\")"
   ]
  },
  {
   "cell_type": "code",
   "execution_count": 62,
   "metadata": {},
   "outputs": [
    {
     "data": {
      "text/html": [
       "<div>\n",
       "<style scoped>\n",
       "    .dataframe tbody tr th:only-of-type {\n",
       "        vertical-align: middle;\n",
       "    }\n",
       "\n",
       "    .dataframe tbody tr th {\n",
       "        vertical-align: top;\n",
       "    }\n",
       "\n",
       "    .dataframe thead th {\n",
       "        text-align: right;\n",
       "    }\n",
       "</style>\n",
       "<table border=\"1\" class=\"dataframe\">\n",
       "  <thead>\n",
       "    <tr style=\"text-align: right;\">\n",
       "      <th></th>\n",
       "      <th>tconst</th>\n",
       "      <th>averageRating</th>\n",
       "      <th>numVotes</th>\n",
       "      <th>product_col</th>\n",
       "    </tr>\n",
       "  </thead>\n",
       "  <tbody>\n",
       "    <tr>\n",
       "      <th>0</th>\n",
       "      <td>tt0111161</td>\n",
       "      <td>9.3</td>\n",
       "      <td>2307975</td>\n",
       "      <td>21464167.5</td>\n",
       "    </tr>\n",
       "    <tr>\n",
       "      <th>1</th>\n",
       "      <td>tt0468569</td>\n",
       "      <td>9.0</td>\n",
       "      <td>2270954</td>\n",
       "      <td>20438586.0</td>\n",
       "    </tr>\n",
       "    <tr>\n",
       "      <th>2</th>\n",
       "      <td>tt1375666</td>\n",
       "      <td>8.8</td>\n",
       "      <td>2033048</td>\n",
       "      <td>17890822.4</td>\n",
       "    </tr>\n",
       "    <tr>\n",
       "      <th>3</th>\n",
       "      <td>tt0137523</td>\n",
       "      <td>8.8</td>\n",
       "      <td>1828694</td>\n",
       "      <td>16092507.2</td>\n",
       "    </tr>\n",
       "    <tr>\n",
       "      <th>4</th>\n",
       "      <td>tt0944947</td>\n",
       "      <td>9.3</td>\n",
       "      <td>1728924</td>\n",
       "      <td>16078993.2</td>\n",
       "    </tr>\n",
       "    <tr>\n",
       "      <th>...</th>\n",
       "      <td>...</td>\n",
       "      <td>...</td>\n",
       "      <td>...</td>\n",
       "      <td>...</td>\n",
       "    </tr>\n",
       "    <tr>\n",
       "      <th>49995</th>\n",
       "      <td>tt0063231</td>\n",
       "      <td>5.9</td>\n",
       "      <td>1461</td>\n",
       "      <td>8619.9</td>\n",
       "    </tr>\n",
       "    <tr>\n",
       "      <th>49996</th>\n",
       "      <td>tt0455135</td>\n",
       "      <td>4.7</td>\n",
       "      <td>1834</td>\n",
       "      <td>8619.8</td>\n",
       "    </tr>\n",
       "    <tr>\n",
       "      <th>49997</th>\n",
       "      <td>tt2182427</td>\n",
       "      <td>6.6</td>\n",
       "      <td>1306</td>\n",
       "      <td>8619.6</td>\n",
       "    </tr>\n",
       "    <tr>\n",
       "      <th>49998</th>\n",
       "      <td>tt0062113</td>\n",
       "      <td>7.1</td>\n",
       "      <td>1214</td>\n",
       "      <td>8619.4</td>\n",
       "    </tr>\n",
       "    <tr>\n",
       "      <th>49999</th>\n",
       "      <td>tt0701116</td>\n",
       "      <td>7.1</td>\n",
       "      <td>1214</td>\n",
       "      <td>8619.4</td>\n",
       "    </tr>\n",
       "  </tbody>\n",
       "</table>\n",
       "<p>50000 rows × 4 columns</p>\n",
       "</div>"
      ],
      "text/plain": [
       "          tconst  averageRating  numVotes  product_col\n",
       "0      tt0111161            9.3   2307975   21464167.5\n",
       "1      tt0468569            9.0   2270954   20438586.0\n",
       "2      tt1375666            8.8   2033048   17890822.4\n",
       "3      tt0137523            8.8   1828694   16092507.2\n",
       "4      tt0944947            9.3   1728924   16078993.2\n",
       "...          ...            ...       ...          ...\n",
       "49995  tt0063231            5.9      1461       8619.9\n",
       "49996  tt0455135            4.7      1834       8619.8\n",
       "49997  tt2182427            6.6      1306       8619.6\n",
       "49998  tt0062113            7.1      1214       8619.4\n",
       "49999  tt0701116            7.1      1214       8619.4\n",
       "\n",
       "[50000 rows x 4 columns]"
      ]
     },
     "execution_count": 62,
     "metadata": {},
     "output_type": "execute_result"
    }
   ],
   "source": [
    "rating"
   ]
  },
  {
   "cell_type": "markdown",
   "metadata": {},
   "source": [
    "# Transformations\n",
    "- The data needs to be truncated and transformed according to the ratings dataset and only the information corresponding to the 50k movies present in the **updated ratings needs to stay **\n",
    "- There are two stages -\n",
    "    - Removing unecessary columns \n",
    "    - Truncating the dataset according to the movies present in the ratings dataset"
   ]
  },
  {
   "cell_type": "code",
   "execution_count": 83,
   "metadata": {},
   "outputs": [
    {
     "data": {
      "text/plain": [
       "0    tt0111161\n",
       "1    tt0468569\n",
       "2    tt1375666\n",
       "3    tt0137523\n",
       "4    tt0944947\n",
       "5    tt0110912\n",
       "6    tt0109830\n",
       "7    tt0068646\n",
       "8    tt0167260\n",
       "9    tt0120737\n",
       "Name: tconst, dtype: object"
      ]
     },
     "execution_count": 83,
     "metadata": {},
     "output_type": "execute_result"
    }
   ],
   "source": [
    "ids = rating['tconst']\n",
    "id_dict={}\n",
    "for k in ids:\n",
    "    id_dict[k] = True\n",
    "ids[:10]"
   ]
  },
  {
   "cell_type": "markdown",
   "metadata": {},
   "source": [
    "### Removing columns \n",
    "- **Title Basic** : *originalTitle, runtimeMinutes* to be removed \n",
    "- **Directors** : *writers* to be removed\n",
    "- **People** : *birthYear and deathYear* to be removed\n",
    "- **Mains**: to keep all"
   ]
  },
  {
   "cell_type": "markdown",
   "metadata": {},
   "source": [
    "### title_basic\n",
    "- Removing columns and truncating data\n",
    "- <font color='red'>Don't execute cells again below **READ** as data has been transformed and made into a **SINGLE DATAFRAME movies** !</font>"
   ]
  },
  {
   "cell_type": "code",
   "execution_count": 99,
   "metadata": {},
   "outputs": [
    {
     "name": "stdout",
     "output_type": "stream",
     "text": [
      "/storage/Recsys IMDb DATA/feather_data\n"
     ]
    }
   ],
   "source": [
    "title_basic = read_data(\"title_basic\")"
   ]
  },
  {
   "cell_type": "code",
   "execution_count": 17,
   "metadata": {},
   "outputs": [
    {
     "data": {
      "text/html": [
       "<div>\n",
       "<style scoped>\n",
       "    .dataframe tbody tr th:only-of-type {\n",
       "        vertical-align: middle;\n",
       "    }\n",
       "\n",
       "    .dataframe tbody tr th {\n",
       "        vertical-align: top;\n",
       "    }\n",
       "\n",
       "    .dataframe thead th {\n",
       "        text-align: right;\n",
       "    }\n",
       "</style>\n",
       "<table border=\"1\" class=\"dataframe\">\n",
       "  <thead>\n",
       "    <tr style=\"text-align: right;\">\n",
       "      <th></th>\n",
       "      <th>tconst</th>\n",
       "      <th>titleType</th>\n",
       "      <th>primaryTitle</th>\n",
       "      <th>isAdult</th>\n",
       "      <th>startYear</th>\n",
       "      <th>endYear</th>\n",
       "      <th>genres</th>\n",
       "    </tr>\n",
       "  </thead>\n",
       "  <tbody>\n",
       "    <tr>\n",
       "      <th>0</th>\n",
       "      <td>tt0000001</td>\n",
       "      <td>short</td>\n",
       "      <td>Carmencita</td>\n",
       "      <td>0</td>\n",
       "      <td>1894</td>\n",
       "      <td>\\N</td>\n",
       "      <td>Documentary,Short</td>\n",
       "    </tr>\n",
       "    <tr>\n",
       "      <th>1</th>\n",
       "      <td>tt0000002</td>\n",
       "      <td>short</td>\n",
       "      <td>Le clown et ses chiens</td>\n",
       "      <td>0</td>\n",
       "      <td>1892</td>\n",
       "      <td>\\N</td>\n",
       "      <td>Animation,Short</td>\n",
       "    </tr>\n",
       "    <tr>\n",
       "      <th>2</th>\n",
       "      <td>tt0000003</td>\n",
       "      <td>short</td>\n",
       "      <td>Pauvre Pierrot</td>\n",
       "      <td>0</td>\n",
       "      <td>1892</td>\n",
       "      <td>\\N</td>\n",
       "      <td>Animation,Comedy,Romance</td>\n",
       "    </tr>\n",
       "    <tr>\n",
       "      <th>3</th>\n",
       "      <td>tt0000004</td>\n",
       "      <td>short</td>\n",
       "      <td>Un bon bock</td>\n",
       "      <td>0</td>\n",
       "      <td>1892</td>\n",
       "      <td>\\N</td>\n",
       "      <td>Animation,Short</td>\n",
       "    </tr>\n",
       "    <tr>\n",
       "      <th>4</th>\n",
       "      <td>tt0000005</td>\n",
       "      <td>short</td>\n",
       "      <td>Blacksmith Scene</td>\n",
       "      <td>0</td>\n",
       "      <td>1893</td>\n",
       "      <td>\\N</td>\n",
       "      <td>Comedy,Short</td>\n",
       "    </tr>\n",
       "  </tbody>\n",
       "</table>\n",
       "</div>"
      ],
      "text/plain": [
       "      tconst titleType            primaryTitle  isAdult startYear endYear  \\\n",
       "0  tt0000001     short              Carmencita        0      1894      \\N   \n",
       "1  tt0000002     short  Le clown et ses chiens        0      1892      \\N   \n",
       "2  tt0000003     short          Pauvre Pierrot        0      1892      \\N   \n",
       "3  tt0000004     short             Un bon bock        0      1892      \\N   \n",
       "4  tt0000005     short        Blacksmith Scene        0      1893      \\N   \n",
       "\n",
       "                     genres  \n",
       "0         Documentary,Short  \n",
       "1           Animation,Short  \n",
       "2  Animation,Comedy,Romance  \n",
       "3           Animation,Short  \n",
       "4              Comedy,Short  "
      ]
     },
     "execution_count": 17,
     "metadata": {},
     "output_type": "execute_result"
    }
   ],
   "source": [
    "title_basic.head()"
   ]
  },
  {
   "cell_type": "code",
   "execution_count": 12,
   "metadata": {},
   "outputs": [],
   "source": [
    "try:\n",
    "    title_basic = title_basic.drop(['originalTitle','runtimeMinutes'],axis=1)\n",
    "except:\n",
    "    print(\"Already prpped data\")"
   ]
  },
  {
   "cell_type": "code",
   "execution_count": 18,
   "metadata": {},
   "outputs": [
    {
     "data": {
      "text/html": [
       "<div>\n",
       "<style scoped>\n",
       "    .dataframe tbody tr th:only-of-type {\n",
       "        vertical-align: middle;\n",
       "    }\n",
       "\n",
       "    .dataframe tbody tr th {\n",
       "        vertical-align: top;\n",
       "    }\n",
       "\n",
       "    .dataframe thead th {\n",
       "        text-align: right;\n",
       "    }\n",
       "</style>\n",
       "<table border=\"1\" class=\"dataframe\">\n",
       "  <thead>\n",
       "    <tr style=\"text-align: right;\">\n",
       "      <th></th>\n",
       "      <th>tconst</th>\n",
       "      <th>titleType</th>\n",
       "      <th>primaryTitle</th>\n",
       "      <th>isAdult</th>\n",
       "      <th>startYear</th>\n",
       "      <th>endYear</th>\n",
       "      <th>genres</th>\n",
       "    </tr>\n",
       "  </thead>\n",
       "  <tbody>\n",
       "    <tr>\n",
       "      <th>0</th>\n",
       "      <td>tt0000001</td>\n",
       "      <td>short</td>\n",
       "      <td>Carmencita</td>\n",
       "      <td>0</td>\n",
       "      <td>1894</td>\n",
       "      <td>\\N</td>\n",
       "      <td>Documentary,Short</td>\n",
       "    </tr>\n",
       "    <tr>\n",
       "      <th>1</th>\n",
       "      <td>tt0000002</td>\n",
       "      <td>short</td>\n",
       "      <td>Le clown et ses chiens</td>\n",
       "      <td>0</td>\n",
       "      <td>1892</td>\n",
       "      <td>\\N</td>\n",
       "      <td>Animation,Short</td>\n",
       "    </tr>\n",
       "    <tr>\n",
       "      <th>2</th>\n",
       "      <td>tt0000003</td>\n",
       "      <td>short</td>\n",
       "      <td>Pauvre Pierrot</td>\n",
       "      <td>0</td>\n",
       "      <td>1892</td>\n",
       "      <td>\\N</td>\n",
       "      <td>Animation,Comedy,Romance</td>\n",
       "    </tr>\n",
       "    <tr>\n",
       "      <th>3</th>\n",
       "      <td>tt0000004</td>\n",
       "      <td>short</td>\n",
       "      <td>Un bon bock</td>\n",
       "      <td>0</td>\n",
       "      <td>1892</td>\n",
       "      <td>\\N</td>\n",
       "      <td>Animation,Short</td>\n",
       "    </tr>\n",
       "    <tr>\n",
       "      <th>4</th>\n",
       "      <td>tt0000005</td>\n",
       "      <td>short</td>\n",
       "      <td>Blacksmith Scene</td>\n",
       "      <td>0</td>\n",
       "      <td>1893</td>\n",
       "      <td>\\N</td>\n",
       "      <td>Comedy,Short</td>\n",
       "    </tr>\n",
       "  </tbody>\n",
       "</table>\n",
       "</div>"
      ],
      "text/plain": [
       "      tconst titleType            primaryTitle  isAdult startYear endYear  \\\n",
       "0  tt0000001     short              Carmencita        0      1894      \\N   \n",
       "1  tt0000002     short  Le clown et ses chiens        0      1892      \\N   \n",
       "2  tt0000003     short          Pauvre Pierrot        0      1892      \\N   \n",
       "3  tt0000004     short             Un bon bock        0      1892      \\N   \n",
       "4  tt0000005     short        Blacksmith Scene        0      1893      \\N   \n",
       "\n",
       "                     genres  \n",
       "0         Documentary,Short  \n",
       "1           Animation,Short  \n",
       "2  Animation,Comedy,Romance  \n",
       "3           Animation,Short  \n",
       "4              Comedy,Short  "
      ]
     },
     "execution_count": 18,
     "metadata": {},
     "output_type": "execute_result"
    }
   ],
   "source": [
    "title_basic.head()"
   ]
  },
  {
   "cell_type": "code",
   "execution_count": 22,
   "metadata": {},
   "outputs": [],
   "source": [
    "title_basic_keep = pd.DataFrame()\n",
    "data={}\n",
    "for i in title_basic.index:\n",
    "    movie = title_basic['tconst'][i]\n",
    "    if movie in id_dict:\n",
    "        # then append to the keep dataframe\n",
    "        data[i] = title_basic.iloc[i]\n",
    "# new thing -> making a dataframe from dictionary is much much faster than appending each row to the \n",
    "# dataframe "
   ]
  },
  {
   "cell_type": "code",
   "execution_count": 46,
   "metadata": {},
   "outputs": [],
   "source": [
    "title_basic_keep = pd.DataFrame.from_dict(data,orient='index',columns=title_basic.columns).reset_index()"
   ]
  },
  {
   "cell_type": "code",
   "execution_count": 48,
   "metadata": {},
   "outputs": [
    {
     "data": {
      "text/html": [
       "<div>\n",
       "<style scoped>\n",
       "    .dataframe tbody tr th:only-of-type {\n",
       "        vertical-align: middle;\n",
       "    }\n",
       "\n",
       "    .dataframe tbody tr th {\n",
       "        vertical-align: top;\n",
       "    }\n",
       "\n",
       "    .dataframe thead th {\n",
       "        text-align: right;\n",
       "    }\n",
       "</style>\n",
       "<table border=\"1\" class=\"dataframe\">\n",
       "  <thead>\n",
       "    <tr style=\"text-align: right;\">\n",
       "      <th></th>\n",
       "      <th>tconst</th>\n",
       "      <th>titleType</th>\n",
       "      <th>primaryTitle</th>\n",
       "      <th>isAdult</th>\n",
       "      <th>startYear</th>\n",
       "      <th>endYear</th>\n",
       "      <th>genres</th>\n",
       "    </tr>\n",
       "  </thead>\n",
       "  <tbody>\n",
       "    <tr>\n",
       "      <th>0</th>\n",
       "      <td>tt0000001</td>\n",
       "      <td>short</td>\n",
       "      <td>Carmencita</td>\n",
       "      <td>0</td>\n",
       "      <td>1894</td>\n",
       "      <td>\\N</td>\n",
       "      <td>Documentary,Short</td>\n",
       "    </tr>\n",
       "    <tr>\n",
       "      <th>1</th>\n",
       "      <td>tt0000003</td>\n",
       "      <td>short</td>\n",
       "      <td>Pauvre Pierrot</td>\n",
       "      <td>0</td>\n",
       "      <td>1892</td>\n",
       "      <td>\\N</td>\n",
       "      <td>Animation,Comedy,Romance</td>\n",
       "    </tr>\n",
       "    <tr>\n",
       "      <th>2</th>\n",
       "      <td>tt0000005</td>\n",
       "      <td>short</td>\n",
       "      <td>Blacksmith Scene</td>\n",
       "      <td>0</td>\n",
       "      <td>1893</td>\n",
       "      <td>\\N</td>\n",
       "      <td>Comedy,Short</td>\n",
       "    </tr>\n",
       "    <tr>\n",
       "      <th>3</th>\n",
       "      <td>tt0000008</td>\n",
       "      <td>short</td>\n",
       "      <td>Edison Kinetoscopic Record of a Sneeze</td>\n",
       "      <td>0</td>\n",
       "      <td>1894</td>\n",
       "      <td>\\N</td>\n",
       "      <td>Documentary,Short</td>\n",
       "    </tr>\n",
       "    <tr>\n",
       "      <th>4</th>\n",
       "      <td>tt0000010</td>\n",
       "      <td>short</td>\n",
       "      <td>Leaving the Factory</td>\n",
       "      <td>0</td>\n",
       "      <td>1895</td>\n",
       "      <td>\\N</td>\n",
       "      <td>Documentary,Short</td>\n",
       "    </tr>\n",
       "    <tr>\n",
       "      <th>...</th>\n",
       "      <td>...</td>\n",
       "      <td>...</td>\n",
       "      <td>...</td>\n",
       "      <td>...</td>\n",
       "      <td>...</td>\n",
       "      <td>...</td>\n",
       "      <td>...</td>\n",
       "    </tr>\n",
       "    <tr>\n",
       "      <th>49995</th>\n",
       "      <td>tt9899922</td>\n",
       "      <td>tvEpisode</td>\n",
       "      <td>The Winter Line</td>\n",
       "      <td>0</td>\n",
       "      <td>2020</td>\n",
       "      <td>\\N</td>\n",
       "      <td>Drama,Mystery,Sci-Fi</td>\n",
       "    </tr>\n",
       "    <tr>\n",
       "      <th>49996</th>\n",
       "      <td>tt9900092</td>\n",
       "      <td>tvSeries</td>\n",
       "      <td>Motherland: Fort Salem</td>\n",
       "      <td>0</td>\n",
       "      <td>2020</td>\n",
       "      <td>\\N</td>\n",
       "      <td>Drama,Fantasy,Sci-Fi</td>\n",
       "    </tr>\n",
       "    <tr>\n",
       "      <th>49997</th>\n",
       "      <td>tt9900782</td>\n",
       "      <td>movie</td>\n",
       "      <td>Kaithi</td>\n",
       "      <td>0</td>\n",
       "      <td>2019</td>\n",
       "      <td>\\N</td>\n",
       "      <td>Action,Thriller</td>\n",
       "    </tr>\n",
       "    <tr>\n",
       "      <th>49998</th>\n",
       "      <td>tt9906260</td>\n",
       "      <td>tvEpisode</td>\n",
       "      <td>Hero</td>\n",
       "      <td>0</td>\n",
       "      <td>2019</td>\n",
       "      <td>\\N</td>\n",
       "      <td>Action,Adventure,Animation</td>\n",
       "    </tr>\n",
       "    <tr>\n",
       "      <th>49999</th>\n",
       "      <td>tt9908860</td>\n",
       "      <td>tvSeries</td>\n",
       "      <td>Blown Away</td>\n",
       "      <td>0</td>\n",
       "      <td>2019</td>\n",
       "      <td>\\N</td>\n",
       "      <td>Reality-TV</td>\n",
       "    </tr>\n",
       "  </tbody>\n",
       "</table>\n",
       "<p>50000 rows × 7 columns</p>\n",
       "</div>"
      ],
      "text/plain": [
       "          tconst  titleType                            primaryTitle  isAdult  \\\n",
       "0      tt0000001      short                              Carmencita        0   \n",
       "1      tt0000003      short                          Pauvre Pierrot        0   \n",
       "2      tt0000005      short                        Blacksmith Scene        0   \n",
       "3      tt0000008      short  Edison Kinetoscopic Record of a Sneeze        0   \n",
       "4      tt0000010      short                     Leaving the Factory        0   \n",
       "...          ...        ...                                     ...      ...   \n",
       "49995  tt9899922  tvEpisode                         The Winter Line        0   \n",
       "49996  tt9900092   tvSeries                  Motherland: Fort Salem        0   \n",
       "49997  tt9900782      movie                                  Kaithi        0   \n",
       "49998  tt9906260  tvEpisode                                    Hero        0   \n",
       "49999  tt9908860   tvSeries                              Blown Away        0   \n",
       "\n",
       "      startYear endYear                      genres  \n",
       "0          1894      \\N           Documentary,Short  \n",
       "1          1892      \\N    Animation,Comedy,Romance  \n",
       "2          1893      \\N                Comedy,Short  \n",
       "3          1894      \\N           Documentary,Short  \n",
       "4          1895      \\N           Documentary,Short  \n",
       "...         ...     ...                         ...  \n",
       "49995      2020      \\N        Drama,Mystery,Sci-Fi  \n",
       "49996      2020      \\N        Drama,Fantasy,Sci-Fi  \n",
       "49997      2019      \\N             Action,Thriller  \n",
       "49998      2019      \\N  Action,Adventure,Animation  \n",
       "49999      2019      \\N                  Reality-TV  \n",
       "\n",
       "[50000 rows x 7 columns]"
      ]
     },
     "execution_count": 48,
     "metadata": {},
     "output_type": "execute_result"
    }
   ],
   "source": [
    "title_basic_keep = title_basic_keep.drop('index',axis=1)\n",
    "title_basic_keep"
   ]
  },
  {
   "cell_type": "code",
   "execution_count": 49,
   "metadata": {},
   "outputs": [],
   "source": [
    "title_basic_keep.to_feather(\"title_basic\")"
   ]
  },
  {
   "cell_type": "code",
   "execution_count": 120,
   "metadata": {},
   "outputs": [
    {
     "name": "stdout",
     "output_type": "stream",
     "text": [
      "/storage/Recsys IMDb DATA/feather_data\n"
     ]
    }
   ],
   "source": [
    "titles = read_data(\"title_basic\")"
   ]
  },
  {
   "cell_type": "code",
   "execution_count": 121,
   "metadata": {},
   "outputs": [],
   "source": [
    "movies = titles.merge(rating,on= 'tconst')"
   ]
  },
  {
   "cell_type": "code",
   "execution_count": 123,
   "metadata": {
    "scrolled": true
   },
   "outputs": [],
   "source": [
    "movies = movies.sort_values(by=\"product_col\",ascending=0).reset_index()"
   ]
  },
  {
   "cell_type": "code",
   "execution_count": 125,
   "metadata": {},
   "outputs": [
    {
     "data": {
      "text/html": [
       "<div>\n",
       "<style scoped>\n",
       "    .dataframe tbody tr th:only-of-type {\n",
       "        vertical-align: middle;\n",
       "    }\n",
       "\n",
       "    .dataframe tbody tr th {\n",
       "        vertical-align: top;\n",
       "    }\n",
       "\n",
       "    .dataframe thead th {\n",
       "        text-align: right;\n",
       "    }\n",
       "</style>\n",
       "<table border=\"1\" class=\"dataframe\">\n",
       "  <thead>\n",
       "    <tr style=\"text-align: right;\">\n",
       "      <th></th>\n",
       "      <th>tconst</th>\n",
       "      <th>titleType</th>\n",
       "      <th>primaryTitle</th>\n",
       "      <th>isAdult</th>\n",
       "      <th>startYear</th>\n",
       "      <th>endYear</th>\n",
       "      <th>genres</th>\n",
       "      <th>averageRating</th>\n",
       "      <th>numVotes</th>\n",
       "      <th>product_col</th>\n",
       "    </tr>\n",
       "  </thead>\n",
       "  <tbody>\n",
       "    <tr>\n",
       "      <th>0</th>\n",
       "      <td>tt0111161</td>\n",
       "      <td>movie</td>\n",
       "      <td>The Shawshank Redemption</td>\n",
       "      <td>0</td>\n",
       "      <td>1994</td>\n",
       "      <td>\\N</td>\n",
       "      <td>Drama</td>\n",
       "      <td>9.3</td>\n",
       "      <td>2307975</td>\n",
       "      <td>21464167.5</td>\n",
       "    </tr>\n",
       "    <tr>\n",
       "      <th>1</th>\n",
       "      <td>tt0468569</td>\n",
       "      <td>movie</td>\n",
       "      <td>The Dark Knight</td>\n",
       "      <td>0</td>\n",
       "      <td>2008</td>\n",
       "      <td>\\N</td>\n",
       "      <td>Action,Crime,Drama</td>\n",
       "      <td>9.0</td>\n",
       "      <td>2270954</td>\n",
       "      <td>20438586.0</td>\n",
       "    </tr>\n",
       "    <tr>\n",
       "      <th>2</th>\n",
       "      <td>tt1375666</td>\n",
       "      <td>movie</td>\n",
       "      <td>Inception</td>\n",
       "      <td>0</td>\n",
       "      <td>2010</td>\n",
       "      <td>\\N</td>\n",
       "      <td>Action,Adventure,Sci-Fi</td>\n",
       "      <td>8.8</td>\n",
       "      <td>2033048</td>\n",
       "      <td>17890822.4</td>\n",
       "    </tr>\n",
       "    <tr>\n",
       "      <th>3</th>\n",
       "      <td>tt0137523</td>\n",
       "      <td>movie</td>\n",
       "      <td>Fight Club</td>\n",
       "      <td>0</td>\n",
       "      <td>1999</td>\n",
       "      <td>\\N</td>\n",
       "      <td>Drama</td>\n",
       "      <td>8.8</td>\n",
       "      <td>1828694</td>\n",
       "      <td>16092507.2</td>\n",
       "    </tr>\n",
       "    <tr>\n",
       "      <th>4</th>\n",
       "      <td>tt0944947</td>\n",
       "      <td>tvSeries</td>\n",
       "      <td>Game of Thrones</td>\n",
       "      <td>0</td>\n",
       "      <td>2011</td>\n",
       "      <td>2019</td>\n",
       "      <td>Action,Adventure,Drama</td>\n",
       "      <td>9.3</td>\n",
       "      <td>1728924</td>\n",
       "      <td>16078993.2</td>\n",
       "    </tr>\n",
       "    <tr>\n",
       "      <th>...</th>\n",
       "      <td>...</td>\n",
       "      <td>...</td>\n",
       "      <td>...</td>\n",
       "      <td>...</td>\n",
       "      <td>...</td>\n",
       "      <td>...</td>\n",
       "      <td>...</td>\n",
       "      <td>...</td>\n",
       "      <td>...</td>\n",
       "      <td>...</td>\n",
       "    </tr>\n",
       "    <tr>\n",
       "      <th>49995</th>\n",
       "      <td>tt0063231</td>\n",
       "      <td>movie</td>\n",
       "      <td>Live a Little, Love a Little</td>\n",
       "      <td>0</td>\n",
       "      <td>1968</td>\n",
       "      <td>\\N</td>\n",
       "      <td>Comedy,Musical,Romance</td>\n",
       "      <td>5.9</td>\n",
       "      <td>1461</td>\n",
       "      <td>8619.9</td>\n",
       "    </tr>\n",
       "    <tr>\n",
       "      <th>49996</th>\n",
       "      <td>tt0455135</td>\n",
       "      <td>movie</td>\n",
       "      <td>The Eye 3</td>\n",
       "      <td>0</td>\n",
       "      <td>2005</td>\n",
       "      <td>\\N</td>\n",
       "      <td>Comedy,Horror</td>\n",
       "      <td>4.7</td>\n",
       "      <td>1834</td>\n",
       "      <td>8619.8</td>\n",
       "    </tr>\n",
       "    <tr>\n",
       "      <th>49997</th>\n",
       "      <td>tt2182427</td>\n",
       "      <td>tvSeries</td>\n",
       "      <td>Bering Sea Gold</td>\n",
       "      <td>0</td>\n",
       "      <td>2012</td>\n",
       "      <td>\\N</td>\n",
       "      <td>Reality-TV</td>\n",
       "      <td>6.6</td>\n",
       "      <td>1306</td>\n",
       "      <td>8619.6</td>\n",
       "    </tr>\n",
       "    <tr>\n",
       "      <th>49998</th>\n",
       "      <td>tt0062113</td>\n",
       "      <td>movie</td>\n",
       "      <td>Peppermint Frappé</td>\n",
       "      <td>0</td>\n",
       "      <td>1967</td>\n",
       "      <td>\\N</td>\n",
       "      <td>Drama,Thriller</td>\n",
       "      <td>7.1</td>\n",
       "      <td>1214</td>\n",
       "      <td>8619.4</td>\n",
       "    </tr>\n",
       "    <tr>\n",
       "      <th>49999</th>\n",
       "      <td>tt0701116</td>\n",
       "      <td>tvEpisode</td>\n",
       "      <td>Homer the Moe</td>\n",
       "      <td>0</td>\n",
       "      <td>2001</td>\n",
       "      <td>\\N</td>\n",
       "      <td>Animation,Comedy</td>\n",
       "      <td>7.1</td>\n",
       "      <td>1214</td>\n",
       "      <td>8619.4</td>\n",
       "    </tr>\n",
       "  </tbody>\n",
       "</table>\n",
       "<p>50000 rows × 10 columns</p>\n",
       "</div>"
      ],
      "text/plain": [
       "          tconst  titleType                  primaryTitle  isAdult startYear  \\\n",
       "0      tt0111161      movie      The Shawshank Redemption        0      1994   \n",
       "1      tt0468569      movie               The Dark Knight        0      2008   \n",
       "2      tt1375666      movie                     Inception        0      2010   \n",
       "3      tt0137523      movie                    Fight Club        0      1999   \n",
       "4      tt0944947   tvSeries               Game of Thrones        0      2011   \n",
       "...          ...        ...                           ...      ...       ...   \n",
       "49995  tt0063231      movie  Live a Little, Love a Little        0      1968   \n",
       "49996  tt0455135      movie                     The Eye 3        0      2005   \n",
       "49997  tt2182427   tvSeries               Bering Sea Gold        0      2012   \n",
       "49998  tt0062113      movie             Peppermint Frappé        0      1967   \n",
       "49999  tt0701116  tvEpisode                 Homer the Moe        0      2001   \n",
       "\n",
       "      endYear                   genres  averageRating  numVotes  product_col  \n",
       "0          \\N                    Drama            9.3   2307975   21464167.5  \n",
       "1          \\N       Action,Crime,Drama            9.0   2270954   20438586.0  \n",
       "2          \\N  Action,Adventure,Sci-Fi            8.8   2033048   17890822.4  \n",
       "3          \\N                    Drama            8.8   1828694   16092507.2  \n",
       "4        2019   Action,Adventure,Drama            9.3   1728924   16078993.2  \n",
       "...       ...                      ...            ...       ...          ...  \n",
       "49995      \\N   Comedy,Musical,Romance            5.9      1461       8619.9  \n",
       "49996      \\N            Comedy,Horror            4.7      1834       8619.8  \n",
       "49997      \\N               Reality-TV            6.6      1306       8619.6  \n",
       "49998      \\N           Drama,Thriller            7.1      1214       8619.4  \n",
       "49999      \\N         Animation,Comedy            7.1      1214       8619.4  \n",
       "\n",
       "[50000 rows x 10 columns]"
      ]
     },
     "execution_count": 125,
     "metadata": {},
     "output_type": "execute_result"
    }
   ],
   "source": [
    "movies = movies.drop('index',axis=1)\n",
    "movies"
   ]
  },
  {
   "cell_type": "code",
   "execution_count": 126,
   "metadata": {},
   "outputs": [],
   "source": [
    "movies.to_feather(\"movies\")"
   ]
  },
  {
   "cell_type": "markdown",
   "metadata": {},
   "source": [
    "## Final df is in movies in the feather data"
   ]
  },
  {
   "cell_type": "code",
   "execution_count": 129,
   "metadata": {},
   "outputs": [
    {
     "name": "stdout",
     "output_type": "stream",
     "text": [
      "/storage/Recsys IMDb DATA/feather_data\n"
     ]
    }
   ],
   "source": [
    "%cd /notebooks/storage/Recsys IMDb DATA/feather_data\n",
    "movies = feather.read_dataframe(\"movies\")"
   ]
  },
  {
   "cell_type": "code",
   "execution_count": null,
   "metadata": {},
   "outputs": [],
   "source": []
  }
 ],
 "metadata": {
  "kernelspec": {
   "display_name": "Python 3",
   "language": "python",
   "name": "python3"
  },
  "language_info": {
   "codemirror_mode": {
    "name": "ipython",
    "version": 3
   },
   "file_extension": ".py",
   "mimetype": "text/x-python",
   "name": "python",
   "nbconvert_exporter": "python",
   "pygments_lexer": "ipython3",
   "version": "3.8.5"
  }
 },
 "nbformat": 4,
 "nbformat_minor": 4
}

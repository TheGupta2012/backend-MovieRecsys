{
 "cells": [
  {
   "cell_type": "code",
   "execution_count": 10,
   "metadata": {
    "ExecuteTime": {
     "end_time": "2021-01-07T09:11:18.757425Z",
     "start_time": "2021-01-07T09:11:16.573247Z"
    }
   },
   "outputs": [],
   "source": [
    "!jt -t grade3"
   ]
  },
  {
   "cell_type": "markdown",
   "metadata": {},
   "source": [
    "## Recommender Functions\n",
    "- Our recommender is based on the recommendations generated through the cosine similarity scores\n",
    "- The Count Vectorizer is applied on :\n",
    "    - genre\n",
    "    - cast\n",
    "    - is adult\n",
    "    - directors\n",
    "    - title type \n",
    "    - release year"
   ]
  },
  {
   "cell_type": "code",
   "execution_count": 1,
   "metadata": {
    "ExecuteTime": {
     "end_time": "2021-01-13T17:13:17.455618Z",
     "start_time": "2021-01-13T17:13:02.792432Z"
    }
   },
   "outputs": [],
   "source": [
    "import numpy as np\n",
    "import pandas as pd \n",
    "import feather as feather \n",
    "import random as random \n",
    "from sklearn.feature_extraction.text import CountVectorizer\n",
    "#from sklearn.metrics.pairwise import cosine_similarity\n",
    "from sklearn.metrics.pairwise import linear_kernel\n",
    "from operator import itemgetter\n",
    "from rapidfuzz import process"
   ]
  },
  {
   "cell_type": "code",
   "execution_count": 2,
   "metadata": {
    "ExecuteTime": {
     "end_time": "2021-01-13T17:13:17.487742Z",
     "start_time": "2021-01-13T17:13:17.476976Z"
    }
   },
   "outputs": [
    {
     "name": "stdout",
     "output_type": "stream",
     "text": [
      "[WinError 2] The system cannot find the file specified: 'data'\n",
      "D:\\DATA SCIENCE\\backend-MovieRecsys\\Data Processing\n"
     ]
    }
   ],
   "source": [
    "%cd \"Final DATA\""
   ]
  },
  {
   "cell_type": "code",
   "execution_count": 12,
   "metadata": {
    "ExecuteTime": {
     "end_time": "2021-01-07T09:13:46.602868Z",
     "start_time": "2021-01-07T09:13:46.573891Z"
    }
   },
   "outputs": [],
   "source": [
    "def get_data():\n",
    "    ''' Returns movie and names dataframes \n",
    "    NOTE: See to it that the directory names are \n",
    "    handled properly'''\n",
    "    %cd \"Final DATA\"\n",
    "    movies = feather.read_dataframe(\"feather/movies\")\n",
    "    names = feather.read_dataframe(\"feather/names\")\n",
    "    #replace spaces to make it easier to search\n",
    "    movies = movies[:6000]\n",
    "    movies['cast'] = movies.cast.apply(lambda x: str(x.replace(\" \",\"\")))\n",
    "    movies['primaryTitle'] = movies.primaryTitle.apply(lambda x: str(x.replace(\" \",\"\")))\n",
    "    for k in \".:!?&-\":\n",
    "        movies['primaryTitle'] = movies.primaryTitle.apply(lambda x: str(x.replace(k,\"\")))\n",
    "    # make the cast shorter > just take first 4 and remove the extra \"\" and []\n",
    "    movies['cast'] = movies.cast.apply(lambda x: str(x.split(\",\")[:5]).replace(\"\\\"\",\"\")[1:-1])\n",
    "    \n",
    "    #make the director name as a sinle name ( like in TV series more than 1)\n",
    "    movies['director_name'] = movies['director_name'].apply(lambda x: str(x.split(\",\")[:1]).replace(\"\\\"\",\"\")[1:-1])\n",
    "    movies['director_name'] = movies['director_name'].apply(lambda x: str(x.replace(\" \",\"\")))\n",
    "    return movies,names"
   ]
  },
  {
   "cell_type": "code",
   "execution_count": 14,
   "metadata": {
    "ExecuteTime": {
     "end_time": "2021-01-07T09:14:03.395247Z",
     "start_time": "2021-01-07T09:14:03.091486Z"
    }
   },
   "outputs": [
    {
     "name": "stdout",
     "output_type": "stream",
     "text": [
      "[WinError 2] The system cannot find the file specified: 'Final DATA'\n",
      "D:\\DATA SCIENCE\\Movie_Recommendation_System\\Final DATA\n"
     ]
    }
   ],
   "source": [
    "movies , name = get_data()"
   ]
  },
  {
   "cell_type": "code",
   "execution_count": 22,
   "metadata": {
    "ExecuteTime": {
     "end_time": "2021-01-07T09:19:11.889331Z",
     "start_time": "2021-01-07T09:19:11.879390Z"
    }
   },
   "outputs": [
    {
     "data": {
      "text/html": [
       "<div>\n",
       "<style scoped>\n",
       "    .dataframe tbody tr th:only-of-type {\n",
       "        vertical-align: middle;\n",
       "    }\n",
       "\n",
       "    .dataframe tbody tr th {\n",
       "        vertical-align: top;\n",
       "    }\n",
       "\n",
       "    .dataframe thead th {\n",
       "        text-align: right;\n",
       "    }\n",
       "</style>\n",
       "<table border=\"1\" class=\"dataframe\">\n",
       "  <thead>\n",
       "    <tr style=\"text-align: right;\">\n",
       "      <th></th>\n",
       "      <th>nconst</th>\n",
       "      <th>primaryName</th>\n",
       "      <th>knownForTitles</th>\n",
       "    </tr>\n",
       "  </thead>\n",
       "  <tbody>\n",
       "    <tr>\n",
       "      <td>0</td>\n",
       "      <td>nm0005690</td>\n",
       "      <td>william k.l. dickson</td>\n",
       "      <td>tt0219560,tt1496763,tt1428455,tt0308254</td>\n",
       "    </tr>\n",
       "    <tr>\n",
       "      <td>1</td>\n",
       "      <td>nm0721526</td>\n",
       "      <td>émile reynaud</td>\n",
       "      <td>tt0413219,tt2184201,tt2184231,tt0000003</td>\n",
       "    </tr>\n",
       "    <tr>\n",
       "      <td>2</td>\n",
       "      <td>nm5442194</td>\n",
       "      <td>julien pappé</td>\n",
       "      <td>tt0000003</td>\n",
       "    </tr>\n",
       "    <tr>\n",
       "      <td>3</td>\n",
       "      <td>nm0443482</td>\n",
       "      <td>charles kayser</td>\n",
       "      <td>tt0000005</td>\n",
       "    </tr>\n",
       "    <tr>\n",
       "      <td>4</td>\n",
       "      <td>nm0653042</td>\n",
       "      <td>john ott</td>\n",
       "      <td>tt0000005</td>\n",
       "    </tr>\n",
       "  </tbody>\n",
       "</table>\n",
       "</div>"
      ],
      "text/plain": [
       "      nconst           primaryName                           knownForTitles\n",
       "0  nm0005690  william k.l. dickson  tt0219560,tt1496763,tt1428455,tt0308254\n",
       "1  nm0721526         émile reynaud  tt0413219,tt2184201,tt2184231,tt0000003\n",
       "2  nm5442194          julien pappé                                tt0000003\n",
       "3  nm0443482        charles kayser                                tt0000005\n",
       "4  nm0653042              john ott                                tt0000005"
      ]
     },
     "execution_count": 22,
     "metadata": {},
     "output_type": "execute_result"
    }
   ],
   "source": [
    "name.head()"
   ]
  },
  {
   "cell_type": "code",
   "execution_count": 15,
   "metadata": {
    "ExecuteTime": {
     "end_time": "2021-01-07T09:14:12.058807Z",
     "start_time": "2021-01-07T09:14:11.955665Z"
    },
    "scrolled": true
   },
   "outputs": [
    {
     "data": {
      "text/html": [
       "<div>\n",
       "<style scoped>\n",
       "    .dataframe tbody tr th:only-of-type {\n",
       "        vertical-align: middle;\n",
       "    }\n",
       "\n",
       "    .dataframe tbody tr th {\n",
       "        vertical-align: top;\n",
       "    }\n",
       "\n",
       "    .dataframe thead th {\n",
       "        text-align: right;\n",
       "    }\n",
       "</style>\n",
       "<table border=\"1\" class=\"dataframe\">\n",
       "  <thead>\n",
       "    <tr style=\"text-align: right;\">\n",
       "      <th></th>\n",
       "      <th>tconst</th>\n",
       "      <th>titleType</th>\n",
       "      <th>primaryTitle</th>\n",
       "      <th>isAdult</th>\n",
       "      <th>startYear</th>\n",
       "      <th>endYear</th>\n",
       "      <th>genres</th>\n",
       "      <th>directors</th>\n",
       "      <th>weight_average</th>\n",
       "      <th>cast</th>\n",
       "      <th>director_name</th>\n",
       "    </tr>\n",
       "  </thead>\n",
       "  <tbody>\n",
       "    <tr>\n",
       "      <td>0</td>\n",
       "      <td>tt0111161</td>\n",
       "      <td>movie</td>\n",
       "      <td>theshawshankredemption</td>\n",
       "      <td>0</td>\n",
       "      <td>1994</td>\n",
       "      <td>\\n</td>\n",
       "      <td>drama</td>\n",
       "      <td>nm0001104</td>\n",
       "      <td>9.209958</td>\n",
       "      <td>'morganfreeman', 'timrobbins', 'williamsadler'...</td>\n",
       "      <td>'frankdarabont'</td>\n",
       "    </tr>\n",
       "    <tr>\n",
       "      <td>1</td>\n",
       "      <td>tt0468569</td>\n",
       "      <td>movie</td>\n",
       "      <td>thedarkknight</td>\n",
       "      <td>0</td>\n",
       "      <td>2008</td>\n",
       "      <td>\\n</td>\n",
       "      <td>action,crime,drama</td>\n",
       "      <td>nm0634240</td>\n",
       "      <td>8.921540</td>\n",
       "      <td>'michaelcaine', 'christianbale', 'aaroneckhart...</td>\n",
       "      <td>'christophernolan'</td>\n",
       "    </tr>\n",
       "    <tr>\n",
       "      <td>2</td>\n",
       "      <td>tt1375666</td>\n",
       "      <td>movie</td>\n",
       "      <td>inception</td>\n",
       "      <td>0</td>\n",
       "      <td>2010</td>\n",
       "      <td>\\n</td>\n",
       "      <td>action,adventure,sci-fi</td>\n",
       "      <td>nm0634240</td>\n",
       "      <td>8.722421</td>\n",
       "      <td>'leonardodicaprio', 'kenwatanabe', 'josephgord...</td>\n",
       "      <td>'christophernolan'</td>\n",
       "    </tr>\n",
       "    <tr>\n",
       "      <td>3</td>\n",
       "      <td>tt0137523</td>\n",
       "      <td>movie</td>\n",
       "      <td>fightclub</td>\n",
       "      <td>0</td>\n",
       "      <td>1999</td>\n",
       "      <td>\\n</td>\n",
       "      <td>drama</td>\n",
       "      <td>nm0000399</td>\n",
       "      <td>8.714213</td>\n",
       "      <td>'bradpitt', 'edwardnorton', 'zachgrenier', 'me...</td>\n",
       "      <td>'davidfincher'</td>\n",
       "    </tr>\n",
       "    <tr>\n",
       "      <td>4</td>\n",
       "      <td>tt0944947</td>\n",
       "      <td>tvseries</td>\n",
       "      <td>gameofthrones</td>\n",
       "      <td>0</td>\n",
       "      <td>2011</td>\n",
       "      <td>2019</td>\n",
       "      <td>action,adventure,drama</td>\n",
       "      <td>nm0755261,nm0638354,nm0851930,nm0336241,nm0787...</td>\n",
       "      <td>9.181493</td>\n",
       "      <td>'iainglen', 'lenaheadey', 'nikolajcoster-walda...</td>\n",
       "      <td>'danielsackheim'</td>\n",
       "    </tr>\n",
       "  </tbody>\n",
       "</table>\n",
       "</div>"
      ],
      "text/plain": [
       "      tconst titleType            primaryTitle  isAdult  startYear endYear  \\\n",
       "0  tt0111161     movie  theshawshankredemption        0       1994      \\n   \n",
       "1  tt0468569     movie           thedarkknight        0       2008      \\n   \n",
       "2  tt1375666     movie               inception        0       2010      \\n   \n",
       "3  tt0137523     movie               fightclub        0       1999      \\n   \n",
       "4  tt0944947  tvseries           gameofthrones        0       2011    2019   \n",
       "\n",
       "                    genres                                          directors  \\\n",
       "0                    drama                                          nm0001104   \n",
       "1       action,crime,drama                                          nm0634240   \n",
       "2  action,adventure,sci-fi                                          nm0634240   \n",
       "3                    drama                                          nm0000399   \n",
       "4   action,adventure,drama  nm0755261,nm0638354,nm0851930,nm0336241,nm0787...   \n",
       "\n",
       "   weight_average                                               cast  \\\n",
       "0        9.209958  'morganfreeman', 'timrobbins', 'williamsadler'...   \n",
       "1        8.921540  'michaelcaine', 'christianbale', 'aaroneckhart...   \n",
       "2        8.722421  'leonardodicaprio', 'kenwatanabe', 'josephgord...   \n",
       "3        8.714213  'bradpitt', 'edwardnorton', 'zachgrenier', 'me...   \n",
       "4        9.181493  'iainglen', 'lenaheadey', 'nikolajcoster-walda...   \n",
       "\n",
       "        director_name  \n",
       "0     'frankdarabont'  \n",
       "1  'christophernolan'  \n",
       "2  'christophernolan'  \n",
       "3      'davidfincher'  \n",
       "4    'danielsackheim'  "
      ]
     },
     "execution_count": 15,
     "metadata": {},
     "output_type": "execute_result"
    }
   ],
   "source": [
    "movies.head()"
   ]
  },
  {
   "cell_type": "code",
   "execution_count": 5,
   "metadata": {
    "ExecuteTime": {
     "end_time": "2021-01-06T15:57:34.264736Z",
     "start_time": "2021-01-06T15:57:34.253345Z"
    }
   },
   "outputs": [
    {
     "data": {
      "text/plain": [
       "tconst                                                    tt2395427\n",
       "titleType                                                     movie\n",
       "primaryTitle                                    avengersageofultron\n",
       "isAdult                                                           0\n",
       "startYear                                                      2015\n",
       "endYear                                                          \\n\n",
       "genres                                      action,adventure,sci-fi\n",
       "directors                                                 nm0923736\n",
       "weight_average                                              7.28612\n",
       "cast              'robertdowneyjr.', 'chrisevans', 'markruffalo'...\n",
       "director_name                                          'josswhedon'\n",
       "Name: 120, dtype: object"
      ]
     },
     "execution_count": 5,
     "metadata": {},
     "output_type": "execute_result"
    }
   ],
   "source": [
    "movies.iloc[120]"
   ]
  },
  {
   "cell_type": "markdown",
   "metadata": {},
   "source": [
    "## Basis of model \n",
    "- **Count Vectorizer and Cosine Similarity** between pairs of movies \n",
    "- Movies are sorted on the basis of product of weighted_rating and similarity_score and out of the top 20, from each genre, any 4, at random are returned through the API \n",
    "- Let us start"
   ]
  },
  {
   "cell_type": "code",
   "execution_count": 18,
   "metadata": {
    "ExecuteTime": {
     "end_time": "2021-01-07T09:15:59.928849Z",
     "start_time": "2021-01-07T09:15:59.554363Z"
    }
   },
   "outputs": [],
   "source": [
    "k = movies['titleType']+movies['startYear'].astype('str')+movies['genres'].apply(lambda x:str(x*2)) + movies['director_name'].apply(lambda x:str(x*3))+movies['cast'].apply(lambda x:str(x*3))"
   ]
  },
  {
   "cell_type": "code",
   "execution_count": 19,
   "metadata": {
    "ExecuteTime": {
     "end_time": "2021-01-07T09:16:00.371577Z",
     "start_time": "2021-01-07T09:15:59.962700Z"
    }
   },
   "outputs": [],
   "source": [
    "count = CountVectorizer(analyzer='word',ngram_range=(1, 1),min_df=0, stop_words='english')\n",
    "count_matrix = count.fit_transform(k)"
   ]
  },
  {
   "cell_type": "code",
   "execution_count": 20,
   "metadata": {
    "ExecuteTime": {
     "end_time": "2021-01-07T09:16:00.976711Z",
     "start_time": "2021-01-07T09:16:00.428431Z"
    }
   },
   "outputs": [],
   "source": [
    "cosine = linear_kernel(count_matrix,count_matrix)"
   ]
  },
  {
   "cell_type": "markdown",
   "metadata": {},
   "source": [
    "# Function Structure \n",
    "- Let us think of the query types we can have -\n",
    "    - For genre based recommendations I shall have the top movies corresponding to each genre stored in a list, if the QUERY parameter is present in genre list, then get the recommendation from that genre \n",
    "    - For movie based recommendation, I shall have the cosine similarity value stored in a similarity.npy file. It will be read corresponding to a movie and relevant recommendations would be made.\n",
    "    - If the query is of the type actor, HOW DO I KNOW THAT ? Well, if the query is not found in my movie database , then the search query must be of the type name. For that I have the FAMOUS FOR dataset. \n",
    "    - I will load the **famous_for** dataset, get the famous movie names from those movie IDs, make the recommendation for those movies and then return the recommendations for my query.\n",
    "\n",
    "### Major Change \n",
    "- I shall be using **Levenshtein Distance** as a metric to refine my query \n",
    "- What does it calculate? \n",
    "- It calculates how similar two strings that are being processed are\n",
    "- Using **process** function in fuzzywuzzy library of python which finds the most similar string out of a vector of strings.\n"
   ]
  },
  {
   "cell_type": "code",
   "execution_count": 135,
   "metadata": {
    "ExecuteTime": {
     "end_time": "2021-01-06T16:47:06.756776Z",
     "start_time": "2021-01-06T16:47:06.682384Z"
    }
   },
   "outputs": [
    {
     "data": {
      "text/html": [
       "<div>\n",
       "<style scoped>\n",
       "    .dataframe tbody tr th:only-of-type {\n",
       "        vertical-align: middle;\n",
       "    }\n",
       "\n",
       "    .dataframe tbody tr th {\n",
       "        vertical-align: top;\n",
       "    }\n",
       "\n",
       "    .dataframe thead th {\n",
       "        text-align: right;\n",
       "    }\n",
       "</style>\n",
       "<table border=\"1\" class=\"dataframe\">\n",
       "  <thead>\n",
       "    <tr style=\"text-align: right;\">\n",
       "      <th></th>\n",
       "      <th>tconst</th>\n",
       "      <th>titleType</th>\n",
       "      <th>primaryTitle</th>\n",
       "      <th>isAdult</th>\n",
       "      <th>startYear</th>\n",
       "      <th>endYear</th>\n",
       "      <th>genres</th>\n",
       "      <th>directors</th>\n",
       "      <th>weight_average</th>\n",
       "      <th>cast</th>\n",
       "      <th>director_name</th>\n",
       "    </tr>\n",
       "  </thead>\n",
       "  <tbody>\n",
       "    <tr>\n",
       "      <td>0</td>\n",
       "      <td>tt0111161</td>\n",
       "      <td>movie</td>\n",
       "      <td>theshawshankredemption</td>\n",
       "      <td>0</td>\n",
       "      <td>1994</td>\n",
       "      <td>\\n</td>\n",
       "      <td>drama</td>\n",
       "      <td>nm0001104</td>\n",
       "      <td>9.209958</td>\n",
       "      <td>'morganfreeman', 'timrobbins', 'williamsadler'...</td>\n",
       "      <td>'frankdarabont'</td>\n",
       "    </tr>\n",
       "    <tr>\n",
       "      <td>1</td>\n",
       "      <td>tt0468569</td>\n",
       "      <td>movie</td>\n",
       "      <td>thedarkknight</td>\n",
       "      <td>0</td>\n",
       "      <td>2008</td>\n",
       "      <td>\\n</td>\n",
       "      <td>action,crime,drama</td>\n",
       "      <td>nm0634240</td>\n",
       "      <td>8.921540</td>\n",
       "      <td>'michaelcaine', 'christianbale', 'aaroneckhart...</td>\n",
       "      <td>'christophernolan'</td>\n",
       "    </tr>\n",
       "    <tr>\n",
       "      <td>2</td>\n",
       "      <td>tt1375666</td>\n",
       "      <td>movie</td>\n",
       "      <td>inception</td>\n",
       "      <td>0</td>\n",
       "      <td>2010</td>\n",
       "      <td>\\n</td>\n",
       "      <td>action,adventure,sci-fi</td>\n",
       "      <td>nm0634240</td>\n",
       "      <td>8.722421</td>\n",
       "      <td>'leonardodicaprio', 'kenwatanabe', 'josephgord...</td>\n",
       "      <td>'christophernolan'</td>\n",
       "    </tr>\n",
       "    <tr>\n",
       "      <td>3</td>\n",
       "      <td>tt0137523</td>\n",
       "      <td>movie</td>\n",
       "      <td>fightclub</td>\n",
       "      <td>0</td>\n",
       "      <td>1999</td>\n",
       "      <td>\\n</td>\n",
       "      <td>drama</td>\n",
       "      <td>nm0000399</td>\n",
       "      <td>8.714213</td>\n",
       "      <td>'bradpitt', 'edwardnorton', 'zachgrenier', 'me...</td>\n",
       "      <td>'davidfincher'</td>\n",
       "    </tr>\n",
       "    <tr>\n",
       "      <td>4</td>\n",
       "      <td>tt0944947</td>\n",
       "      <td>tvseries</td>\n",
       "      <td>gameofthrones</td>\n",
       "      <td>0</td>\n",
       "      <td>2011</td>\n",
       "      <td>2019</td>\n",
       "      <td>action,adventure,drama</td>\n",
       "      <td>nm0755261,nm0638354,nm0851930,nm0336241,nm0787...</td>\n",
       "      <td>9.181493</td>\n",
       "      <td>'iainglen', 'lenaheadey', 'nikolajcoster-walda...</td>\n",
       "      <td>'danielsackheim'</td>\n",
       "    </tr>\n",
       "  </tbody>\n",
       "</table>\n",
       "</div>"
      ],
      "text/plain": [
       "      tconst titleType            primaryTitle  isAdult  startYear endYear  \\\n",
       "0  tt0111161     movie  theshawshankredemption        0       1994      \\n   \n",
       "1  tt0468569     movie           thedarkknight        0       2008      \\n   \n",
       "2  tt1375666     movie               inception        0       2010      \\n   \n",
       "3  tt0137523     movie               fightclub        0       1999      \\n   \n",
       "4  tt0944947  tvseries           gameofthrones        0       2011    2019   \n",
       "\n",
       "                    genres                                          directors  \\\n",
       "0                    drama                                          nm0001104   \n",
       "1       action,crime,drama                                          nm0634240   \n",
       "2  action,adventure,sci-fi                                          nm0634240   \n",
       "3                    drama                                          nm0000399   \n",
       "4   action,adventure,drama  nm0755261,nm0638354,nm0851930,nm0336241,nm0787...   \n",
       "\n",
       "   weight_average                                               cast  \\\n",
       "0        9.209958  'morganfreeman', 'timrobbins', 'williamsadler'...   \n",
       "1        8.921540  'michaelcaine', 'christianbale', 'aaroneckhart...   \n",
       "2        8.722421  'leonardodicaprio', 'kenwatanabe', 'josephgord...   \n",
       "3        8.714213  'bradpitt', 'edwardnorton', 'zachgrenier', 'me...   \n",
       "4        9.181493  'iainglen', 'lenaheadey', 'nikolajcoster-walda...   \n",
       "\n",
       "        director_name  \n",
       "0     'frankdarabont'  \n",
       "1  'christophernolan'  \n",
       "2  'christophernolan'  \n",
       "3      'davidfincher'  \n",
       "4    'danielsackheim'  "
      ]
     },
     "execution_count": 135,
     "metadata": {},
     "output_type": "execute_result"
    }
   ],
   "source": [
    "movies.to_feather(\"feather/movies\")\n",
    "movies = feather.read_dataframe(\"feather/movies\") \n",
    "movies.head()"
   ]
  },
  {
   "cell_type": "markdown",
   "metadata": {},
   "source": [
    "# Recommenders"
   ]
  },
  {
   "cell_type": "markdown",
   "metadata": {},
   "source": [
    "## Make genre based"
   ]
  },
  {
   "cell_type": "code",
   "execution_count": 24,
   "metadata": {
    "ExecuteTime": {
     "end_time": "2021-01-07T09:19:49.374668Z",
     "start_time": "2021-01-07T09:19:49.355717Z"
    }
   },
   "outputs": [
    {
     "data": {
      "text/plain": [
       "{'action',\n",
       " 'adventure',\n",
       " 'animation',\n",
       " 'biography',\n",
       " 'comedy',\n",
       " 'crime',\n",
       " 'documentary',\n",
       " 'drama',\n",
       " 'family',\n",
       " 'fantasy',\n",
       " 'film-noir',\n",
       " 'history',\n",
       " 'horror',\n",
       " 'music',\n",
       " 'musical',\n",
       " 'mystery',\n",
       " 'news',\n",
       " 'reality-tv',\n",
       " 'romance',\n",
       " 'sci-fi',\n",
       " 'short',\n",
       " 'sport',\n",
       " 'talk-show',\n",
       " 'thriller',\n",
       " 'war',\n",
       " 'western'}"
      ]
     },
     "execution_count": 24,
     "metadata": {},
     "output_type": "execute_result"
    }
   ],
   "source": [
    "def get_genres():\n",
    "    genre = set()\n",
    "    for k in movies['genres']:\n",
    "        g = k.split(\",\")\n",
    "        for i in g:\n",
    "            genre.add(i)\n",
    "    return genre \n",
    "genre = get_genres()\n",
    "genre "
   ]
  },
  {
   "cell_type": "code",
   "execution_count": 33,
   "metadata": {
    "ExecuteTime": {
     "end_time": "2021-01-07T09:20:25.267256Z",
     "start_time": "2021-01-07T09:20:25.252285Z"
    }
   },
   "outputs": [],
   "source": [
    "def recommend_genre(query):\n",
    "    ''' Recommends movies corresponding to a single \n",
    "        genre. Need to add functionality for if \n",
    "        more than one genre given'''\n",
    "    query = query.lower()\n",
    "    if len(query.split(\" \")):\n",
    "        query = query.split(\" \")[0]\n",
    "    if(\"sci\" in query or \"fi\" in query):\n",
    "        query = 'sci-fi'\n",
    "    if(query not in genre):\n",
    "        return None\n",
    "    else:\n",
    "        # query is a valid genre \n",
    "        movie = movies[:3000]\n",
    "        rec_movie = []\n",
    "        for i in movie.index:\n",
    "            k = movie['genres'][i]\n",
    "            m = movie['primaryTitle'][i]\n",
    "            w = movie['weight_average'][i]\n",
    "            if query in k.split(\",\"):\n",
    "                rec_movie.append([m,w])\n",
    "        # itemgetter is a way to customize the sort function, gets the second element\n",
    "        # of the list element\n",
    "        rec_movie = sorted(rec_movie,key = itemgetter(1),reverse = True)\n",
    "        rec_movie = rec_movie[:100]\n",
    "        random.shuffle(rec_movie) # random shuffle\n",
    "        return sorted(rec_movie[:12],key = itemgetter(1),reverse = True)"
   ]
  },
  {
   "cell_type": "code",
   "execution_count": 34,
   "metadata": {
    "ExecuteTime": {
     "end_time": "2021-01-07T09:20:25.709206Z",
     "start_time": "2021-01-07T09:20:25.395490Z"
    }
   },
   "outputs": [
    {
     "data": {
      "text/plain": [
       "[['thesilenceofthelambs', 8.492842754627715],\n",
       " ['thedeparted', 8.394287475778519],\n",
       " ['thelivesofothers', 8.127184040037752],\n",
       " ['northbynorthwest', 8.012912106459414],\n",
       " ['taboo', 7.823737989644643],\n",
       " ['thebourneidentity', 7.7792203584553725],\n",
       " ['wildtales', 7.760728369894116],\n",
       " ['gattaca', 7.634764183094699],\n",
       " ['theraid2', 7.6132775086115325],\n",
       " ['theboondocksaints', 7.608439242815919],\n",
       " ['theinsider', 7.5588518154218995],\n",
       " ['kahaani', 7.513365546185821]]"
      ]
     },
     "execution_count": 34,
     "metadata": {},
     "output_type": "execute_result"
    }
   ],
   "source": [
    "recommend_genre(\"thriller\")"
   ]
  },
  {
   "cell_type": "markdown",
   "metadata": {},
   "source": [
    "## Make Actor based\n",
    "- Get the knownForTitles for that actor inside the names dataset.\n",
    "- For those movies or movie, find the recommendations and return the sorted recommendations peratining to those movies"
   ]
  },
  {
   "cell_type": "code",
   "execution_count": 36,
   "metadata": {
    "ExecuteTime": {
     "end_time": "2021-01-07T09:20:46.840410Z",
     "start_time": "2021-01-07T09:20:46.822457Z"
    }
   },
   "outputs": [],
   "source": [
    "def recommend_movie_actor(query):\n",
    "    query = query.lower() #transform a bit\n",
    "    best_match = process.extractOne(query,list(name['primaryName']))\n",
    "    if best_match[1] < 75: # return if not a good match\n",
    "        return None\n",
    "    # get the best matching name from the dataset \n",
    "    query = best_match[0]\n",
    "    print(query)\n",
    "    # get the movies he/she is famous for \n",
    "    df = name.loc[name['primaryName'] == query]\n",
    "    movie_id = list(df['knownForTitles']) # get movie ids for person\n",
    "    print(movie_id)\n",
    "    \n",
    "    # make ids list of movies\n",
    "    ids = []\n",
    "    for k in movie_id:\n",
    "        m = k.split(\",\")\n",
    "        for i in m:\n",
    "            ids.append(i)\n",
    "            \n",
    "    # got ids , now get movie names\n",
    "    names = []\n",
    "    for i in movies.index:\n",
    "        t = movies['tconst'][i] \n",
    "        if t in ids:\n",
    "            names.append(movies['primaryTitle'][i])\n",
    "        \n",
    "    a = pd.DataFrame(columns=['primaryTitle','weight_average'])\n",
    "    for n in names:\n",
    "        a = a.append(recommend_movies(n)[:4])\n",
    "    return a.sort_values(by=\"weight_average\",ascending = False) "
   ]
  },
  {
   "cell_type": "code",
   "execution_count": 42,
   "metadata": {
    "ExecuteTime": {
     "end_time": "2021-01-07T09:21:18.537801Z",
     "start_time": "2021-01-07T09:21:17.917866Z"
    },
    "scrolled": true
   },
   "outputs": [
    {
     "name": "stdout",
     "output_type": "stream",
     "text": [
      "cole sprouse\n",
      "['tt5420376,tt6472976,tt0108778,tt0142342']\n",
      "friends\n",
      "bigdaddy\n",
      "riverdale\n",
      "fivefeetapart\n"
     ]
    },
    {
     "data": {
      "text/html": [
       "<div>\n",
       "<style scoped>\n",
       "    .dataframe tbody tr th:only-of-type {\n",
       "        vertical-align: middle;\n",
       "    }\n",
       "\n",
       "    .dataframe tbody tr th {\n",
       "        vertical-align: top;\n",
       "    }\n",
       "\n",
       "    .dataframe thead th {\n",
       "        text-align: right;\n",
       "    }\n",
       "</style>\n",
       "<table border=\"1\" class=\"dataframe\">\n",
       "  <thead>\n",
       "    <tr style=\"text-align: right;\">\n",
       "      <th></th>\n",
       "      <th>primaryTitle</th>\n",
       "      <th>weight_average</th>\n",
       "    </tr>\n",
       "  </thead>\n",
       "  <tbody>\n",
       "    <tr>\n",
       "      <td>868</td>\n",
       "      <td>uncutgems</td>\n",
       "      <td>7.329989</td>\n",
       "    </tr>\n",
       "    <tr>\n",
       "      <td>339</td>\n",
       "      <td>split</td>\n",
       "      <td>7.277668</td>\n",
       "    </tr>\n",
       "    <tr>\n",
       "      <td>1313</td>\n",
       "      <td>punchdrunklove</td>\n",
       "      <td>7.253481</td>\n",
       "    </tr>\n",
       "    <tr>\n",
       "      <td>1886</td>\n",
       "      <td>theedgeofseventeen</td>\n",
       "      <td>7.243589</td>\n",
       "    </tr>\n",
       "    <tr>\n",
       "      <td>2245</td>\n",
       "      <td>twinpeaksfirewalkwithme</td>\n",
       "      <td>7.238414</td>\n",
       "    </tr>\n",
       "    <tr>\n",
       "      <td>593</td>\n",
       "      <td>scream</td>\n",
       "      <td>7.196656</td>\n",
       "    </tr>\n",
       "    <tr>\n",
       "      <td>1506</td>\n",
       "      <td>chasingamy</td>\n",
       "      <td>7.194465</td>\n",
       "    </tr>\n",
       "    <tr>\n",
       "      <td>4018</td>\n",
       "      <td>fivefeetapart</td>\n",
       "      <td>7.190969</td>\n",
       "    </tr>\n",
       "    <tr>\n",
       "      <td>4018</td>\n",
       "      <td>fivefeetapart</td>\n",
       "      <td>7.190969</td>\n",
       "    </tr>\n",
       "    <tr>\n",
       "      <td>4133</td>\n",
       "      <td>cougartown</td>\n",
       "      <td>7.134631</td>\n",
       "    </tr>\n",
       "    <tr>\n",
       "      <td>5072</td>\n",
       "      <td>thesuitelifeofzackcody</td>\n",
       "      <td>7.023660</td>\n",
       "    </tr>\n",
       "    <tr>\n",
       "      <td>5492</td>\n",
       "      <td>mother'sday</td>\n",
       "      <td>6.830708</td>\n",
       "    </tr>\n",
       "    <tr>\n",
       "      <td>5494</td>\n",
       "      <td>after</td>\n",
       "      <td>6.709519</td>\n",
       "    </tr>\n",
       "    <tr>\n",
       "      <td>2376</td>\n",
       "      <td>theswitch</td>\n",
       "      <td>6.661175</td>\n",
       "    </tr>\n",
       "    <tr>\n",
       "      <td>1948</td>\n",
       "      <td>thebreakup</td>\n",
       "      <td>6.427668</td>\n",
       "    </tr>\n",
       "    <tr>\n",
       "      <td>4427</td>\n",
       "      <td>jackandjill</td>\n",
       "      <td>5.517101</td>\n",
       "    </tr>\n",
       "  </tbody>\n",
       "</table>\n",
       "</div>"
      ],
      "text/plain": [
       "                 primaryTitle  weight_average\n",
       "868                 uncutgems        7.329989\n",
       "339                     split        7.277668\n",
       "1313           punchdrunklove        7.253481\n",
       "1886       theedgeofseventeen        7.243589\n",
       "2245  twinpeaksfirewalkwithme        7.238414\n",
       "593                    scream        7.196656\n",
       "1506               chasingamy        7.194465\n",
       "4018            fivefeetapart        7.190969\n",
       "4018            fivefeetapart        7.190969\n",
       "4133               cougartown        7.134631\n",
       "5072   thesuitelifeofzackcody        7.023660\n",
       "5492              mother'sday        6.830708\n",
       "5494                    after        6.709519\n",
       "2376                theswitch        6.661175\n",
       "1948               thebreakup        6.427668\n",
       "4427              jackandjill        5.517101"
      ]
     },
     "execution_count": 42,
     "metadata": {},
     "output_type": "execute_result"
    }
   ],
   "source": [
    "recommend_movie_actor(\"Cole SProose\") "
   ]
  },
  {
   "cell_type": "markdown",
   "metadata": {},
   "source": [
    "## Make movie based "
   ]
  },
  {
   "cell_type": "code",
   "execution_count": 39,
   "metadata": {
    "ExecuteTime": {
     "end_time": "2021-01-07T09:21:05.595035Z",
     "start_time": "2021-01-07T09:21:05.470033Z"
    }
   },
   "outputs": [],
   "source": [
    "movie_dict = {}\n",
    "for i in movies.index:\n",
    "    movie_dict[movies[\"primaryTitle\"][i]] = i \n"
   ]
  },
  {
   "cell_type": "code",
   "execution_count": 40,
   "metadata": {
    "ExecuteTime": {
     "end_time": "2021-01-07T09:21:05.812902Z",
     "start_time": "2021-01-07T09:21:05.791293Z"
    }
   },
   "outputs": [],
   "source": [
    "def recommend_movies(query_string):\n",
    "    ''' Pre-requisites : query_string must only contain \n",
    "    alphabets'''\n",
    "    ''' Function accepts movie name \n",
    "    as query string, first search for \n",
    "    it in the movie dictionary I have \n",
    "    else find the best match\n",
    "    If found then try to calculate the\n",
    "    cosine similarity'''\n",
    "    query = query_string.lower()\n",
    "    query = query.replace(\" \",\"\")\n",
    "    query = query.replace(\"\\\"\",\"\")\n",
    "    query = query.replace(\"\\'\",\"\")\n",
    "    for k in \".:!?&-\":\n",
    "        query = query.replace(k,\"\")\n",
    "    print(query)\n",
    "    \n",
    "    # now look for in the movie dict \n",
    "    if query not in movie_dict:\n",
    "        # calculate the levenshtein distance and get the most similar \n",
    "        # sounding movie name out of your movie list \n",
    "        # rapid fuzz is amazingggggg\n",
    "        best_match = process.extractOne(query,movie_dict.keys())\n",
    "        print(best_match)\n",
    "        if(best_match[1] < 70):\n",
    "            return None\n",
    "        query = best_match[0]\n",
    "    # found the movie in the movie dictionary \n",
    "    ind = movie_dict[query]\n",
    "    sim = cosine[ind] #similarity\n",
    "    ratings = list(movies['weight_average'])# ratings\n",
    "    count = 0\n",
    "    res = []\n",
    "    for i,k in zip(sim,ratings): # /10 to scale it down\n",
    "        if(i!=1):\n",
    "            res.append([count,i*k])\n",
    "        count+=1\n",
    "    res = sorted(res,key=itemgetter(1),reverse= True)\n",
    "    res = res[:12]\n",
    "    random.shuffle(res)\n",
    "    d={}\n",
    "    for k in res:\n",
    "        I = k[0]\n",
    "        d[I] = movies.iloc[I]\n",
    "    df = pd.DataFrame.from_dict(d,orient=\"index\",columns = movies.columns)\n",
    "    return df[['primaryTitle','weight_average']]"
   ]
  },
  {
   "cell_type": "code",
   "execution_count": 208,
   "metadata": {
    "ExecuteTime": {
     "end_time": "2021-01-06T17:26:13.001368Z",
     "start_time": "2021-01-06T17:26:12.966780Z"
    }
   },
   "outputs": [
    {
     "name": "stdout",
     "output_type": "stream",
     "text": [
      "avengerendgame\n",
      "('avengersendgame', 96.55172413793103, 76)\n"
     ]
    },
    {
     "data": {
      "text/html": [
       "<div>\n",
       "<style scoped>\n",
       "    .dataframe tbody tr th:only-of-type {\n",
       "        vertical-align: middle;\n",
       "    }\n",
       "\n",
       "    .dataframe tbody tr th {\n",
       "        vertical-align: top;\n",
       "    }\n",
       "\n",
       "    .dataframe thead th {\n",
       "        text-align: right;\n",
       "    }\n",
       "</style>\n",
       "<table border=\"1\" class=\"dataframe\">\n",
       "  <thead>\n",
       "    <tr style=\"text-align: right;\">\n",
       "      <th></th>\n",
       "      <th>primaryTitle</th>\n",
       "      <th>weight_average</th>\n",
       "    </tr>\n",
       "  </thead>\n",
       "  <tbody>\n",
       "    <tr>\n",
       "      <td>59</td>\n",
       "      <td>ironman</td>\n",
       "      <td>7.829021</td>\n",
       "    </tr>\n",
       "    <tr>\n",
       "      <td>168</td>\n",
       "      <td>thorragnarok</td>\n",
       "      <td>7.791934</td>\n",
       "    </tr>\n",
       "    <tr>\n",
       "      <td>76</td>\n",
       "      <td>avengersendgame</td>\n",
       "      <td>8.258953</td>\n",
       "    </tr>\n",
       "    <tr>\n",
       "      <td>177</td>\n",
       "      <td>sherlockholmes</td>\n",
       "      <td>7.537741</td>\n",
       "    </tr>\n",
       "    <tr>\n",
       "      <td>130</td>\n",
       "      <td>captainamericacivilwar</td>\n",
       "      <td>7.716699</td>\n",
       "    </tr>\n",
       "    <tr>\n",
       "      <td>2364</td>\n",
       "      <td>thehuntsmanwinter'swar</td>\n",
       "      <td>6.660033</td>\n",
       "    </tr>\n",
       "    <tr>\n",
       "      <td>272</td>\n",
       "      <td>zodiac</td>\n",
       "      <td>7.605532</td>\n",
       "    </tr>\n",
       "    <tr>\n",
       "      <td>107</td>\n",
       "      <td>captainamericathewintersoldier</td>\n",
       "      <td>7.636485</td>\n",
       "    </tr>\n",
       "    <tr>\n",
       "      <td>25</td>\n",
       "      <td>theavengers</td>\n",
       "      <td>7.938269</td>\n",
       "    </tr>\n",
       "    <tr>\n",
       "      <td>3570</td>\n",
       "      <td>beforewego</td>\n",
       "      <td>7.058283</td>\n",
       "    </tr>\n",
       "    <tr>\n",
       "      <td>72</td>\n",
       "      <td>avengersinfinitywar</td>\n",
       "      <td>8.263995</td>\n",
       "    </tr>\n",
       "    <tr>\n",
       "      <td>120</td>\n",
       "      <td>avengersageofultron</td>\n",
       "      <td>7.286118</td>\n",
       "    </tr>\n",
       "  </tbody>\n",
       "</table>\n",
       "</div>"
      ],
      "text/plain": [
       "                        primaryTitle  weight_average\n",
       "59                           ironman        7.829021\n",
       "168                     thorragnarok        7.791934\n",
       "76                   avengersendgame        8.258953\n",
       "177                   sherlockholmes        7.537741\n",
       "130           captainamericacivilwar        7.716699\n",
       "2364          thehuntsmanwinter'swar        6.660033\n",
       "272                           zodiac        7.605532\n",
       "107   captainamericathewintersoldier        7.636485\n",
       "25                       theavengers        7.938269\n",
       "3570                      beforewego        7.058283\n",
       "72               avengersinfinitywar        8.263995\n",
       "120              avengersageofultron        7.286118"
      ]
     },
     "execution_count": 208,
     "metadata": {},
     "output_type": "execute_result"
    }
   ],
   "source": [
    "recommend_movies(\"Avenger Endgame  \")"
   ]
  },
  {
   "cell_type": "markdown",
   "metadata": {},
   "source": [
    "## Working Movie recommender :D"
   ]
  },
  {
   "cell_type": "code",
   "execution_count": null,
   "metadata": {},
   "outputs": [],
   "source": []
  }
 ],
 "metadata": {
  "kernelspec": {
   "display_name": "Python 3",
   "language": "python",
   "name": "python3"
  },
  "language_info": {
   "codemirror_mode": {
    "name": "ipython",
    "version": 3
   },
   "file_extension": ".py",
   "mimetype": "text/x-python",
   "name": "python",
   "nbconvert_exporter": "python",
   "pygments_lexer": "ipython3",
   "version": "3.7.4"
  },
  "varInspector": {
   "cols": {
    "lenName": 16,
    "lenType": 16,
    "lenVar": 40
   },
   "kernels_config": {
    "python": {
     "delete_cmd_postfix": "",
     "delete_cmd_prefix": "del ",
     "library": "var_list.py",
     "varRefreshCmd": "print(var_dic_list())"
    },
    "r": {
     "delete_cmd_postfix": ") ",
     "delete_cmd_prefix": "rm(",
     "library": "var_list.r",
     "varRefreshCmd": "cat(var_dic_list()) "
    }
   },
   "types_to_exclude": [
    "module",
    "function",
    "builtin_function_or_method",
    "instance",
    "_Feature"
   ],
   "window_display": false
  }
 },
 "nbformat": 4,
 "nbformat_minor": 2
}

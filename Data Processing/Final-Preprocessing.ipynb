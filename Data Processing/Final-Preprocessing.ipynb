{
 "cells": [
  {
   "cell_type": "markdown",
   "metadata": {
    "ExecuteTime": {
     "end_time": "2021-01-04T15:52:31.160323Z",
     "start_time": "2021-01-04T15:52:28.689675Z"
    },
    "heading_collapsed": true
   },
   "source": [
    "## Some Preprocessing"
   ]
  },
  {
   "cell_type": "code",
   "execution_count": 30,
   "metadata": {
    "ExecuteTime": {
     "end_time": "2021-01-04T16:02:20.396643Z",
     "start_time": "2021-01-04T16:02:20.390696Z"
    },
    "hidden": true
   },
   "outputs": [],
   "source": [
    "import numpy as np\n",
    "import pandas as pd \n",
    "import feather as feather \n",
    "import random as random \n",
    "import os"
   ]
  },
  {
   "cell_type": "code",
   "execution_count": 22,
   "metadata": {
    "ExecuteTime": {
     "end_time": "2021-01-04T15:58:41.788863Z",
     "start_time": "2021-01-04T15:58:41.782281Z"
    },
    "hidden": true
   },
   "outputs": [
    {
     "name": "stdout",
     "output_type": "stream",
     "text": [
      "[WinError 2] The system cannot find the file specified: 'Final DATA'\n",
      "D:\\DATA SCIENCE\\Movie_Recommendation_System\\Final DATA\n"
     ]
    }
   ],
   "source": [
    "%cd \"Final DATA\""
   ]
  },
  {
   "cell_type": "code",
   "execution_count": 101,
   "metadata": {
    "ExecuteTime": {
     "end_time": "2021-01-04T16:28:02.570726Z",
     "start_time": "2021-01-04T16:28:02.261763Z"
    },
    "hidden": true
   },
   "outputs": [],
   "source": [
    "movies = feather.read_dataframe(\"feather/movies\")\n",
    "names = feather.read_dataframe(\"feather/names\")"
   ]
  },
  {
   "cell_type": "code",
   "execution_count": 102,
   "metadata": {
    "ExecuteTime": {
     "end_time": "2021-01-04T16:28:02.766456Z",
     "start_time": "2021-01-04T16:28:02.749502Z"
    },
    "hidden": true
   },
   "outputs": [],
   "source": [
    "movies = movies.drop(\"Unnamed: 0\",axis=1)"
   ]
  },
  {
   "cell_type": "code",
   "execution_count": 103,
   "metadata": {
    "ExecuteTime": {
     "end_time": "2021-01-04T16:28:02.949686Z",
     "start_time": "2021-01-04T16:28:02.934428Z"
    },
    "hidden": true
   },
   "outputs": [],
   "source": [
    "names = names.drop(\"Unnamed: 0\",axis=1)"
   ]
  },
  {
   "cell_type": "markdown",
   "metadata": {
    "heading_collapsed": true
   },
   "source": [
    "## Removing some more columns\n",
    "- **weight_average** is the only metric to be kept for the ranking of the movies\n",
    "- **number of votes** and **average rating** are removed"
   ]
  },
  {
   "cell_type": "code",
   "execution_count": 104,
   "metadata": {
    "ExecuteTime": {
     "end_time": "2021-01-04T16:28:03.137512Z",
     "start_time": "2021-01-04T16:28:03.126096Z"
    },
    "hidden": true
   },
   "outputs": [
    {
     "data": {
      "text/plain": [
       "Index(['tconst', 'titleType', 'primaryTitle', 'isAdult', 'startYear',\n",
       "       'endYear', 'genres', 'averageRating', 'numVotes', 'directors',\n",
       "       'weight_average', 'cast', 'director_name'],\n",
       "      dtype='object')"
      ]
     },
     "execution_count": 104,
     "metadata": {},
     "output_type": "execute_result"
    }
   ],
   "source": [
    "movies.columns"
   ]
  },
  {
   "cell_type": "code",
   "execution_count": 105,
   "metadata": {
    "ExecuteTime": {
     "end_time": "2021-01-04T16:28:03.359934Z",
     "start_time": "2021-01-04T16:28:03.340431Z"
    },
    "hidden": true
   },
   "outputs": [],
   "source": [
    "movies = movies.drop(['averageRating', 'numVotes'],axis=1)"
   ]
  },
  {
   "cell_type": "code",
   "execution_count": 106,
   "metadata": {
    "ExecuteTime": {
     "end_time": "2021-01-04T16:28:03.704713Z",
     "start_time": "2021-01-04T16:28:03.547338Z"
    },
    "hidden": true
   },
   "outputs": [
    {
     "data": {
      "text/html": [
       "<div>\n",
       "<style scoped>\n",
       "    .dataframe tbody tr th:only-of-type {\n",
       "        vertical-align: middle;\n",
       "    }\n",
       "\n",
       "    .dataframe tbody tr th {\n",
       "        vertical-align: top;\n",
       "    }\n",
       "\n",
       "    .dataframe thead th {\n",
       "        text-align: right;\n",
       "    }\n",
       "</style>\n",
       "<table border=\"1\" class=\"dataframe\">\n",
       "  <thead>\n",
       "    <tr style=\"text-align: right;\">\n",
       "      <th></th>\n",
       "      <th>tconst</th>\n",
       "      <th>titleType</th>\n",
       "      <th>primaryTitle</th>\n",
       "      <th>isAdult</th>\n",
       "      <th>startYear</th>\n",
       "      <th>endYear</th>\n",
       "      <th>genres</th>\n",
       "      <th>directors</th>\n",
       "      <th>weight_average</th>\n",
       "      <th>cast</th>\n",
       "      <th>director_name</th>\n",
       "    </tr>\n",
       "  </thead>\n",
       "  <tbody>\n",
       "    <tr>\n",
       "      <td>680</td>\n",
       "      <td>tt4283088</td>\n",
       "      <td>tvEpisode</td>\n",
       "      <td>Battle of the Bastards</td>\n",
       "      <td>0</td>\n",
       "      <td>2016</td>\n",
       "      <td>\\N</td>\n",
       "      <td>Action,Adventure,Drama</td>\n",
       "      <td>nm0764601</td>\n",
       "      <td>8.942253</td>\n",
       "      <td>['Liam Cunningham', 'Peter Dinklage', 'Kit Har...</td>\n",
       "      <td>['Miguel Sapochnik']</td>\n",
       "    </tr>\n",
       "    <tr>\n",
       "      <td>910</td>\n",
       "      <td>tt6027912</td>\n",
       "      <td>tvEpisode</td>\n",
       "      <td>The Long Night</td>\n",
       "      <td>0</td>\n",
       "      <td>2019</td>\n",
       "      <td>\\N</td>\n",
       "      <td>Action,Adventure,Drama</td>\n",
       "      <td>nm0764601</td>\n",
       "      <td>7.328648</td>\n",
       "      <td>['Nikolaj Coster-Waldau', 'Peter Dinklage', 'K...</td>\n",
       "      <td>['Miguel Sapochnik']</td>\n",
       "    </tr>\n",
       "    <tr>\n",
       "      <td>1076</td>\n",
       "      <td>tt4283094</td>\n",
       "      <td>tvEpisode</td>\n",
       "      <td>The Winds of Winter</td>\n",
       "      <td>0</td>\n",
       "      <td>2016</td>\n",
       "      <td>\\N</td>\n",
       "      <td>Action,Adventure,Drama</td>\n",
       "      <td>nm0764601</td>\n",
       "      <td>8.708712</td>\n",
       "      <td>['Lena Headey', 'Nikolaj Coster-Waldau', 'Pete...</td>\n",
       "      <td>['Miguel Sapochnik']</td>\n",
       "    </tr>\n",
       "    <tr>\n",
       "      <td>1160</td>\n",
       "      <td>tt2301451</td>\n",
       "      <td>tvEpisode</td>\n",
       "      <td>Ozymandias</td>\n",
       "      <td>0</td>\n",
       "      <td>2013</td>\n",
       "      <td>\\N</td>\n",
       "      <td>Crime,Drama,Thriller</td>\n",
       "      <td>nm0426059</td>\n",
       "      <td>8.718073</td>\n",
       "      <td>['Bryan Cranston', 'Dean Norris', 'Aaron Paul'...</td>\n",
       "      <td>['Rian Johnson']</td>\n",
       "    </tr>\n",
       "    <tr>\n",
       "      <td>1298</td>\n",
       "      <td>tt6027916</td>\n",
       "      <td>tvEpisode</td>\n",
       "      <td>The Bells</td>\n",
       "      <td>0</td>\n",
       "      <td>2019</td>\n",
       "      <td>\\N</td>\n",
       "      <td>Action,Adventure,Drama</td>\n",
       "      <td>nm0764601</td>\n",
       "      <td>6.430178</td>\n",
       "      <td>['Lena Headey', 'Nikolaj Coster-Waldau', 'Pete...</td>\n",
       "      <td>['Miguel Sapochnik']</td>\n",
       "    </tr>\n",
       "    <tr>\n",
       "      <td>...</td>\n",
       "      <td>...</td>\n",
       "      <td>...</td>\n",
       "      <td>...</td>\n",
       "      <td>...</td>\n",
       "      <td>...</td>\n",
       "      <td>...</td>\n",
       "      <td>...</td>\n",
       "      <td>...</td>\n",
       "      <td>...</td>\n",
       "      <td>...</td>\n",
       "      <td>...</td>\n",
       "    </tr>\n",
       "    <tr>\n",
       "      <td>38496</td>\n",
       "      <td>tt0582675</td>\n",
       "      <td>tvEpisode</td>\n",
       "      <td>I'm with the Band</td>\n",
       "      <td>0</td>\n",
       "      <td>1999</td>\n",
       "      <td>\\N</td>\n",
       "      <td>Comedy,Drama</td>\n",
       "      <td>nm0031976</td>\n",
       "      <td>7.206157</td>\n",
       "      <td>['James Franco', 'Linda Cardellini', 'John Fra...</td>\n",
       "      <td>['Judd Apatow']</td>\n",
       "    </tr>\n",
       "    <tr>\n",
       "      <td>38497</td>\n",
       "      <td>tt0453555</td>\n",
       "      <td>tvEpisode</td>\n",
       "      <td>The Taming of the Shrew</td>\n",
       "      <td>0</td>\n",
       "      <td>2005</td>\n",
       "      <td>\\N</td>\n",
       "      <td>Comedy,Drama,Romance</td>\n",
       "      <td>nm0724047</td>\n",
       "      <td>7.202697</td>\n",
       "      <td>['David Mitchell', 'Simon Chandler', 'Shirley ...</td>\n",
       "      <td>['David Richards']</td>\n",
       "    </tr>\n",
       "    <tr>\n",
       "      <td>38501</td>\n",
       "      <td>tt0702000</td>\n",
       "      <td>tvEpisode</td>\n",
       "      <td>Life's Too Short</td>\n",
       "      <td>0</td>\n",
       "      <td>2001</td>\n",
       "      <td>\\N</td>\n",
       "      <td>Comedy,Drama</td>\n",
       "      <td>nm0687964</td>\n",
       "      <td>7.207257</td>\n",
       "      <td>['Frances Conroy', 'Peter Krause', 'Lauren Amb...</td>\n",
       "      <td>['Jeremy Podeswa']</td>\n",
       "    </tr>\n",
       "    <tr>\n",
       "      <td>38510</td>\n",
       "      <td>tt2476644</td>\n",
       "      <td>tvEpisode</td>\n",
       "      <td>Into the Deep</td>\n",
       "      <td>0</td>\n",
       "      <td>2012</td>\n",
       "      <td>\\N</td>\n",
       "      <td>Adventure,Fantasy,Romance</td>\n",
       "      <td>nm0881038</td>\n",
       "      <td>7.201484</td>\n",
       "      <td>['Jennifer Morrison', 'Lana Parrilla', 'Ginnif...</td>\n",
       "      <td>['Ron Underwood']</td>\n",
       "    </tr>\n",
       "    <tr>\n",
       "      <td>38511</td>\n",
       "      <td>tt4343722</td>\n",
       "      <td>tvEpisode</td>\n",
       "      <td>Do Mail Robots Dream of Electric Sheep?</td>\n",
       "      <td>0</td>\n",
       "      <td>2015</td>\n",
       "      <td>\\N</td>\n",
       "      <td>Crime,Drama,Mystery</td>\n",
       "      <td>nm0931724</td>\n",
       "      <td>7.210408</td>\n",
       "      <td>['Keri Russell', 'Matthew Rhys', 'Annet Mahend...</td>\n",
       "      <td>['Stephen Williams']</td>\n",
       "    </tr>\n",
       "  </tbody>\n",
       "</table>\n",
       "<p>10031 rows × 11 columns</p>\n",
       "</div>"
      ],
      "text/plain": [
       "          tconst  titleType                             primaryTitle  isAdult  \\\n",
       "680    tt4283088  tvEpisode                   Battle of the Bastards        0   \n",
       "910    tt6027912  tvEpisode                           The Long Night        0   \n",
       "1076   tt4283094  tvEpisode                      The Winds of Winter        0   \n",
       "1160   tt2301451  tvEpisode                               Ozymandias        0   \n",
       "1298   tt6027916  tvEpisode                                The Bells        0   \n",
       "...          ...        ...                                      ...      ...   \n",
       "38496  tt0582675  tvEpisode                        I'm with the Band        0   \n",
       "38497  tt0453555  tvEpisode                  The Taming of the Shrew        0   \n",
       "38501  tt0702000  tvEpisode                         Life's Too Short        0   \n",
       "38510  tt2476644  tvEpisode                            Into the Deep        0   \n",
       "38511  tt4343722  tvEpisode  Do Mail Robots Dream of Electric Sheep?        0   \n",
       "\n",
       "       startYear endYear                     genres  directors  \\\n",
       "680         2016      \\N     Action,Adventure,Drama  nm0764601   \n",
       "910         2019      \\N     Action,Adventure,Drama  nm0764601   \n",
       "1076        2016      \\N     Action,Adventure,Drama  nm0764601   \n",
       "1160        2013      \\N       Crime,Drama,Thriller  nm0426059   \n",
       "1298        2019      \\N     Action,Adventure,Drama  nm0764601   \n",
       "...          ...     ...                        ...        ...   \n",
       "38496       1999      \\N               Comedy,Drama  nm0031976   \n",
       "38497       2005      \\N       Comedy,Drama,Romance  nm0724047   \n",
       "38501       2001      \\N               Comedy,Drama  nm0687964   \n",
       "38510       2012      \\N  Adventure,Fantasy,Romance  nm0881038   \n",
       "38511       2015      \\N        Crime,Drama,Mystery  nm0931724   \n",
       "\n",
       "       weight_average                                               cast  \\\n",
       "680          8.942253  ['Liam Cunningham', 'Peter Dinklage', 'Kit Har...   \n",
       "910          7.328648  ['Nikolaj Coster-Waldau', 'Peter Dinklage', 'K...   \n",
       "1076         8.708712  ['Lena Headey', 'Nikolaj Coster-Waldau', 'Pete...   \n",
       "1160         8.718073  ['Bryan Cranston', 'Dean Norris', 'Aaron Paul'...   \n",
       "1298         6.430178  ['Lena Headey', 'Nikolaj Coster-Waldau', 'Pete...   \n",
       "...               ...                                                ...   \n",
       "38496        7.206157  ['James Franco', 'Linda Cardellini', 'John Fra...   \n",
       "38497        7.202697  ['David Mitchell', 'Simon Chandler', 'Shirley ...   \n",
       "38501        7.207257  ['Frances Conroy', 'Peter Krause', 'Lauren Amb...   \n",
       "38510        7.201484  ['Jennifer Morrison', 'Lana Parrilla', 'Ginnif...   \n",
       "38511        7.210408  ['Keri Russell', 'Matthew Rhys', 'Annet Mahend...   \n",
       "\n",
       "              director_name  \n",
       "680    ['Miguel Sapochnik']  \n",
       "910    ['Miguel Sapochnik']  \n",
       "1076   ['Miguel Sapochnik']  \n",
       "1160       ['Rian Johnson']  \n",
       "1298   ['Miguel Sapochnik']  \n",
       "...                     ...  \n",
       "38496       ['Judd Apatow']  \n",
       "38497    ['David Richards']  \n",
       "38501    ['Jeremy Podeswa']  \n",
       "38510     ['Ron Underwood']  \n",
       "38511  ['Stephen Williams']  \n",
       "\n",
       "[10031 rows x 11 columns]"
      ]
     },
     "execution_count": 106,
     "metadata": {},
     "output_type": "execute_result"
    }
   ],
   "source": [
    "movies.loc[movies['titleType']=='tvEpisode']"
   ]
  },
  {
   "cell_type": "markdown",
   "metadata": {
    "heading_collapsed": true,
    "hidden": true
   },
   "source": [
    "### Removing Tv Episodes also\n",
    "- TV episodes are not relevant for this recommendation system\n",
    "- Removing the rows"
   ]
  },
  {
   "cell_type": "code",
   "execution_count": 107,
   "metadata": {
    "ExecuteTime": {
     "end_time": "2021-01-04T16:28:04.927789Z",
     "start_time": "2021-01-04T16:28:03.898275Z"
    },
    "hidden": true
   },
   "outputs": [],
   "source": [
    "ind = []\n",
    "for k in movies.index:\n",
    "    t = movies['titleType'][k]\n",
    "    if t == 'tvEpisode':\n",
    "        ind.append(k)\n",
    "movies = movies.drop(ind,axis=0)"
   ]
  },
  {
   "cell_type": "code",
   "execution_count": 108,
   "metadata": {
    "ExecuteTime": {
     "end_time": "2021-01-04T16:28:05.117314Z",
     "start_time": "2021-01-04T16:28:05.103353Z"
    },
    "hidden": true
   },
   "outputs": [],
   "source": [
    "movies = movies.reset_index(drop=True)"
   ]
  },
  {
   "cell_type": "code",
   "execution_count": 109,
   "metadata": {
    "ExecuteTime": {
     "end_time": "2021-01-04T16:28:05.333639Z",
     "start_time": "2021-01-04T16:28:05.303208Z"
    },
    "hidden": true
   },
   "outputs": [
    {
     "data": {
      "text/html": [
       "<div>\n",
       "<style scoped>\n",
       "    .dataframe tbody tr th:only-of-type {\n",
       "        vertical-align: middle;\n",
       "    }\n",
       "\n",
       "    .dataframe tbody tr th {\n",
       "        vertical-align: top;\n",
       "    }\n",
       "\n",
       "    .dataframe thead th {\n",
       "        text-align: right;\n",
       "    }\n",
       "</style>\n",
       "<table border=\"1\" class=\"dataframe\">\n",
       "  <thead>\n",
       "    <tr style=\"text-align: right;\">\n",
       "      <th></th>\n",
       "      <th>tconst</th>\n",
       "      <th>titleType</th>\n",
       "      <th>primaryTitle</th>\n",
       "      <th>isAdult</th>\n",
       "      <th>startYear</th>\n",
       "      <th>endYear</th>\n",
       "      <th>genres</th>\n",
       "      <th>directors</th>\n",
       "      <th>weight_average</th>\n",
       "      <th>cast</th>\n",
       "      <th>director_name</th>\n",
       "    </tr>\n",
       "  </thead>\n",
       "  <tbody>\n",
       "    <tr>\n",
       "      <td>0</td>\n",
       "      <td>tt0111161</td>\n",
       "      <td>movie</td>\n",
       "      <td>The Shawshank Redemption</td>\n",
       "      <td>0</td>\n",
       "      <td>1994</td>\n",
       "      <td>\\N</td>\n",
       "      <td>Drama</td>\n",
       "      <td>nm0001104</td>\n",
       "      <td>9.209958</td>\n",
       "      <td>['Morgan Freeman', 'Tim Robbins', 'William Sad...</td>\n",
       "      <td>['Frank Darabont']</td>\n",
       "    </tr>\n",
       "    <tr>\n",
       "      <td>1</td>\n",
       "      <td>tt0468569</td>\n",
       "      <td>movie</td>\n",
       "      <td>The Dark Knight</td>\n",
       "      <td>0</td>\n",
       "      <td>2008</td>\n",
       "      <td>\\N</td>\n",
       "      <td>Action,Crime,Drama</td>\n",
       "      <td>nm0634240</td>\n",
       "      <td>8.921540</td>\n",
       "      <td>['Michael Caine', 'Christian Bale', 'Aaron Eck...</td>\n",
       "      <td>['Christopher Nolan']</td>\n",
       "    </tr>\n",
       "    <tr>\n",
       "      <td>2</td>\n",
       "      <td>tt1375666</td>\n",
       "      <td>movie</td>\n",
       "      <td>Inception</td>\n",
       "      <td>0</td>\n",
       "      <td>2010</td>\n",
       "      <td>\\N</td>\n",
       "      <td>Action,Adventure,Sci-Fi</td>\n",
       "      <td>nm0634240</td>\n",
       "      <td>8.722421</td>\n",
       "      <td>['Leonardo DiCaprio', 'Ken Watanabe', 'Joseph ...</td>\n",
       "      <td>['Christopher Nolan']</td>\n",
       "    </tr>\n",
       "    <tr>\n",
       "      <td>3</td>\n",
       "      <td>tt0137523</td>\n",
       "      <td>movie</td>\n",
       "      <td>Fight Club</td>\n",
       "      <td>0</td>\n",
       "      <td>1999</td>\n",
       "      <td>\\N</td>\n",
       "      <td>Drama</td>\n",
       "      <td>nm0000399</td>\n",
       "      <td>8.714213</td>\n",
       "      <td>['Brad Pitt', 'Edward Norton', 'Zach Grenier',...</td>\n",
       "      <td>['David Fincher']</td>\n",
       "    </tr>\n",
       "    <tr>\n",
       "      <td>4</td>\n",
       "      <td>tt0944947</td>\n",
       "      <td>tvSeries</td>\n",
       "      <td>Game of Thrones</td>\n",
       "      <td>0</td>\n",
       "      <td>2011</td>\n",
       "      <td>2019</td>\n",
       "      <td>Action,Adventure,Drama</td>\n",
       "      <td>nm0755261,nm0638354,nm0851930,nm0336241,nm0787...</td>\n",
       "      <td>9.181493</td>\n",
       "      <td>['Iain Glen', 'Lena Headey', 'Nikolaj Coster-W...</td>\n",
       "      <td>['Daniel Sackheim', 'David Nutter', 'Alan Tayl...</td>\n",
       "    </tr>\n",
       "  </tbody>\n",
       "</table>\n",
       "</div>"
      ],
      "text/plain": [
       "      tconst titleType              primaryTitle  isAdult  startYear endYear  \\\n",
       "0  tt0111161     movie  The Shawshank Redemption        0       1994      \\N   \n",
       "1  tt0468569     movie           The Dark Knight        0       2008      \\N   \n",
       "2  tt1375666     movie                 Inception        0       2010      \\N   \n",
       "3  tt0137523     movie                Fight Club        0       1999      \\N   \n",
       "4  tt0944947  tvSeries           Game of Thrones        0       2011    2019   \n",
       "\n",
       "                    genres                                          directors  \\\n",
       "0                    Drama                                          nm0001104   \n",
       "1       Action,Crime,Drama                                          nm0634240   \n",
       "2  Action,Adventure,Sci-Fi                                          nm0634240   \n",
       "3                    Drama                                          nm0000399   \n",
       "4   Action,Adventure,Drama  nm0755261,nm0638354,nm0851930,nm0336241,nm0787...   \n",
       "\n",
       "   weight_average                                               cast  \\\n",
       "0        9.209958  ['Morgan Freeman', 'Tim Robbins', 'William Sad...   \n",
       "1        8.921540  ['Michael Caine', 'Christian Bale', 'Aaron Eck...   \n",
       "2        8.722421  ['Leonardo DiCaprio', 'Ken Watanabe', 'Joseph ...   \n",
       "3        8.714213  ['Brad Pitt', 'Edward Norton', 'Zach Grenier',...   \n",
       "4        9.181493  ['Iain Glen', 'Lena Headey', 'Nikolaj Coster-W...   \n",
       "\n",
       "                                       director_name  \n",
       "0                                 ['Frank Darabont']  \n",
       "1                              ['Christopher Nolan']  \n",
       "2                              ['Christopher Nolan']  \n",
       "3                                  ['David Fincher']  \n",
       "4  ['Daniel Sackheim', 'David Nutter', 'Alan Tayl...  "
      ]
     },
     "execution_count": 109,
     "metadata": {},
     "output_type": "execute_result"
    }
   ],
   "source": [
    "movies.head()"
   ]
  },
  {
   "cell_type": "code",
   "execution_count": 110,
   "metadata": {
    "ExecuteTime": {
     "end_time": "2021-01-04T16:28:13.495604Z",
     "start_time": "2021-01-04T16:28:13.481642Z"
    },
    "hidden": true
   },
   "outputs": [
    {
     "data": {
      "text/html": [
       "<div>\n",
       "<style scoped>\n",
       "    .dataframe tbody tr th:only-of-type {\n",
       "        vertical-align: middle;\n",
       "    }\n",
       "\n",
       "    .dataframe tbody tr th {\n",
       "        vertical-align: top;\n",
       "    }\n",
       "\n",
       "    .dataframe thead th {\n",
       "        text-align: right;\n",
       "    }\n",
       "</style>\n",
       "<table border=\"1\" class=\"dataframe\">\n",
       "  <thead>\n",
       "    <tr style=\"text-align: right;\">\n",
       "      <th></th>\n",
       "      <th>nconst</th>\n",
       "      <th>primaryName</th>\n",
       "      <th>knownForTitles</th>\n",
       "    </tr>\n",
       "  </thead>\n",
       "  <tbody>\n",
       "    <tr>\n",
       "      <td>0</td>\n",
       "      <td>nm0005690</td>\n",
       "      <td>William K.L. Dickson</td>\n",
       "      <td>tt0219560,tt1496763,tt1428455,tt0308254</td>\n",
       "    </tr>\n",
       "    <tr>\n",
       "      <td>1</td>\n",
       "      <td>nm0721526</td>\n",
       "      <td>Émile Reynaud</td>\n",
       "      <td>tt0413219,tt2184201,tt2184231,tt0000003</td>\n",
       "    </tr>\n",
       "    <tr>\n",
       "      <td>2</td>\n",
       "      <td>nm5442194</td>\n",
       "      <td>Julien Pappé</td>\n",
       "      <td>tt0000003</td>\n",
       "    </tr>\n",
       "    <tr>\n",
       "      <td>3</td>\n",
       "      <td>nm0443482</td>\n",
       "      <td>Charles Kayser</td>\n",
       "      <td>tt0000005</td>\n",
       "    </tr>\n",
       "    <tr>\n",
       "      <td>4</td>\n",
       "      <td>nm0653042</td>\n",
       "      <td>John Ott</td>\n",
       "      <td>tt0000005</td>\n",
       "    </tr>\n",
       "  </tbody>\n",
       "</table>\n",
       "</div>"
      ],
      "text/plain": [
       "      nconst           primaryName                           knownForTitles\n",
       "0  nm0005690  William K.L. Dickson  tt0219560,tt1496763,tt1428455,tt0308254\n",
       "1  nm0721526         Émile Reynaud  tt0413219,tt2184201,tt2184231,tt0000003\n",
       "2  nm5442194          Julien Pappé                                tt0000003\n",
       "3  nm0443482        Charles Kayser                                tt0000005\n",
       "4  nm0653042              John Ott                                tt0000005"
      ]
     },
     "execution_count": 110,
     "metadata": {},
     "output_type": "execute_result"
    }
   ],
   "source": [
    "names.head()"
   ]
  },
  {
   "cell_type": "markdown",
   "metadata": {
    "heading_collapsed": true
   },
   "source": [
    "## Saving everything in lower case "
   ]
  },
  {
   "cell_type": "code",
   "execution_count": 111,
   "metadata": {
    "ExecuteTime": {
     "end_time": "2021-01-04T16:28:18.331613Z",
     "start_time": "2021-01-04T16:28:18.015423Z"
    },
    "hidden": true
   },
   "outputs": [],
   "source": [
    "movies = movies.applymap(lambda s: s.lower() if type(s)==str else s)"
   ]
  },
  {
   "cell_type": "code",
   "execution_count": 115,
   "metadata": {
    "ExecuteTime": {
     "end_time": "2021-01-04T16:31:48.178409Z",
     "start_time": "2021-01-04T16:31:47.904914Z"
    },
    "hidden": true
   },
   "outputs": [],
   "source": [
    "names = names.applymap(lambda s: s.lower() if type(s)== str else s)"
   ]
  },
  {
   "cell_type": "markdown",
   "metadata": {
    "ExecuteTime": {
     "end_time": "2021-01-04T16:27:00.932819Z",
     "start_time": "2021-01-04T16:27:00.911788Z"
    },
    "heading_collapsed": true
   },
   "source": [
    "## Removing brackets for efficient split of names"
   ]
  },
  {
   "cell_type": "code",
   "execution_count": 112,
   "metadata": {
    "ExecuteTime": {
     "end_time": "2021-01-04T16:30:16.997346Z",
     "start_time": "2021-01-04T16:30:16.956436Z"
    },
    "hidden": true
   },
   "outputs": [],
   "source": [
    "movies['director_name'] = movies['director_name'].apply(lambda s:s[1:-1])\n",
    "movies['cast'] = movies['cast'].apply(lambda s: s[1:-1])"
   ]
  },
  {
   "cell_type": "code",
   "execution_count": 116,
   "metadata": {
    "ExecuteTime": {
     "end_time": "2021-01-04T16:31:54.170861Z",
     "start_time": "2021-01-04T16:31:54.162170Z"
    },
    "hidden": true
   },
   "outputs": [
    {
     "data": {
      "text/plain": [
       "[\"'laurence fishburne'\",\n",
       " \" 'keanu reeves'\",\n",
       " \" 'hugo weaving'\",\n",
       " \" 'carrie-anne moss'\"]"
      ]
     },
     "execution_count": 116,
     "metadata": {},
     "output_type": "execute_result"
    }
   ],
   "source": [
    "movies['cast'][10].split(',')"
   ]
  },
  {
   "cell_type": "markdown",
   "metadata": {
    "heading_collapsed": true
   },
   "source": [
    "## Finalised"
   ]
  },
  {
   "cell_type": "code",
   "execution_count": 117,
   "metadata": {
    "ExecuteTime": {
     "end_time": "2021-01-04T16:32:14.840885Z",
     "start_time": "2021-01-04T16:32:14.824931Z"
    },
    "hidden": true
   },
   "outputs": [
    {
     "data": {
      "text/html": [
       "<div>\n",
       "<style scoped>\n",
       "    .dataframe tbody tr th:only-of-type {\n",
       "        vertical-align: middle;\n",
       "    }\n",
       "\n",
       "    .dataframe tbody tr th {\n",
       "        vertical-align: top;\n",
       "    }\n",
       "\n",
       "    .dataframe thead th {\n",
       "        text-align: right;\n",
       "    }\n",
       "</style>\n",
       "<table border=\"1\" class=\"dataframe\">\n",
       "  <thead>\n",
       "    <tr style=\"text-align: right;\">\n",
       "      <th></th>\n",
       "      <th>tconst</th>\n",
       "      <th>titleType</th>\n",
       "      <th>primaryTitle</th>\n",
       "      <th>isAdult</th>\n",
       "      <th>startYear</th>\n",
       "      <th>endYear</th>\n",
       "      <th>genres</th>\n",
       "      <th>directors</th>\n",
       "      <th>weight_average</th>\n",
       "      <th>cast</th>\n",
       "      <th>director_name</th>\n",
       "    </tr>\n",
       "  </thead>\n",
       "  <tbody>\n",
       "    <tr>\n",
       "      <td>0</td>\n",
       "      <td>tt0111161</td>\n",
       "      <td>movie</td>\n",
       "      <td>the shawshank redemption</td>\n",
       "      <td>0</td>\n",
       "      <td>1994</td>\n",
       "      <td>\\n</td>\n",
       "      <td>drama</td>\n",
       "      <td>nm0001104</td>\n",
       "      <td>9.209958</td>\n",
       "      <td>'morgan freeman', 'tim robbins', 'william sadl...</td>\n",
       "      <td>'frank darabont'</td>\n",
       "    </tr>\n",
       "    <tr>\n",
       "      <td>1</td>\n",
       "      <td>tt0468569</td>\n",
       "      <td>movie</td>\n",
       "      <td>the dark knight</td>\n",
       "      <td>0</td>\n",
       "      <td>2008</td>\n",
       "      <td>\\n</td>\n",
       "      <td>action,crime,drama</td>\n",
       "      <td>nm0634240</td>\n",
       "      <td>8.921540</td>\n",
       "      <td>'michael caine', 'christian bale', 'aaron eckh...</td>\n",
       "      <td>'christopher nolan'</td>\n",
       "    </tr>\n",
       "    <tr>\n",
       "      <td>2</td>\n",
       "      <td>tt1375666</td>\n",
       "      <td>movie</td>\n",
       "      <td>inception</td>\n",
       "      <td>0</td>\n",
       "      <td>2010</td>\n",
       "      <td>\\n</td>\n",
       "      <td>action,adventure,sci-fi</td>\n",
       "      <td>nm0634240</td>\n",
       "      <td>8.722421</td>\n",
       "      <td>'leonardo dicaprio', 'ken watanabe', 'joseph g...</td>\n",
       "      <td>'christopher nolan'</td>\n",
       "    </tr>\n",
       "    <tr>\n",
       "      <td>3</td>\n",
       "      <td>tt0137523</td>\n",
       "      <td>movie</td>\n",
       "      <td>fight club</td>\n",
       "      <td>0</td>\n",
       "      <td>1999</td>\n",
       "      <td>\\n</td>\n",
       "      <td>drama</td>\n",
       "      <td>nm0000399</td>\n",
       "      <td>8.714213</td>\n",
       "      <td>'brad pitt', 'edward norton', 'zach grenier', ...</td>\n",
       "      <td>'david fincher'</td>\n",
       "    </tr>\n",
       "    <tr>\n",
       "      <td>4</td>\n",
       "      <td>tt0944947</td>\n",
       "      <td>tvseries</td>\n",
       "      <td>game of thrones</td>\n",
       "      <td>0</td>\n",
       "      <td>2011</td>\n",
       "      <td>2019</td>\n",
       "      <td>action,adventure,drama</td>\n",
       "      <td>nm0755261,nm0638354,nm0851930,nm0336241,nm0787...</td>\n",
       "      <td>9.181493</td>\n",
       "      <td>'iain glen', 'lena headey', 'nikolaj coster-wa...</td>\n",
       "      <td>'daniel sackheim', 'david nutter', 'alan taylo...</td>\n",
       "    </tr>\n",
       "  </tbody>\n",
       "</table>\n",
       "</div>"
      ],
      "text/plain": [
       "      tconst titleType              primaryTitle  isAdult  startYear endYear  \\\n",
       "0  tt0111161     movie  the shawshank redemption        0       1994      \\n   \n",
       "1  tt0468569     movie           the dark knight        0       2008      \\n   \n",
       "2  tt1375666     movie                 inception        0       2010      \\n   \n",
       "3  tt0137523     movie                fight club        0       1999      \\n   \n",
       "4  tt0944947  tvseries           game of thrones        0       2011    2019   \n",
       "\n",
       "                    genres                                          directors  \\\n",
       "0                    drama                                          nm0001104   \n",
       "1       action,crime,drama                                          nm0634240   \n",
       "2  action,adventure,sci-fi                                          nm0634240   \n",
       "3                    drama                                          nm0000399   \n",
       "4   action,adventure,drama  nm0755261,nm0638354,nm0851930,nm0336241,nm0787...   \n",
       "\n",
       "   weight_average                                               cast  \\\n",
       "0        9.209958  'morgan freeman', 'tim robbins', 'william sadl...   \n",
       "1        8.921540  'michael caine', 'christian bale', 'aaron eckh...   \n",
       "2        8.722421  'leonardo dicaprio', 'ken watanabe', 'joseph g...   \n",
       "3        8.714213  'brad pitt', 'edward norton', 'zach grenier', ...   \n",
       "4        9.181493  'iain glen', 'lena headey', 'nikolaj coster-wa...   \n",
       "\n",
       "                                       director_name  \n",
       "0                                   'frank darabont'  \n",
       "1                                'christopher nolan'  \n",
       "2                                'christopher nolan'  \n",
       "3                                    'david fincher'  \n",
       "4  'daniel sackheim', 'david nutter', 'alan taylo...  "
      ]
     },
     "execution_count": 117,
     "metadata": {},
     "output_type": "execute_result"
    }
   ],
   "source": [
    "movies.head()"
   ]
  },
  {
   "cell_type": "code",
   "execution_count": 118,
   "metadata": {
    "ExecuteTime": {
     "end_time": "2021-01-04T16:40:43.558030Z",
     "start_time": "2021-01-04T16:40:43.544001Z"
    },
    "hidden": true
   },
   "outputs": [
    {
     "data": {
      "text/html": [
       "<div>\n",
       "<style scoped>\n",
       "    .dataframe tbody tr th:only-of-type {\n",
       "        vertical-align: middle;\n",
       "    }\n",
       "\n",
       "    .dataframe tbody tr th {\n",
       "        vertical-align: top;\n",
       "    }\n",
       "\n",
       "    .dataframe thead th {\n",
       "        text-align: right;\n",
       "    }\n",
       "</style>\n",
       "<table border=\"1\" class=\"dataframe\">\n",
       "  <thead>\n",
       "    <tr style=\"text-align: right;\">\n",
       "      <th></th>\n",
       "      <th>nconst</th>\n",
       "      <th>primaryName</th>\n",
       "      <th>knownForTitles</th>\n",
       "    </tr>\n",
       "  </thead>\n",
       "  <tbody>\n",
       "    <tr>\n",
       "      <td>0</td>\n",
       "      <td>nm0005690</td>\n",
       "      <td>william k.l. dickson</td>\n",
       "      <td>tt0219560,tt1496763,tt1428455,tt0308254</td>\n",
       "    </tr>\n",
       "    <tr>\n",
       "      <td>1</td>\n",
       "      <td>nm0721526</td>\n",
       "      <td>émile reynaud</td>\n",
       "      <td>tt0413219,tt2184201,tt2184231,tt0000003</td>\n",
       "    </tr>\n",
       "    <tr>\n",
       "      <td>2</td>\n",
       "      <td>nm5442194</td>\n",
       "      <td>julien pappé</td>\n",
       "      <td>tt0000003</td>\n",
       "    </tr>\n",
       "    <tr>\n",
       "      <td>3</td>\n",
       "      <td>nm0443482</td>\n",
       "      <td>charles kayser</td>\n",
       "      <td>tt0000005</td>\n",
       "    </tr>\n",
       "    <tr>\n",
       "      <td>4</td>\n",
       "      <td>nm0653042</td>\n",
       "      <td>john ott</td>\n",
       "      <td>tt0000005</td>\n",
       "    </tr>\n",
       "  </tbody>\n",
       "</table>\n",
       "</div>"
      ],
      "text/plain": [
       "      nconst           primaryName                           knownForTitles\n",
       "0  nm0005690  william k.l. dickson  tt0219560,tt1496763,tt1428455,tt0308254\n",
       "1  nm0721526         émile reynaud  tt0413219,tt2184201,tt2184231,tt0000003\n",
       "2  nm5442194          julien pappé                                tt0000003\n",
       "3  nm0443482        charles kayser                                tt0000005\n",
       "4  nm0653042              john ott                                tt0000005"
      ]
     },
     "execution_count": 118,
     "metadata": {},
     "output_type": "execute_result"
    }
   ],
   "source": [
    "names.head()"
   ]
  },
  {
   "cell_type": "code",
   "execution_count": 120,
   "metadata": {
    "ExecuteTime": {
     "end_time": "2021-01-04T16:41:49.237274Z",
     "start_time": "2021-01-04T16:41:49.014242Z"
    },
    "hidden": true
   },
   "outputs": [],
   "source": [
    "movies.to_feather(\"feather/movies\")\n",
    "names.to_feather(\"feather/names\")"
   ]
  },
  {
   "cell_type": "markdown",
   "metadata": {
    "heading_collapsed": true
   },
   "source": [
    "## Done."
   ]
  }
 ],
 "metadata": {
  "kernelspec": {
   "display_name": "Python 3",
   "language": "python",
   "name": "python3"
  },
  "language_info": {
   "codemirror_mode": {
    "name": "ipython",
    "version": 3
   },
   "file_extension": ".py",
   "mimetype": "text/x-python",
   "name": "python",
   "nbconvert_exporter": "python",
   "pygments_lexer": "ipython3",
   "version": "3.7.4"
  },
  "varInspector": {
   "cols": {
    "lenName": 16,
    "lenType": 16,
    "lenVar": 40
   },
   "kernels_config": {
    "python": {
     "delete_cmd_postfix": "",
     "delete_cmd_prefix": "del ",
     "library": "var_list.py",
     "varRefreshCmd": "print(var_dic_list())"
    },
    "r": {
     "delete_cmd_postfix": ") ",
     "delete_cmd_prefix": "rm(",
     "library": "var_list.r",
     "varRefreshCmd": "cat(var_dic_list()) "
    }
   },
   "types_to_exclude": [
    "module",
    "function",
    "builtin_function_or_method",
    "instance",
    "_Feature"
   ],
   "window_display": false
  }
 },
 "nbformat": 4,
 "nbformat_minor": 2
}
